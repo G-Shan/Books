{
 "cells": [
  {
   "cell_type": "code",
   "execution_count": 29,
   "metadata": {},
   "outputs": [
    {
     "name": "stdout",
     "output_type": "stream",
     "text": [
      "\n",
      "Topics We study in this chapter are:\n",
      " \t 1) Module\n",
      " \t 2) Classes\n",
      " \t 3) o\n",
      " \t 4) p\n",
      " \t 5) s\n",
      " \t 6) s\n",
      "\n"
     ]
    }
   ],
   "source": [
    "Topics_In_3 = \"\"\"\n",
    "Topics We study in this chapter are:\n",
    " \\t 1) Module\n",
    " \\t 2) Classes\n",
    " \\t 3) o\n",
    " \\t 4) p\n",
    " \\t 5) s\n",
    " \\t 6) s\n",
    "\"\"\"\n",
    "print(Topics_In_3)"
   ]
  },
  {
   "cell_type": "code",
   "execution_count": 30,
   "metadata": {},
   "outputs": [
    {
     "data": {
      "text/plain": [
       "'C:\\\\Users\\\\sohail.ahmad\\\\Desktop\\\\LPTHW\\\\dir'"
      ]
     },
     "execution_count": 30,
     "metadata": {},
     "output_type": "execute_result"
    }
   ],
   "source": [
    "import os\n",
    "os.getcwd()"
   ]
  },
  {
   "cell_type": "code",
   "execution_count": 31,
   "metadata": {},
   "outputs": [
    {
     "name": "stdout",
     "output_type": "stream",
     "text": [
      "C:\\Users\\sohail.ahmad\\Desktop\\LPTHW\\dir\n"
     ]
    }
   ],
   "source": [
    "# CHange my working directory \n",
    "%cd \"C:\\\\Users\\\\sohail.ahmad\\\\Desktop\\\\LPTHW\\\\dir\""
   ]
  },
  {
   "cell_type": "code",
   "execution_count": 32,
   "metadata": {},
   "outputs": [
    {
     "name": "stdout",
     "output_type": "stream",
     "text": [
      "I'm apples, man!\n",
      "Life is meaningless\n"
     ]
    },
    {
     "data": {
      "text/plain": [
       "\"\\nmystuff['apple'] # get apple from dict\\nmystuff.apple() # get apple from the module\\nmystuff.tangerine # same thing, it's just a variable. Notice there is paranthesis after the variable\\n\\nIn the case of the dictionary, the key is a string and the syntax is [key]. In the case of the module, thevkey is an identifier,\\nand the syntax is .key. Other than that Module & Dict are nearly the same thing.\\nAlso with a function we use braces (). With a variables (tangerine here) we dont use braces\\n\\n\""
      ]
     },
     "execution_count": 32,
     "metadata": {},
     "output_type": "execute_result"
    }
   ],
   "source": [
    "# Here we have saved a file as mystuff.py using below thre lines which has a function apple and a variable tangerine\n",
    "#def apple():\n",
    "#  print(\"I'm apples, man!\")\n",
    "#tangerine = \"Life is meaningless\"\n",
    "\n",
    "\n",
    "import mystuff\n",
    "mystuff.apple()\n",
    "print(mystuff.tangerine)\n",
    "mystuff.tangerine\n",
    "\n",
    "\"\"\"\n",
    "mystuff['apple'] # get apple from dict\n",
    "mystuff.apple() # get apple from the module\n",
    "mystuff.tangerine # same thing, it's just a variable. Notice there is paranthesis after the variable\n",
    "\n",
    "In the case of the dictionary, the key is a string and the syntax is [key]. In the case of the module, thevkey is an identifier,\n",
    "and the syntax is .key. Other than that Module & Dict are nearly the same thing.\n",
    "Also with a function we use braces (). With a variables (tangerine here) we dont use braces\n",
    "\n",
    "\"\"\"\n"
   ]
  },
  {
   "cell_type": "code",
   "execution_count": 33,
   "metadata": {},
   "outputs": [
    {
     "name": "stdout",
     "output_type": "stream",
     "text": [
      "I'm classy apples, lolcat!\n",
      "And now life is meaningless without coding\n"
     ]
    }
   ],
   "source": [
    "\"\"\"\n",
    "How doe classes work and why they're diff from modules or dictionaries:\n",
    "• Classes are like blueprints or definitions for creating new mini-modules.\n",
    "• Instantiation is how you make one of these mini-modules and import it at the same time. ”Instantiate”\n",
    "just means to create an object from the class.\n",
    "• The resulting created mini-module is called an object, and you then assign it to a variable to work with it.\n",
    "\"\"\"\n",
    "\n",
    "class MyStuff(object):\n",
    "\n",
    "    def __init__(self):\n",
    "        self.tangerine = \"And now life is meaningless without coding\"\n",
    "\n",
    "\n",
    "    def apple(self):\n",
    "        print(\"I'm classy apples, lolcat!\")\n",
    "\n",
    "\n",
    "thing = MyStuff()  #This is intantiate a class. similar to calling a funcion in a module\n",
    "thing.apple()\n",
    "print(thing.tangerine)\n"
   ]
  },
  {
   "cell_type": "code",
   "execution_count": 34,
   "metadata": {},
   "outputs": [
    {
     "data": {
      "text/plain": [
       "\"\\nGetting things from a thing\\n# dict style\\nmystuff['apples']\\n\\n# module style\\nmystuff.apples()\\nprint(mystuff.tangerine)\\n\\n# class style\\nthing = MyStuff()\\nthing.apples()\\nprint(thing.tangerine)\\n\\n\""
      ]
     },
     "execution_count": 34,
     "metadata": {},
     "output_type": "execute_result"
    }
   ],
   "source": [
    "\"\"\"\n",
    "Getting things from a thing\n",
    "# dict style\n",
    "mystuff['apples']\n",
    "\n",
    "# module style\n",
    "mystuff.apples()\n",
    "print(mystuff.tangerine)\n",
    "\n",
    "# class style\n",
    "thing = MyStuff()\n",
    "thing.apples()\n",
    "print(thing.tangerine)\n",
    "\n",
    "\"\"\""
   ]
  },
  {
   "cell_type": "code",
   "execution_count": 35,
   "metadata": {},
   "outputs": [
    {
     "name": "stdout",
     "output_type": "stream",
     "text": [
      "Python is good!\n",
      "Programming is bad\n",
      "Life is sad w/o Python\n",
      "\n",
      "\n",
      "I have no idea what's I am doing.\n",
      "Just following the instructions here tbh.\n"
     ]
    }
   ],
   "source": [
    "\n",
    "class Song(object):\n",
    "\n",
    "\n",
    "    def __init__(self, lyrics):\n",
    "        self.lyrics = lyrics\n",
    "\n",
    "    def sing_me_a_song(self):\n",
    "        for line in self.lyrics:\n",
    "            print(line)\n",
    "\n",
    "# Here we pass a list of string as a lyrics\n",
    "happy_bday = Song([\"Python is good!\",\n",
    "                    \"Programming is bad\",\n",
    "                    \"Life is sad w/o Python\"])\n",
    "\n",
    "ayy_lmao = Song([\"I have no idea what's I am doing.\",\n",
    "                 \"Just following the instructions here tbh.\"])\n",
    "\n",
    "happy_bday.sing_me_a_song()\n",
    "print(\"\\n\")\n",
    "ayy_lmao.sing_me_a_song()\n"
   ]
  },
  {
   "cell_type": "code",
   "execution_count": 37,
   "metadata": {},
   "outputs": [
    {
     "name": "stdout",
     "output_type": "stream",
     "text": [
      "['Okay', 'Not Sure', \"Let's see\"]\n",
      "['Babe dont leave me', 'dont kill my vibe']\n"
     ]
    }
   ],
   "source": [
    "happy1 = [\"Okay\", \"Not Sure\", \"Let's see\"]\n",
    "happy2 = [\"Babe dont leave me\", \"dont kill my vibe\"]\n",
    "disc = [happy1, happy2]\n",
    "disc2 = Song(disc)\n",
    "disc2.sing_me_a_song()"
   ]
  },
  {
   "cell_type": "code",
   "execution_count": null,
   "metadata": {},
   "outputs": [],
   "source": []
  },
  {
   "cell_type": "code",
   "execution_count": null,
   "metadata": {},
   "outputs": [],
   "source": []
  }
 ],
 "metadata": {
  "kernelspec": {
   "display_name": "Python 3",
   "language": "python",
   "name": "python3"
  },
  "language_info": {
   "codemirror_mode": {
    "name": "ipython",
    "version": 3
   },
   "file_extension": ".py",
   "mimetype": "text/x-python",
   "name": "python",
   "nbconvert_exporter": "python",
   "pygments_lexer": "ipython3",
   "version": "3.6.5"
  }
 },
 "nbformat": 4,
 "nbformat_minor": 2
}
