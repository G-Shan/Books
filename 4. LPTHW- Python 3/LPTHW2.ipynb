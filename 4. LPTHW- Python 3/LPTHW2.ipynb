{
 "cells": [
  {
   "cell_type": "code",
   "execution_count": 1,
   "metadata": {},
   "outputs": [
    {
     "name": "stdout",
     "output_type": "stream",
     "text": [
      "\n",
      "Topics We study in this chapter are:\n",
      " \t 1) IF ELSE and ELIF\n",
      " \t 2) Lists\n",
      " \t 3) For Loop\n",
      " \t 4) While Loop\n",
      " \t 5) Branches and Functions\n",
      " \t 6) Dictionaries\n",
      "\n"
     ]
    }
   ],
   "source": [
    "Topics_In_2 = \"\"\"\n",
    "Topics We study in this chapter are:\n",
    " \\t 1) IF ELSE and ELIF\n",
    " \\t 2) Lists\n",
    " \\t 3) For Loop\n",
    " \\t 4) While Loop\n",
    " \\t 5) Branches and Functions\n",
    " \\t 6) Dictionaries\n",
    "\"\"\"\n",
    "print(Topics_In_2)"
   ]
  },
  {
   "cell_type": "code",
   "execution_count": 2,
   "metadata": {},
   "outputs": [
    {
     "data": {
      "text/plain": [
       "'C:\\\\Users\\\\sohail.ahmad\\\\Downloads'"
      ]
     },
     "execution_count": 2,
     "metadata": {},
     "output_type": "execute_result"
    }
   ],
   "source": [
    "import os\n",
    "os.getcwd()"
   ]
  },
  {
   "cell_type": "code",
   "execution_count": 3,
   "metadata": {},
   "outputs": [
    {
     "name": "stdout",
     "output_type": "stream",
     "text": [
      "C:\\Users\\sohail.ahmad\\Desktop\\LPTHW\\dir\n"
     ]
    }
   ],
   "source": [
    "# CHange my working directory \n",
    "%cd \"C:\\\\Users\\\\sohail.ahmad\\\\Desktop\\\\LPTHW\\\\dir\""
   ]
  },
  {
   "cell_type": "code",
   "execution_count": 4,
   "metadata": {},
   "outputs": [],
   "source": [
    "# List of files in the current directory\n",
    "#os.listdir() # We can give the link inside a brack if we want list of files inside a directory"
   ]
  },
  {
   "cell_type": "code",
   "execution_count": 5,
   "metadata": {},
   "outputs": [
    {
     "name": "stdout",
     "output_type": "stream",
     "text": [
      "You enter a dark room with two doorsself.\n",
      "DO you go through door #1 or door #2?\n",
      "> 1\n",
      "There's a giant bear here eating a cheese cake.\n",
      "What do you do?\n",
      "1. Take the cake.\n",
      "2. SCream at the bear.\n",
      "> 1\n",
      "The bear eats your face off. Good job!\n"
     ]
    }
   ],
   "source": [
    "\n",
    "print(\"\"\"You enter a dark room with two doorsself.\n",
    "DO you go through door #1 or door #2?\"\"\")\n",
    "\n",
    "door = input(\"> \")\n",
    "\n",
    "if door == \"1\":\n",
    "    print(\"There's a giant bear here eating a cheese cake.\")\n",
    "    print(\"What do you do?\")\n",
    "    print(\"1. Take the cake.\")\n",
    "    print(\"2. SCream at the bear.\")\n",
    "\n",
    "    bear = input(\"> \")\n",
    "\n",
    "    if bear == \"1\":\n",
    "        print(\"The bear eats your face off. Good job!\")\n",
    "    elif bear == \"2\":\n",
    "        print(\"The bear easts your legs off. Good Job!\")\n",
    "    else:\n",
    "        print(f\"Well, doing {bear} is probably better\")\n",
    "        print(\"Bear runs away.\")\n",
    "\n",
    "\n",
    "elif door == \"2\":\n",
    "    print(\"You stare into the endless abyss at cthulhu's retina.\")\n",
    "    print(\"1. Blueberries.\")\n",
    "    print(\"2, Yellow jacket clothespins.\")\n",
    "    print(\"3. Understanding revolvers yelling melodies.\")\n",
    "\n",
    "    insanity = input(\"> \")\n",
    "\n",
    "    if insanity == \"1\" or insanity == \"2\":\n",
    "        print(\"Your body survives powered by a mind of jello.\")\n",
    "        print(\"Good job!\")\n",
    "\n",
    "    else:\n",
    "        print(\"The insanity rots your eyes into a pool\")\n",
    "        print(\"Good job!\")\n",
    "\n",
    "\n",
    "else:\n",
    "    print(\"You stumble around and fall on a knife and die. Good job!\")\n",
    "\n"
   ]
  },
  {
   "cell_type": "code",
   "execution_count": 6,
   "metadata": {},
   "outputs": [],
   "source": [
    "### LISTS    ########\n",
    "\n",
    "hairs = [\"brown\", \"blond\", \"red\"]\n",
    "eyes = [\"brown\", \"blue\", \"green\"]\n",
    "weights = [1, 2, 3, 4]\n",
    "\n",
    "the_count = [1, 2, 3, 4]\n",
    "fruits = [\"apples\", \"oranges\", \"pears\", \"apricots\"]\n",
    "change = [1, \"pennies\", 2, \"dimes\", 3, \"quarters\"]\n",
    "\n",
    "# We can also build lists, first start with an empty one\n",
    "elements = []\n"
   ]
  },
  {
   "cell_type": "code",
   "execution_count": 7,
   "metadata": {},
   "outputs": [
    {
     "name": "stdout",
     "output_type": "stream",
     "text": [
      "This is count 1\n",
      "This is count 2\n",
      "This is count 3\n",
      "This is count 4\n"
     ]
    }
   ],
   "source": [
    "# This first kind of for-loop goes through a list\n",
    "for number in the_count:\n",
    "    print(f\"This is count {number}\")"
   ]
  },
  {
   "cell_type": "code",
   "execution_count": 8,
   "metadata": {},
   "outputs": [
    {
     "name": "stdout",
     "output_type": "stream",
     "text": [
      "A fruit of type: apples\n",
      "A fruit of type: oranges\n",
      "A fruit of type: pears\n",
      "A fruit of type: apricots\n"
     ]
    }
   ],
   "source": [
    "# same as above\n",
    "for fruit in fruits:\n",
    "    print(f\"A fruit of type: {fruit}\")"
   ]
  },
  {
   "cell_type": "code",
   "execution_count": 9,
   "metadata": {},
   "outputs": [
    {
     "name": "stdout",
     "output_type": "stream",
     "text": [
      "I got 1\n",
      "I got pennies\n",
      "I got 2\n",
      "I got dimes\n",
      "I got 3\n",
      "I got quarters\n"
     ]
    }
   ],
   "source": [
    "# also we can go through mixed lists too. notice we have to use {} since we dont know whats in it\n",
    "for i in change:\n",
    "    print(f\"I got {i}\")"
   ]
  },
  {
   "cell_type": "code",
   "execution_count": 10,
   "metadata": {},
   "outputs": [
    {
     "name": "stdout",
     "output_type": "stream",
     "text": [
      "Adding 0 to the list.\n",
      "Adding 1 to the list.\n",
      "Adding 2 to the list.\n",
      "Adding 3 to the list.\n",
      "Adding 4 to the list.\n",
      "Adding 5 to the list.\n"
     ]
    }
   ],
   "source": [
    "# then use the range function to do 0 to 5 counts\n",
    "for i in range(0, 6):\n",
    "    print(f\"Adding {i} to the list.\")\n",
    "    elements.append(i) # append is a function that lists understand"
   ]
  },
  {
   "cell_type": "code",
   "execution_count": 11,
   "metadata": {},
   "outputs": [
    {
     "name": "stdout",
     "output_type": "stream",
     "text": [
      "Elements was: 0\n",
      "Elements was: 1\n",
      "Elements was: 2\n",
      "Elements was: 3\n",
      "Elements was: 4\n",
      "Elements was: 5\n"
     ]
    }
   ],
   "source": [
    "# Now we can print them out too\n",
    "for i in elements:\n",
    "    print(f\"Elements was: {i}\")\n"
   ]
  },
  {
   "cell_type": "code",
   "execution_count": 12,
   "metadata": {},
   "outputs": [
    {
     "name": "stdout",
     "output_type": "stream",
     "text": [
      "Adding [0, 1, 2, 3, 4, 5] to the list\n"
     ]
    }
   ],
   "source": [
    "lmao = [0, 1, 2, 3, 4, 5]\n",
    "elem = []\n",
    "print(f\"Adding {lmao} to the list\")\n",
    "elem.append(lmao)"
   ]
  },
  {
   "cell_type": "code",
   "execution_count": 13,
   "metadata": {},
   "outputs": [
    {
     "name": "stdout",
     "output_type": "stream",
     "text": [
      "At the top i is 0\n",
      "Numbers now: [0]\n",
      "At the bottom is 1\n",
      "At the top i is 1\n",
      "Numbers now: [0, 1]\n",
      "At the bottom is 2\n",
      "At the top i is 2\n",
      "Numbers now: [0, 1, 2]\n",
      "At the bottom is 3\n",
      "At the top i is 3\n",
      "Numbers now: [0, 1, 2, 3]\n",
      "At the bottom is 4\n",
      "At the top i is 4\n",
      "Numbers now: [0, 1, 2, 3, 4]\n",
      "At the bottom is 5\n",
      "At the top i is 5\n",
      "Numbers now: [0, 1, 2, 3, 4, 5]\n",
      "At the bottom is 6\n",
      "The numbers: \n",
      "0\n",
      "1\n",
      "2\n",
      "3\n",
      "4\n",
      "5\n"
     ]
    },
    {
     "data": {
      "text/plain": [
       "'    \\n# We can write the above while loop code in for loop as well like this\\nkek = []\\nfor i in range(0,6):\\n        print(\"The number at the top is:\", i)\\n        kek.append(i)\\n        print(\"Numbers now:\", kek)\\n        print(\"At the bottom is:\", i+1)\\n\\nprint(\"The numbers:\")\\nfor i in kek:\\n    print(i)\\n'"
      ]
     },
     "execution_count": 13,
     "metadata": {},
     "output_type": "execute_result"
    }
   ],
   "source": [
    "# While loop example\n",
    "i = 0\n",
    "numbers = []\n",
    "\n",
    "while i < 6:\n",
    "    print(f\"At the top i is {i}\")\n",
    "    numbers.append(i)\n",
    "\n",
    "    i = i+1\n",
    "\n",
    "    print(\"Numbers now:\", numbers)\n",
    "    print(f\"At the bottom is {i}\")\n",
    "\n",
    "print(\"The numbers: \")\n",
    "for num in numbers:\n",
    "    print(num)\n",
    "\n",
    "    \n",
    "\"\"\"    \n",
    "# We can write the above while loop code in for loop as well like this\n",
    "kek = []\n",
    "for i in range(0,6):\n",
    "        print(\"The number at the top is:\", i)\n",
    "        kek.append(i)\n",
    "        print(\"Numbers now:\", kek)\n",
    "        print(\"At the bottom is:\", i+1)\n",
    "\n",
    "print(\"The numbers:\")\n",
    "for i in kek:\n",
    "    print(i)\n",
    "\"\"\""
   ]
  },
  {
   "cell_type": "code",
   "execution_count": 14,
   "metadata": {},
   "outputs": [
    {
     "name": "stdout",
     "output_type": "stream",
     "text": [
      "The number at the top is: 0\n",
      "Numbers now: [0]\n",
      "At the bottom is: 2\n",
      "The number at the top is: 2\n",
      "Numbers now: [0, 2]\n",
      "At the bottom is: 4\n",
      "The number at the top is: 4\n",
      "Numbers now: [0, 2, 4]\n",
      "At the bottom is: 6\n",
      "The numbers:\n",
      "0\n",
      "2\n",
      "4\n"
     ]
    }
   ],
   "source": [
    "#######   FOr Loop Example   ############\n",
    "\n",
    "# It will give an increment of 2\n",
    "kek1 = []\n",
    "for i in range(0,6,2):\n",
    "        print(\"The number at the top is:\", i)\n",
    "        kek1.append(i)\n",
    "        print(\"Numbers now:\", kek1)\n",
    "        print(\"At the bottom is:\", i+2)\n",
    "\n",
    "print(\"The numbers:\")\n",
    "for top in kek1:\n",
    "    print(top)"
   ]
  },
  {
   "cell_type": "code",
   "execution_count": 15,
   "metadata": {},
   "outputs": [
    {
     "name": "stdout",
     "output_type": "stream",
     "text": [
      "The 1st animal is at 0 and is: bear\n",
      "The 2nd animal is at 1 and is: python3.6\n",
      "The 3rd animal is at 2 and is: peacock\n",
      "The 4th animal is at 3 and is: kangaroo\n",
      "The 5th animal is at 4 and is: whale\n",
      "The 6th animal is at 5 and is: platypus\n"
     ]
    }
   ],
   "source": [
    "animals = ['bear', 'python3.6', 'peacock', 'kangaroo', 'whale', 'platypus']\n",
    "\n",
    "# For each of these, write out a full sentence of the form: ”The first (1st) animal is at 0 and is a bear.” Then\n",
    "# say it backwards: ”The animal at 0 is the 1st animal and is a bear.”\n",
    "\n",
    "\n",
    "okay = ['1st', '2nd', '3rd', '4th', '5th', '6th']\n",
    "\n",
    "def anime(animals, okay, i):\n",
    "    print(f\"The \" + okay[i]+ \" animal is at \"+ str(i)+ \" and is:\", animals[i])\n",
    "\n",
    "for i in range(len(okay)):\n",
    "    anime(animals, okay, i)\n",
    "    \n",
    "\n",
    "\n"
   ]
  },
  {
   "cell_type": "code",
   "execution_count": 16,
   "metadata": {},
   "outputs": [
    {
     "data": {
      "text/plain": [
       "'\\n#from sys import exit\\n\\ndef gold_room():\\n    print(\"This room is full of gold. How much do you take?\")\\n\\n    choice = input(\"> \")\\n    if \"0\" in choice or \"1\" in choice:\\n        how_much = int(choice)\\n    else:\\n        dead(\"Man, learn to type a number.\")\\n\\n    if how_much < 50:\\n        print(\"Nice, you\\'re not greedy, you win.\")\\n        exit(0)\\n    else:\\n        dead(\"You greedy bastard!\")\\n\\n\\ndef bear_room():\\n    print(\"There is a bear here.\")\\n    print(\"The bear has bunch of honey.\")\\n    print(\"The fat bear is in front of another door.\")\\n    print(\"How are you going to move the bear?\")\\n    bear_moved = False\\n\\n    while True:\\n        choice = input(\"> \")\\n\\n        if choice == \"take honey\":\\n            dead(\"The bear looks at you then slaps your face off.\")\\n        elif choice == \"taunt bear\" and not bear_moved:\\n            print(\"The bear has moved from the door\")\\n            print(\"You can go through it now.\")\\n            bear_moved = True\\n        elif choice == \"taunt bear\" and bear_moved:\\n            dead(\"The bear gets pissed off and chews your ass off.\")\\n        elif choice == \"open door\" and bear_moved:\\n            gold_room()\\n        else:\\n            print(\"I got no idea what that means\")\\n\\n\\ndef cthulhu_room():\\n    print(\"Here you see the great evil cthulhu!\")\\n    print(\"He, it, whatever stares at you and you go insane.\")\\n    print(\"DO you flee for your life or eat at your head.\")\\n\\n    choice = input(\"> \")\\n\\n    if \"flee\" in choice:\\n        start()\\n    elif \"head\" in choice:\\n        dead(\"Well that was tasty!\")\\n    else:\\n        cthulhu_room()\\n\\n\\ndef dead(why):\\n    print(why, \"Good job!\")\\n    exit(0)\\n\\ndef start():\\n    print(\"You\\'re in a dark room\")\\n    print(\"There is a door to your right and left. \")\\n    print(\"WHich one do you take?\")\\n\\n\\n    choice = input(\"> \")\\n\\n    if choice == \"left\":\\n        bear_room()\\n    elif choice == \"right\":\\n        cthulhu_room()\\n    else:\\n        dead(\"You stubmle around the room until you starve.\")\\n\\nstart()\\n'"
      ]
     },
     "execution_count": 16,
     "metadata": {},
     "output_type": "execute_result"
    }
   ],
   "source": [
    "\n",
    "##################          BRANCHES AND FUNCTIONS       ##########################\n",
    "\"\"\"\n",
    "#from sys import exit\n",
    "\n",
    "def gold_room():\n",
    "    print(\"This room is full of gold. How much do you take?\")\n",
    "\n",
    "    choice = input(\"> \")\n",
    "    if \"0\" in choice or \"1\" in choice:\n",
    "        how_much = int(choice)\n",
    "    else:\n",
    "        dead(\"Man, learn to type a number.\")\n",
    "\n",
    "    if how_much < 50:\n",
    "        print(\"Nice, you're not greedy, you win.\")\n",
    "        exit(0)\n",
    "    else:\n",
    "        dead(\"You greedy bastard!\")\n",
    "\n",
    "\n",
    "def bear_room():\n",
    "    print(\"There is a bear here.\")\n",
    "    print(\"The bear has bunch of honey.\")\n",
    "    print(\"The fat bear is in front of another door.\")\n",
    "    print(\"How are you going to move the bear?\")\n",
    "    bear_moved = False\n",
    "\n",
    "    while True:\n",
    "        choice = input(\"> \")\n",
    "\n",
    "        if choice == \"take honey\":\n",
    "            dead(\"The bear looks at you then slaps your face off.\")\n",
    "        elif choice == \"taunt bear\" and not bear_moved:\n",
    "            print(\"The bear has moved from the door\")\n",
    "            print(\"You can go through it now.\")\n",
    "            bear_moved = True\n",
    "        elif choice == \"taunt bear\" and bear_moved:\n",
    "            dead(\"The bear gets pissed off and chews your ass off.\")\n",
    "        elif choice == \"open door\" and bear_moved:\n",
    "            gold_room()\n",
    "        else:\n",
    "            print(\"I got no idea what that means\")\n",
    "\n",
    "\n",
    "def cthulhu_room():\n",
    "    print(\"Here you see the great evil cthulhu!\")\n",
    "    print(\"He, it, whatever stares at you and you go insane.\")\n",
    "    print(\"DO you flee for your life or eat at your head.\")\n",
    "\n",
    "    choice = input(\"> \")\n",
    "\n",
    "    if \"flee\" in choice:\n",
    "        start()\n",
    "    elif \"head\" in choice:\n",
    "        dead(\"Well that was tasty!\")\n",
    "    else:\n",
    "        cthulhu_room()\n",
    "\n",
    "\n",
    "def dead(why):\n",
    "    print(why, \"Good job!\")\n",
    "    exit(0)\n",
    "\n",
    "def start():\n",
    "    print(\"You're in a dark room\")\n",
    "    print(\"There is a door to your right and left. \")\n",
    "    print(\"WHich one do you take?\")\n",
    "\n",
    "\n",
    "    choice = input(\"> \")\n",
    "\n",
    "    if choice == \"left\":\n",
    "        bear_room()\n",
    "    elif choice == \"right\":\n",
    "        cthulhu_room()\n",
    "    else:\n",
    "        dead(\"You stubmle around the room until you starve.\")\n",
    "\n",
    "start()\n",
    "\"\"\""
   ]
  },
  {
   "cell_type": "code",
   "execution_count": 17,
   "metadata": {},
   "outputs": [
    {
     "name": "stdout",
     "output_type": "stream",
     "text": [
      "Wait there are not 10 things in that list. Let's fix that.\n",
      "Adding: Boy\n",
      "There are 7 items now.\n",
      "Adding: Girl\n",
      "There are 8 items now.\n",
      "Adding: Banana\n",
      "There are 9 items now.\n",
      "Adding: Corn\n",
      "There are 10 items now.\n",
      "There we go: ['Apples', 'Oranges', 'Crows', 'Telephone', 'Light', 'Sugar', 'Boy', 'Girl', 'Banana', 'Corn']\n",
      "let's do some things and stuff.\n"
     ]
    },
    {
     "data": {
      "text/plain": [
       "\"\\nprint(stuff[1]) # Print the element with 1 index\\nprint(stuff[-1]) # Print the last element from the stuff list\\nprint(stuff.pop()) ## Here pop() would print the last element  and remove this element from STUFF list\\nprint(' '.join(stuff)) # All elements of stuff would be joined back it with a space between each element\\nprint('#'.join(stuff[3:5])) #Here we join the 3rd and 4th element with a hash. it will be Telephone#Light\\n\""
      ]
     },
     "execution_count": 17,
     "metadata": {},
     "output_type": "execute_result"
    }
   ],
   "source": [
    "# Exercise 38\n",
    "\n",
    "\n",
    "ten_things = \"Apples Oranges Crows Telephone Light Sugar\"\n",
    "\n",
    "print(\"Wait there are not 10 things in that list. Let's fix that.\")\n",
    "\n",
    "# This will split the object of ten_things. Spilliting would be done on the basis of space and a comma would be added to make the split\n",
    "stuff = ten_things.split(' ')\n",
    "\n",
    "more_stuff = [\"Day\", \"Night\", \"Song\", \"Frisbee\", \"Corn\", \"Banana\", \"Girl\", \"Boy\"]\n",
    "\n",
    "# Here inside the loop, next_one will have last element of more_stuff and this element would be removed from more_stuff. Now\n",
    "# this will keep go on until stuff length would be equal to 10\n",
    "while len(stuff) != 10:\n",
    "    next_one = more_stuff.pop()\n",
    "    print(\"Adding:\", next_one)\n",
    "    stuff.append(next_one)\n",
    "    print(f\"There are {len(stuff)} items now.\")\n",
    "\n",
    "print(\"There we go:\", stuff)\n",
    "\n",
    "print(\"let's do some things and stuff.\")\n",
    "\n",
    "\"\"\"\n",
    "print(stuff[1]) # Print the element with 1 index\n",
    "print(stuff[-1]) # Print the last element from the stuff list\n",
    "print(stuff.pop()) ## Here pop() would print the last element  and remove this element from STUFF list\n",
    "print(' '.join(stuff)) # All elements of stuff would be joined back it with a space between each element\n",
    "print('#'.join(stuff[3:5])) #Here we join the 3rd and 4th element with a hash. it will be Telephone#Light\n",
    "\"\"\"\n",
    "\n"
   ]
  },
  {
   "cell_type": "code",
   "execution_count": 18,
   "metadata": {},
   "outputs": [
    {
     "name": "stdout",
     "output_type": "stream",
     "text": [
      "b\n",
      "z\n"
     ]
    },
    {
     "data": {
      "text/plain": [
       "['a', 'z', 'c', 'd']"
      ]
     },
     "execution_count": 18,
     "metadata": {},
     "output_type": "execute_result"
    }
   ],
   "source": [
    "######  Exercise 39  Dictionaries  ##########\n",
    "\n",
    "\"\"\"\n",
    "Dictionary is an unordered set of key and value pair. It is a container that contains data, enclosed within curly braces. The\n",
    "pair i.e., key and value is known as item. The key passed in the item must be unique.\n",
    "The key and the value is separated by a colon(:). This pair is known as item. Items are separated from each other by\n",
    "a comma(,). Different items are enclosed within a curly brace and this forms Dictionary.\n",
    "\n",
    "\"\"\"\n",
    "\n",
    "\n",
    "\n",
    "# Here we can access a list element through index. We can also replace the element of a list with its index\n",
    "# Howeever unlike dictionaries, we can only use numbers to get elements from a list\n",
    "things = ['a', 'b', 'c', 'd']\n",
    "print(things[1])\n",
    "\n",
    "things[1] = 'z' # Here we replace b with z\n",
    "print(things[1]) # The list would have elements as ['a', 'z', 'c', 'd']\n",
    "\n",
    "things\n",
    "\n"
   ]
  },
  {
   "cell_type": "code",
   "execution_count": 19,
   "metadata": {},
   "outputs": [
    {
     "name": "stdout",
     "output_type": "stream",
     "text": [
      "Sohail\n",
      "SF\n",
      "New dictionary is: {'Name': 'Sohail', 'Age': 39, 'Height': 74, 'city': 'SF', 1: 'Sweet'}.\n",
      "Now dictionary is: {'Name': 'Sohail', 'Age': 39, 'Height': 74, 'city': 'SF'}.\n",
      "Final dict is : {'Name': 'Sohail', 'Age': 39, 'Height': 74}.\n"
     ]
    }
   ],
   "source": [
    "# Creating a dictionary stuff2. We can access elements of dict using string. We can also add new element with string or numbers\n",
    "\n",
    "\"\"\"\n",
    "Notes about dictionary:-\n",
    "•Dictionary is mutable i.e., value can be updated. \n",
    "•Key must be unique and immutable. Value is accessed by key. Value can be updated while key cannot be changed.\n",
    "•Dictionary is known as Associative array since the Key works as Index and they are decided by the user.\n",
    "\n",
    "\"\"\"\n",
    "\n",
    "\n",
    "stuff2 = {'Name': 'Sohail', 'Age' : 39, 'Height': 6*12+2}\n",
    "print(stuff2['Name'])\n",
    "\n",
    "\n",
    "# We can add new keys in the dictionary. This will add 'city': 'SF'\n",
    "stuff2['city'] = \"SF\"\n",
    "print(stuff2['city'])\n",
    "\n",
    "# It will add another key where 1:Sweet\n",
    "stuff2[1] = \"Sweet\"\n",
    "print(f\"New dictionary is: {stuff2}.\")\n",
    "\n",
    "# We can also delete elements\n",
    "del stuff2[1]\n",
    "print(f\"Now dictionary is: {stuff2}.\")\n",
    "del stuff2['city']\n",
    "print(f\"Final dict is : {stuff2}.\")\n"
   ]
  },
  {
   "cell_type": "code",
   "execution_count": 20,
   "metadata": {},
   "outputs": [
    {
     "name": "stdout",
     "output_type": "stream",
     "text": [
      "__________\n",
      "Ny State has: New NewYork\n",
      "OR State has: Portland\n",
      "__________\n",
      "Michigan's abbreviation is: MI\n",
      "Florida has: JacksonVille\n",
      "__________\n",
      "Oregan has the abbreviated OR!!!\n",
      "Florida has the abbreviated FL!!!\n",
      "California has the abbreviated CA!!!\n",
      "New York has the abbreviated NY!!!\n",
      "Michigan has the abbreviated MI!!!\n",
      "\n",
      "\n",
      "-_-_-_-_-_-_-_-_-_-_\n",
      "CA has the city San Fransisco..\n",
      "MI has the city Detroit..\n",
      "FL has the city JacksonVille..\n",
      "NY has the city New NewYork..\n",
      "OR has the city Portland..\n",
      "\n",
      "\n",
      "_!_!_!_!_!_!_!_!_!_!\n",
      "Oregan stata is abbreviated OR!1!\n",
      "and has city Portland..\n",
      "Florida stata is abbreviated FL!1!\n",
      "and has city JacksonVille..\n",
      "California stata is abbreviated CA!1!\n",
      "and has city San Fransisco..\n",
      "New York stata is abbreviated NY!1!\n",
      "and has city New NewYork..\n",
      "Michigan stata is abbreviated MI!1!\n",
      "and has city Detroit..\n",
      "\n",
      "\n",
      "_.__.__.__.__.__.__.__.__.__._\n",
      "Sorry, no Texas.\n",
      "FL\n",
      "Not found honey!\n",
      "The city for the state 'TX' is: does not exist.\n"
     ]
    }
   ],
   "source": [
    "\n",
    "# Creating a mapping of state to abbreviation\n",
    "states = {\n",
    "  'Oregan': 'OR',\n",
    "  'Florida': 'FL',\n",
    "  'California': 'CA',\n",
    "  'New York': 'NY',\n",
    "  'Michigan': 'MI'\n",
    "}\n",
    "\n",
    "# Create a set of states and some cities in them\n",
    "cities = {\n",
    "  'CA': 'San Fransisco',\n",
    "  'MI': 'Detroit',\n",
    "  'FL': 'JacksonVille'\n",
    "}\n",
    "\n",
    "# Add some more cities\n",
    "cities['NY'] = 'New NewYork'\n",
    "cities['OR'] = 'Portland'\n",
    "\n",
    "# print out some cities\n",
    "print('_' * 10)\n",
    "print(\"Ny State has:\", cities['NY'])\n",
    "print(\"OR State has:\", cities['OR'])\n",
    "\n",
    "\n",
    "# Print some states\n",
    "print('_' * 10)\n",
    "print(\"Michigan's abbreviation is:\", states['Michigan'])\n",
    "print(\"Florida has:\", cities[states['Florida']])\n",
    "\n",
    "\n",
    "# We can access keys & elements of a dict using states.items(). using list(states.items()), we can get them as a list\n",
    "# We can also get the keys of the dict using states.keys()\n",
    "\n",
    "\n",
    "# Here we run a for loop where state is for key and abbrev is for element. Here we use two items (state, abbrev) because\n",
    "# list(states.items()) would print the values as a pair (key & its element).\n",
    "# Print every state abbreviation\n",
    "print('_' * 10)\n",
    "for state, abbrev in list(states.items()):\n",
    "    print(f\"{state} has the abbreviated {abbrev}!!!\")\n",
    "\n",
    "print(\"\\n\")\n",
    "\n",
    "# Print every city in states\n",
    "print('-_' * 10)\n",
    "for kek, city in list(cities.items()):\n",
    "    print(f\"{kek} has the city {city}..\")\n",
    "\n",
    "print(\"\\n\")\n",
    "    \n",
    "# Now do both at the same time\n",
    "print('_!' * 10)\n",
    "for state, abbrev in list(states.items()):\n",
    "    print(f\"{state} stata is abbreviated {abbrev}!1!\")\n",
    "    print(f\"and has city {cities[abbrev]}..\")\n",
    "\n",
    "\n",
    "print(\"\\n\")\n",
    "\n",
    "#get() method returns the value for the given key, if present in the dictionary. If not, then it will return None\n",
    "print('_._' * 10)\n",
    "#safely get an abbreviation by state thta might not be There\n",
    "state = states.get('Texas')\n",
    "if not state:\n",
    "    print(\"Sorry, no Texas.\")\n",
    "\n",
    "\n",
    "# Morex example of get() function\n",
    "print(states.get(\"Florida\")) # It will print the element for florida key\n",
    "print(states.get(\"Bihar\", \"Not found honey!\")) # Print the elelment for Bihar key. If its not there, print \"not found honey\"\n",
    "    \n",
    "# Get a city with a default value\n",
    "city = cities.get('TX', \"does not exist.\") #if TX is present then return its value. if not then return \"does not exist\"\n",
    "print(f\"The city for the state 'TX' is: {city}\")\n"
   ]
  },
  {
   "cell_type": "code",
   "execution_count": null,
   "metadata": {},
   "outputs": [],
   "source": []
  }
 ],
 "metadata": {
  "kernelspec": {
   "display_name": "Python 3",
   "language": "python",
   "name": "python3"
  },
  "language_info": {
   "codemirror_mode": {
    "name": "ipython",
    "version": 3
   },
   "file_extension": ".py",
   "mimetype": "text/x-python",
   "name": "python",
   "nbconvert_exporter": "python",
   "pygments_lexer": "ipython3",
   "version": "3.6.5"
  }
 },
 "nbformat": 4,
 "nbformat_minor": 2
}
