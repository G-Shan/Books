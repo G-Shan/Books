{
 "cells": [
  {
   "cell_type": "code",
   "execution_count": 2,
   "metadata": {},
   "outputs": [
    {
     "name": "stdout",
     "output_type": "stream",
     "text": [
      "\n",
      "Topics We study in this chapter are:\n",
      " \t 1) Curly Bracket and f formatting\n",
      " \t 2) Escape Keys\n",
      " \t 3) Input Fucntion in Python 3\n",
      " \t 4) How to define a function using def\n",
      " \t 5) Importing a file in Python and using its functions\n",
      "\n",
      "\n"
     ]
    }
   ],
   "source": [
    "Topics_Here = \"\"\"\n",
    "Topics We study in this chapter are:\n",
    " \\t 1) Curly Bracket and f formatting\n",
    " \\t 2) Escape Keys\n",
    " \\t 3) Input Fucntion in Python 3\n",
    " \\t 4) How to define a function using def\n",
    " \\t 5) Importing a file in Python and using its functions\n",
    "\n",
    "\"\"\"\n",
    "print(Topics_Here)"
   ]
  },
  {
   "cell_type": "code",
   "execution_count": 3,
   "metadata": {},
   "outputs": [
    {
     "data": {
      "text/plain": [
       "'C:\\\\Users\\\\sohail.ahmad\\\\Downloads'"
      ]
     },
     "execution_count": 3,
     "metadata": {},
     "output_type": "execute_result"
    }
   ],
   "source": [
    "import os\n",
    "os.getcwd()"
   ]
  },
  {
   "cell_type": "code",
   "execution_count": 4,
   "metadata": {},
   "outputs": [
    {
     "name": "stdout",
     "output_type": "stream",
     "text": [
      "C:\\Users\\sohail.ahmad\\Desktop\\LPTHW\\dir\n"
     ]
    }
   ],
   "source": [
    "# CHange my working directory \n",
    "%cd \"C:\\\\Users\\\\sohail.ahmad\\\\Desktop\\\\LPTHW\\\\dir\""
   ]
  },
  {
   "cell_type": "code",
   "execution_count": 5,
   "metadata": {},
   "outputs": [
    {
     "data": {
      "text/plain": [
       "['Ayyo',\n",
       " 'AyyoLmao',\n",
       " 'ex1.py',\n",
       " 'ex10.py',\n",
       " 'ex11.py',\n",
       " 'ex12.py',\n",
       " 'ex13.py',\n",
       " 'ex14.py',\n",
       " 'ex15a.py',\n",
       " 'ex15_sample.txt',\n",
       " 'ex16.py',\n",
       " 'ex17.py',\n",
       " 'ex18.py',\n",
       " 'ex19.py',\n",
       " 'ex2.py',\n",
       " 'ex20.py',\n",
       " 'ex20_test.txt',\n",
       " 'ex21.py',\n",
       " 'ex23.py',\n",
       " 'ex24.py',\n",
       " 'ex25.py',\n",
       " 'ex26.py',\n",
       " 'ex29.py',\n",
       " 'ex3.py',\n",
       " 'ex31.py',\n",
       " 'ex32.py',\n",
       " 'ex33.py',\n",
       " 'ex34.py',\n",
       " 'ex35.py',\n",
       " 'ex37 List.py',\n",
       " 'ex38 Dictionary.py',\n",
       " 'ex39 Dictionary More.py',\n",
       " 'ex4.py',\n",
       " 'ex40.py',\n",
       " 'ex41.py',\n",
       " 'ex5.py',\n",
       " 'ex6.py',\n",
       " 'ex7.py',\n",
       " 'ex8.py',\n",
       " 'ex9.py',\n",
       " 'GoodFile',\n",
       " 'lamo',\n",
       " 'languages.txt',\n",
       " 'mystuff.py',\n",
       " 'Okay',\n",
       " 'test.txt',\n",
       " '__pycache__']"
      ]
     },
     "execution_count": 5,
     "metadata": {},
     "output_type": "execute_result"
    }
   ],
   "source": [
    "# List of files in the current directory\n",
    "os.listdir() # We can give the link inside a brack if we want list of files inside a directory"
   ]
  },
  {
   "cell_type": "code",
   "execution_count": 6,
   "metadata": {},
   "outputs": [
    {
     "name": "stdout",
     "output_type": "stream",
     "text": [
      "Let's talk about Zed A. Shaw.\n",
      "If I add 35, and 74, I get total 109.\n",
      "Its fleece was white as snow.\n"
     ]
    }
   ],
   "source": [
    "# In this bloc will learn how to make strings that have variables embedded in them. You embed variables inside a string by using\n",
    "# a special {} sequence and then put the variable you want inside the {} characters. You also must start the string with the\n",
    "# letter f for ”format”, as in f\"Hello {somevar}\". This little f before the \" (double-quote) and the {} characters tell \n",
    "# Python 3, ”Hey, this string needs to be formatted. Put these variables in there.”\n",
    "\n",
    "\n",
    "my_name = 'Zed A. Shaw'\n",
    "my_age = 35 #not a like\n",
    "my_height = 74 #inches\n",
    "print(f\"Let's talk about {my_name}.\")\n",
    "\n",
    "# This line is tricky, try to get exactly right\n",
    "total = my_age + my_height\n",
    "print(f\"If I add {my_age}, and {my_height}, I get total {total}.\")\n",
    "\n",
    "\n",
    "# Alternatively we can use this synatx as well. \n",
    "print(\"Its fleece was white as {}.\" .format(\"snow\"))"
   ]
  },
  {
   "cell_type": "code",
   "execution_count": 7,
   "metadata": {},
   "outputs": [
    {
     "name": "stdout",
     "output_type": "stream",
     "text": [
      "Here are the days: Mon Tues Wed Thu Fri Sat Sun\n",
      "Here are the months: Jan\n",
      "Feb\n",
      "Mar\n",
      "Apr\n",
      "May\n",
      "Jun\n",
      "Jul\n",
      "Aug\n",
      "\n",
      "There's something going on here.\n",
      "With the three double-quotes.\n",
      "We'll be able to type as much as we like.\n",
      "\n"
     ]
    }
   ],
   "source": [
    "###  ESCAPE KEYS. THIS BLOCK AND THE NEXT BLOC\n",
    "\n",
    "# Here is some strange stuff\n",
    "days = \"Mon Tues Wed Thu Fri Sat Sun\"\n",
    "\n",
    "# forward slash and n (\\n) would print each month in a new row\n",
    "months = \"Jan\\nFeb\\nMar\\nApr\\nMay\\nJun\\nJul\\nAug\"\n",
    "\n",
    "print(\"Here are the days:\", days) # Days would be printed in the same line\n",
    "print(\"Here are the months:\", months) # Months would be printed in new line for each month\n",
    "\n",
    "# three commas are used to print anything as much as we want.\n",
    "print(\"\"\"\n",
    "There's something going on here.\n",
    "With the three double-quotes.\n",
    "We'll be able to type as much as we like.\n",
    "\"\"\"\n",
    "     )"
   ]
  },
  {
   "cell_type": "code",
   "execution_count": 8,
   "metadata": {},
   "outputs": [
    {
     "name": "stdout",
     "output_type": "stream",
     "text": [
      "\tI'm tabbed in.\n",
      "I'm split\n",
      "on a line.\n",
      "I'm \\ a \\ cat.\n",
      "\n",
      "I'll do a list:\n",
      "\t* Cat food\n",
      "\t* Fishies\n",
      "\n"
     ]
    }
   ],
   "source": [
    "### MORE ESCAPE KEY EXAMPLES\n",
    "\n",
    "\n",
    "# \\t would create a tab space.\n",
    "tabby_cat = \"\\tI'm tabbed in.\"\n",
    "\n",
    "# \\n would print \"on a line\" in a new row below\n",
    "persian_cat = \"I'm split\\non a line.\"\n",
    "\n",
    "backslash_cat = \"I'm \\\\ a \\\\ cat.\"\n",
    "\n",
    "# \\t* would create list with new line and use astetick as new points\n",
    "fat_cat = \"\"\"\n",
    "I'll do a list:\n",
    "\\t* Cat food\n",
    "\\t* Fishies\n",
    "\"\"\"\n",
    "\n",
    "print(tabby_cat)\n",
    "print(persian_cat)\n",
    "print(backslash_cat)\n",
    "print(fat_cat)\n"
   ]
  },
  {
   "cell_type": "code",
   "execution_count": 9,
   "metadata": {},
   "outputs": [
    {
     "name": "stdout",
     "output_type": "stream",
     "text": [
      "How old are you? 26\n"
     ]
    }
   ],
   "source": [
    "# INPUT FUNCTION IN PYTHON 3\n",
    "\n",
    "# input() function in python3 asks user input and then print it. In python2, it is raw_input(). When we give the input 22, it\n",
    "# would then print “How old are you? 22”. We put a end=' ' at the end of each print line. This tells print to not end the line\n",
    "# with a newline character and go to the next line. \n",
    "\n",
    "print(\"How old are you?\", end = ' ')\n",
    "age = input()\n",
    "\n"
   ]
  },
  {
   "cell_type": "code",
   "execution_count": 10,
   "metadata": {},
   "outputs": [
    {
     "name": "stdout",
     "output_type": "stream",
     "text": [
      "How old are you?26\n",
      "your age is 26.\n"
     ]
    }
   ],
   "source": [
    "# Alternatively we can put the rest of the string inside input itsel and save in age object\n",
    "age = input(\"How old are you?\")\n",
    "print(f\"your age is {age}.\")"
   ]
  },
  {
   "cell_type": "code",
   "execution_count": 11,
   "metadata": {},
   "outputs": [
    {
     "name": "stdout",
     "output_type": "stream",
     "text": [
      "THis script is called: C:\\Users\\sohail.ahmad\\AppData\\Local\\Continuum\\anaconda3\\lib\\site-packages\\ipykernel_launcher.py\n",
      "your first variable is: -f\n",
      "Your second variable is: C:\\Users\\sohail.ahmad\\AppData\\Roaming\\jupyter\\runtime\\kernel-878946ce-266f-42ff-b5b2-c6dd272a6e2f.json\n"
     ]
    }
   ],
   "source": [
    " # argv and input() are input values. argv is used input for command line while input() is used in the code block itself.\n",
    "\n",
    "from sys import argv\n",
    "\n",
    "script, first, second,  = argv\n",
    "\n",
    "print(\"THis script is called:\", script)\n",
    "print(\"your first variable is:\", first)\n",
    "print(\"Your second variable is:\", second)\n",
    "\n",
    "# To run this script, I need to type \"python ex18.py apple 2nd kela \". I can replace apple, 2nd and kela with any arg i want."
   ]
  },
  {
   "cell_type": "code",
   "execution_count": 12,
   "metadata": {},
   "outputs": [
    {
     "name": "stdout",
     "output_type": "stream",
     "text": [
      "Sohail\n",
      "Python\n",
      " Hi Python, I'm Sohail script.\n",
      "I'd like to ask you a few questions.\n",
      "Do you like me Python?\n",
      ">Yes\n",
      "Where do you live Python?\n",
      ">Delhi\n",
      "What kind of computer do you have?\n",
      ">Dell\n",
      "\n",
      "Alright mate, so you said Yes about liking me.\n",
      "You live in Delhi. Not sure where that is.\n",
      "And you have a Dell computer. Nice.\n",
      "\n"
     ]
    }
   ],
   "source": [
    "# It will ask computer name of the script and user_name and then It will ask \"Do you like me and few other questions\"\n",
    "script = input()\n",
    "user_name= input()\n",
    "prompt = '>'\n",
    "\n",
    "print(f\" Hi {user_name}, I'm {script} script.\")\n",
    "print(\"I'd like to ask you a few questions.\")\n",
    "print(f\"Do you like me {user_name}?\")\n",
    "likes = input(prompt)\n",
    "\n",
    "print(f\"Where do you live {user_name}?\")\n",
    "lives = input(prompt)\n",
    "\n",
    "print(\"What kind of computer do you have?\")\n",
    "computer = input(prompt)\n",
    "\n",
    "print(f\"\"\"\n",
    "Alright mate, so you said {likes} about liking me.\n",
    "You live in {lives}. Not sure where that is.\n",
    "And you have a {computer} computer. Nice.\n",
    "\"\"\"\n",
    ")\n"
   ]
  },
  {
   "cell_type": "code",
   "execution_count": 13,
   "metadata": {},
   "outputs": [
    {
     "name": "stdout",
     "output_type": "stream",
     "text": [
      "kkk\n",
      "We're going to erase kkk.\n",
      "If you dont want that, hit CTRL-C (^C).\n",
      "If you do want that, hit RETRUN.\n",
      "?yes\n",
      "Opening the file....\n",
      "Truncating the file. Goodbye!\n",
      "Now I'm going to ask you for three lines.\n",
      "line 1:ok\n",
      "line 2:fine\n",
      "line 3:no idea\n",
      "I'm going to write these to the file\n",
      "And finally, we close it.\n"
     ]
    }
   ],
   "source": [
    "\n",
    "\n",
    "filename = input()\n",
    "\n",
    "print(f\"We're going to erase {filename}.\")\n",
    "print(\"If you dont want that, hit CTRL-C (^C).\")\n",
    "print(\"If you do want that, hit RETRUN.\")\n",
    "\n",
    "\n",
    "# It will ask for the input. Mention input as either RETURN or filename XX\n",
    "input(\"?\") # Suppose, we give XX as input. Then a file XX would be created\n",
    "\n",
    "print(\"Opening the file....\")\n",
    "target = open(filename, \"w\") # W means write  mode\n",
    "\n",
    "print(\"Truncating the file. Goodbye!\")\n",
    "target.truncate() #This file would be emptied\n",
    "\n",
    "# You need to give here three inputs for three lines\n",
    "print(\"Now I'm going to ask you for three lines.\")\n",
    "line1 = input(\"line 1:\")\n",
    "line2 = input(\"line 2:\")\n",
    "line3 = input(\"line 3:\")\n",
    "\n",
    "print(\"I'm going to write these to the file\")\n",
    "\n",
    "\n",
    "# We can either individually write each line or write them all in one go usings + and |n\n",
    "#target.write(\"\\n\")\n",
    "#target.write(line2)\n",
    "#target.write(\"\\n\")\n",
    "#target.write(line3)\n",
    "#target.write(\"\\n\")\n",
    "\n",
    "# The three lines would be written in the file XXX; one line in each row\n",
    "target.write(line1+\"\\n\"+ line2+ \"\\n\" +line3)\n",
    "\n",
    "\n",
    "print(\"And finally, we close it.\")\n",
    "target.close() #File would be closed after being written. You can check the file from working directory\n"
   ]
  },
  {
   "cell_type": "code",
   "execution_count": null,
   "metadata": {},
   "outputs": [],
   "source": [
    "echo \"This is a test file.\" > test.txt"
   ]
  },
  {
   "cell_type": "code",
   "execution_count": 14,
   "metadata": {},
   "outputs": [
    {
     "name": "stdout",
     "output_type": "stream",
     "text": [
      "arg1: Shut up, arg2: Biatch\n",
      "you've 30 boxes of crackers.\n",
      "you've 20 boxes of crackers and 30 cheeses.\n",
      "I got nothin'.\n"
     ]
    }
   ],
   "source": [
    "# Here 1st arg1 is being treated as string. 2nd arg1 inside bracket is being refrenced and formatted\n",
    "def print_two_again(arg1, arg2):\n",
    "    print(f\"arg1: {arg1}, arg2: {arg2}\")\n",
    "print_two_again(\"Shut up\", \"Biatch\") #It will print \"arg1: Shut up, arg2: Biatch\"\n",
    "\n",
    "\n",
    "# this just takes one argument\n",
    "def print_one(boxes_of_crackers):\n",
    "   print(f\"you've {boxes_of_crackers} boxes of crackers.\")\n",
    "print_one(30)\n",
    "\n",
    "def cheese_and_crackers(cheese_count, boxes_of_crackers):\n",
    "    print(f\"you've {boxes_of_crackers} boxes of crackers and {cheese_count} cheeses.\")\n",
    "cheese_and_crackers(30,20)\n",
    "\n",
    "\n",
    "# this one takes no arguments\n",
    "def print_none():\n",
    "  print(\"I got nothin'.\")\n",
    "print_none()\n"
   ]
  },
  {
   "cell_type": "code",
   "execution_count": 15,
   "metadata": {},
   "outputs": [
    {
     "name": "stdout",
     "output_type": "stream",
     "text": [
      "We can just give the function numbers directly.\n",
      "You've 20 cheeses.\n",
      "you've 30 boxes of crackers.\n",
      "Man that's enough for a party\n",
      "Get a blanket.\n",
      "\n",
      "we can even do the math inside too:\n",
      "You've 30 cheeses.\n",
      "you've 11 boxes of crackers.\n",
      "Man that's enough for a party\n",
      "Get a blanket.\n",
      "\n"
     ]
    }
   ],
   "source": [
    "# This shows all the different ways we’re able to give our function cheese_and_crackers the values it needs to print them. We can\n",
    "# give it straight numbers. We can give it variables. We can give it math. We can even combine math and variables.\n",
    "\n",
    "\n",
    "def cheese_and_crackers(cheese_count, boxes_of_crackers):\n",
    "  print(f\"You've {cheese_count} cheeses.\")\n",
    "  print(f\"you've {boxes_of_crackers} boxes of crackers.\")\n",
    "  print(\"Man that's enough for a party\")\n",
    "  print(\"Get a blanket.\\n\") # \\n will esnure rest of things are printed after gap of one row\n",
    "\n",
    "\n",
    "print(\"We can just give the function numbers directly.\")\n",
    "cheese_and_crackers(20,30)\n",
    "\n",
    "#print(\"OR, we can use variables from our script:\")\n",
    "#amount_of_cheese = 10\n",
    "#amount_of_crackers = 50\n",
    "\n",
    "#cheese_and_crackers(amount_of_cheese, amount_of_crackers)\n",
    "\n",
    "print(\"we can even do the math inside too:\")\n",
    "cheese_and_crackers(10+20, 5+6)\n",
    "\n",
    "#print(\"And we can combine the two, variables and math:\")\n",
    "#cheese_and_crackers(amount_of_cheese+100, amount_of_crackers +1000)"
   ]
  },
  {
   "cell_type": "code",
   "execution_count": 16,
   "metadata": {},
   "outputs": [
    {
     "name": "stdout",
     "output_type": "stream",
     "text": [
      "20\n",
      "10\n",
      "You've 20 cheeses.\n",
      "you've 10 boxes of crackers.\n",
      "Man that's enough for a party\n",
      "Get a blanket.\n",
      "\n"
     ]
    }
   ],
   "source": [
    "# We can use it as user input as well\n",
    "def cheese_and_crackers(cheese_count, boxes_of_crackers):\n",
    "  print(f\"You've {cheese_count} cheeses.\")\n",
    "  print(f\"you've {boxes_of_crackers} boxes of crackers.\")\n",
    "  print(\"Man that's enough for a party\")\n",
    "  print(\"Get a blanket.\\n\") # \\n will esnure rest of things are printed after gap of one row\n",
    "A = int(input())\n",
    "B = input()\n",
    "cheese_and_crackers(A,B)\n"
   ]
  },
  {
   "cell_type": "code",
   "execution_count": 17,
   "metadata": {},
   "outputs": [
    {
     "name": "stdout",
     "output_type": "stream",
     "text": [
      "10\n",
      "20\n",
      "You've 10 cheeses.\n",
      "you've 20 boxes of crackers.\n",
      "Man that's enough for a party\n",
      "Get a blanket.\n",
      "\n"
     ]
    }
   ],
   "source": [
    "# We can use it as user input as well. Ask this question with Alok\n",
    "def cheese_and_crackers(cheese_count = int(input()), boxes_of_crackers = input()):\n",
    "  print(f\"You've {cheese_count} cheeses.\")\n",
    "  print(f\"you've {boxes_of_crackers} boxes of crackers.\")\n",
    "  print(\"Man that's enough for a party\")\n",
    "  print(\"Get a blanket.\\n\") # \\n will esnure rest of things are printed after gap of one row\n",
    "\n",
    "cheese_and_crackers()"
   ]
  },
  {
   "cell_type": "code",
   "execution_count": 18,
   "metadata": {},
   "outputs": [
    {
     "name": "stdout",
     "output_type": "stream",
     "text": [
      "ex20_test.txt\n",
      "First let's print the whole file: \n",
      "\n",
      "This is line 1.\n",
      "It's going good.\n",
      "THis is line 3.\n",
      "Now let's rewind, kind of like a tape. \n",
      "\n",
      "Let's print three lines.\n",
      "1 This is line 1.\n",
      "\n",
      "2 It's going good.\n",
      "\n"
     ]
    }
   ],
   "source": [
    "\n",
    "input_file = input()\n",
    "\n",
    "# This function would read lines from a file\n",
    "def print_all(f):\n",
    "    print(f.read())\n",
    "\n",
    "# # This would rewind the file and reset the file at zero byte in the file itself\n",
    "def rewind(f):\n",
    "    f.seek(0)\n",
    "\n",
    "# This function would take two argumet, and give the line number with the actual line itself\n",
    "def print_a_line(line_count, f):\n",
    "    print(line_count, f.readline())\n",
    "\n",
    "current_file = open(input_file)\n",
    "\n",
    "print(\"First let's print the whole file: \\n\")\n",
    "\n",
    "print_all(current_file)\n",
    "\n",
    "print(\"Now let's rewind, kind of like a tape. \\n\")\n",
    "\n",
    "rewind(current_file)\n",
    "\n",
    "print(\"Let's print three lines.\")\n",
    "\n",
    "current_line = 1\n",
    "print_a_line( current_line,current_file)\n",
    "\n",
    "current_line = current_line + 1\n",
    "print_a_line(current_line, current_file)\n",
    "\n",
    "#On prompt, simply type \"ex20_test.txt\".This file is there in the directory."
   ]
  },
  {
   "cell_type": "code",
   "execution_count": 19,
   "metadata": {},
   "outputs": [
    {
     "name": "stdout",
     "output_type": "stream",
     "text": [
      "Adding 30 + 5\n"
     ]
    },
    {
     "data": {
      "text/plain": [
       "35"
      ]
     },
     "execution_count": 19,
     "metadata": {},
     "output_type": "execute_result"
    }
   ],
   "source": [
    "def add(a, b):\n",
    "  print(f\"Adding {a} + {b}\")\n",
    "  return a + b\n",
    "\n",
    "add(30,5)"
   ]
  },
  {
   "cell_type": "code",
   "execution_count": 20,
   "metadata": {},
   "outputs": [
    {
     "name": "stdout",
     "output_type": "stream",
     "text": [
      "Let's do some math with just functions\n",
      "Adding 7 + 5\n",
      "multiply 10 * 2\n",
      " Age: 12, Weight: 20\n",
      "Here;s the puzzle.\n",
      "Adding 20 + 12\n",
      "multiply 20 * 32\n",
      "Adding 12 + 640\n",
      "That becomes: 652 number.\n"
     ]
    }
   ],
   "source": [
    "# It will add two values and print for example \"Adding 30 +5, and return 9\"\n",
    "def add(a, b):\n",
    "  print(f\"Adding {a} + {b}\")\n",
    "  return a + b\n",
    "\n",
    "def multiply(a, b):\n",
    "  print(f\"multiply {a} * {b}\")\n",
    "  return a * b\n",
    "\n",
    "print(\"Let's do some math with just functions\")\n",
    "\n",
    "age = add(7, 5)\n",
    "\n",
    "weight = multiply(10, 2)\n",
    "\n",
    "\n",
    "print(f\" Age: {age}, Weight: {weight}\")\n",
    "\n",
    "print(\"Here;s the puzzle.\")\n",
    "\n",
    "\n",
    "what = add(age, multiply(weight, add(weight, age)))\n",
    "\n",
    "\n",
    "print(\"That becomes:\", what, \"number.\")\n"
   ]
  },
  {
   "cell_type": "code",
   "execution_count": 21,
   "metadata": {},
   "outputs": [
    {
     "name": "stdout",
     "output_type": "stream",
     "text": [
      "Let's practice everything.\n",
      "You'd need to know 'bout escapes with \\ tab do:\n",
      "\n",
      " newlines and \t tabs.\n",
      "------------\n",
      "\n",
      "\tThe lovely world\n",
      "with logic so firmly planted\n",
      "cannot discern \n",
      " the needs of love\n",
      "nor comprehend passion from intuition\n",
      "and requires an explanation\n",
      "\n",
      "\t\twhere there is no.\n",
      "\n",
      "------------\n"
     ]
    }
   ],
   "source": [
    "print(\"Let's practice everything.\")\n",
    "print(\"You\\'d need to know \\'bout escapes with \\\\ tab do:\")\n",
    "print(\"\\n newlines and \\t tabs.\")\n",
    "\n",
    "poem = \"\"\"\n",
    "\\tThe lovely world\n",
    "with logic so firmly planted\n",
    "cannot discern \\n the needs of love\n",
    "nor comprehend passion from intuition\n",
    "and requires an explanation\n",
    "\\n\\t\\twhere there is no.\n",
    "\"\"\"\n",
    "\n",
    "print(\"------------\")\n",
    "print(poem)\n",
    "print(\"------------\")"
   ]
  },
  {
   "cell_type": "code",
   "execution_count": 22,
   "metadata": {},
   "outputs": [
    {
     "name": "stdout",
     "output_type": "stream",
     "text": [
      "This should be five: 5\n",
      "With a starting point of :100\n",
      "We'd have 50000 beans, 50.0 jars and 0.5 crates.\n",
      "We can also do that this way.\n",
      "We'd have 5000.0 beans, 5.0 jars, and 0.05 crates.\n"
     ]
    }
   ],
   "source": [
    "# Let's revise everything we know so far\n",
    "five = 10 - 2 + 3 - 6\n",
    "print(f\"This should be five: {five}\")\n",
    "\n",
    "\"\"\"\n",
    "Why do you call the variable jelly_beans but the name beans later? That’s part of how a function works.\n",
    "Remember that inside the function the variable is temporary. When you return it then it can be\n",
    "assigned to a variable for later. I’m just making a new variable named beans to hold the returnvalue.\n",
    "\"\"\"\n",
    "\n",
    "def secret_formula(started):\n",
    "    jelly_beans = started * 500\n",
    "    jars = jelly_beans / 1000\n",
    "    crates = jars / 100\n",
    "    return jelly_beans, jars, crates\n",
    "\n",
    "\n",
    "\n",
    "start_point = 100\n",
    "beans, jars, crates = secret_formula(start_point)\n",
    "print(\"With a starting point of :{}\" .format(start_point)) ##rememver that this is another way to format a string\n",
    "print(f\"We'd have {beans} beans, {jars} jars and {crates} crates.\") # #it is just like with a f\"\" cooked_string\n",
    "\n",
    "\n",
    "start_point = start_point / 10\n",
    "print(\"We can also do that this way.\")\n",
    "formula = secret_formula(start_point)\n",
    "print(\"We'd have {} beans, {} jars, and {} crates.\".format(*formula)) ## this is an easy way to apply a list to a format string\n",
    "\n"
   ]
  },
  {
   "cell_type": "code",
   "execution_count": 23,
   "metadata": {},
   "outputs": [
    {
     "name": "stdout",
     "output_type": "stream",
     "text": [
      "['This', 'is', 'a', 'bad', 'habit.']\n"
     ]
    }
   ],
   "source": [
    "def break_words(stuff):\n",
    "    \"\"\"This function will break up the words for us.\"\"\"\n",
    "    words = stuff.split(' ')\n",
    "    return words\n",
    "\n",
    "lol = break_words(\"This is a bad habit.\")\n",
    "print(lol)\n"
   ]
  },
  {
   "cell_type": "code",
   "execution_count": 24,
   "metadata": {},
   "outputs": [
    {
     "name": "stdout",
     "output_type": "stream",
     "text": [
      "['.', 'A', 'g', 'h', 'i', 'l', 'r', 't']\n"
     ]
    }
   ],
   "source": [
    "def sort_words(words):\n",
    "    \"\"\"\"sorts the words.\"\"\"\n",
    "    return sorted(words)\n",
    "\n",
    "kek = sort_words(\"Alright.\")\n",
    "print(kek)"
   ]
  },
  {
   "cell_type": "code",
   "execution_count": 25,
   "metadata": {},
   "outputs": [],
   "source": [
    "##############     Importing a python file and using its various functions    ##########################"
   ]
  },
  {
   "cell_type": "code",
   "execution_count": 28,
   "metadata": {},
   "outputs": [
    {
     "data": {
      "text/plain": [
       "['Programming', 'comes', 'to', 'those', 'who', 'are', 'patients']"
      ]
     },
     "execution_count": 28,
     "metadata": {},
     "output_type": "execute_result"
    }
   ],
   "source": [
    "# Here ex25.py file is in the current wd. we can import it and use its functions\n",
    "import ex25\n",
    "sentence = \"Programming comes to those who are patients\"\n",
    "words = ex25.break_words(sentence) # Here 1st file names would come, then the function would be joined by a dot\n",
    "words"
   ]
  },
  {
   "cell_type": "code",
   "execution_count": 29,
   "metadata": {},
   "outputs": [
    {
     "data": {
      "text/plain": [
       "['Programming', 'are', 'comes', 'patients', 'those', 'to', 'who']"
      ]
     },
     "execution_count": 29,
     "metadata": {},
     "output_type": "execute_result"
    }
   ],
   "source": [
    "sort_word = ex25.sort_sentence(sentence)\n",
    "sort_word"
   ]
  },
  {
   "cell_type": "code",
   "execution_count": 30,
   "metadata": {},
   "outputs": [],
   "source": [
    "sorted_words = ex25.sort_words(sentence)\n",
    "#sorted_words"
   ]
  },
  {
   "cell_type": "code",
   "execution_count": 31,
   "metadata": {},
   "outputs": [
    {
     "name": "stdout",
     "output_type": "stream",
     "text": [
      "Programming\n",
      "who\n"
     ]
    }
   ],
   "source": [
    "last = ex25.print_first_and_last_sored(sentence)\n",
    "last"
   ]
  },
  {
   "cell_type": "code",
   "execution_count": 32,
   "metadata": {},
   "outputs": [
    {
     "ename": "SyntaxError",
     "evalue": "invalid syntax (<ipython-input-32-02f41af2d5fd>, line 11)",
     "output_type": "error",
     "traceback": [
      "\u001b[1;36m  File \u001b[1;32m\"<ipython-input-32-02f41af2d5fd>\"\u001b[1;36m, line \u001b[1;32m11\u001b[0m\n\u001b[1;33m    \"\"\"THis function will break up words for us.\"\"\"\u001b[0m\n\u001b[1;37m                                                   \n^\u001b[0m\n\u001b[1;31mSyntaxError\u001b[0m\u001b[1;31m:\u001b[0m invalid syntax\n"
     ]
    }
   ],
   "source": [
    "# This file would be saved as ex25.py in current directy. THen we can use it\n",
    "\n",
    "#Here some functions RETURN a value while others PRINT a value. The return from a function gives the line of code\n",
    "#that called the function a result. You can think of a function as taking input through its arguments\n",
    "#and returning output through return. The print is completely unrelated to this and only deals\n",
    "#with printing output to the terminal.\n",
    "\n",
    "\"\"\"\n",
    "# Here split would split an object on the basis of space. comma would be added after each new element is created\n",
    "def break_words(stuff):\n",
    "    \"\"\"THis function will break up words for us.\"\"\"\n",
    "    words = stuff.split(' ')\n",
    "    return words\n",
    "\n",
    "def sort_words(words):\n",
    "    \"\"\"Sorts the words.\"\"\"\n",
    "    return sorted(words)\n",
    "\n",
    "# Here pop(0) would print the 1st element (zeroeth index) and remove this element from word list\n",
    "def print_first_word(words):\n",
    "    \"\"\"Prints the first word after popping it off.\"\"\"\n",
    "    word = words.pop(0)\n",
    "    print(word)\n",
    "\n",
    "# Here pop(-1) would return only last element from words and remove this last element from word object\n",
    "\n",
    "def print_last_word(words):\n",
    "    \"\"\"Prints the last word after popping it off.\"\"\"\n",
    "    word = words.pop(-1)\n",
    "    print(word)\n",
    "\n",
    "def sort_sentence(sentence):\n",
    "    \"\"\"Takes in a full sentence and returns the sorted words.\"\"\"\n",
    "    words = break_words(sentence)\n",
    "    return sort_words(words)\n",
    "\n",
    "def print_first_and_last(sentence):\n",
    "    \"\"\"Prints the first and last words of the sentence.\"\"\"\n",
    "    words = break_words(sentence)\n",
    "    print_first_word(words)\n",
    "    print_last_word(words)\n",
    "\n",
    "def print_first_and_last_sored(sentence):\n",
    "    \"\"\"Sorts the words then prints the first and last one.\"\"\"\n",
    "    words = sort_sentence(sentence)\n",
    "    print_first_word(words)\n",
    "    print_last_word(words)\n",
    "\n",
    "\"\"\""
   ]
  },
  {
   "cell_type": "code",
   "execution_count": 33,
   "metadata": {},
   "outputs": [
    {
     "name": "stdout",
     "output_type": "stream",
     "text": [
      "Sugar\n",
      "['Apples', 'Oranges', 'Crows', 'Telephone', 'Light']\n",
      "Light\n",
      "['Apples', 'Oranges', 'Crows', 'Telephone']\n"
     ]
    }
   ],
   "source": [
    "# Here's how pop works. for st1, it prints the last element of stuff and remove last element from stuff. Now the 2nd last \n",
    "# element (Light) would be the last element of stuff now\n",
    "\n",
    "ten_things = \"Apples Oranges Crows Telephone Light Sugar\"\n",
    "\n",
    "stuff = ten_things.split(' ')\n",
    "\n",
    "st1 = stuff.pop()\n",
    "print(st1)\n",
    "print(stuff)\n",
    "\n",
    "st1 = stuff.pop()\n",
    "print(st1)\n",
    "print(stuff)"
   ]
  },
  {
   "cell_type": "code",
   "execution_count": null,
   "metadata": {},
   "outputs": [],
   "source": []
  }
 ],
 "metadata": {
  "kernelspec": {
   "display_name": "Python 3",
   "language": "python",
   "name": "python3"
  },
  "language_info": {
   "codemirror_mode": {
    "name": "ipython",
    "version": 3
   },
   "file_extension": ".py",
   "mimetype": "text/x-python",
   "name": "python",
   "nbconvert_exporter": "python",
   "pygments_lexer": "ipython3",
   "version": "3.6.5"
  }
 },
 "nbformat": 4,
 "nbformat_minor": 2
}
