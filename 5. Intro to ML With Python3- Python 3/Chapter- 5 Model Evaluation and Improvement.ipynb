{
 "cells": [
  {
   "cell_type": "code",
   "execution_count": 1,
   "metadata": {},
   "outputs": [
    {
     "name": "stdout",
     "output_type": "stream",
     "text": [
      "Topics Covered in this Chapter:-\n",
      "1) Cross Validation\n",
      "2) GridSearch\n",
      "3) Evaluation Metrics and Scoring\n",
      "\n",
      "\n"
     ]
    }
   ],
   "source": [
    "Ok = \"\"\"Topics Covered in this Chapter:-\n",
    "1) Cross Validation\n",
    "2) GridSearch\n",
    "3) Evaluation Metrics and Scoring\n",
    "\n",
    "\"\"\"\n",
    "print(Ok)"
   ]
  },
  {
   "cell_type": "code",
   "execution_count": 2,
   "metadata": {},
   "outputs": [
    {
     "data": {
      "text/html": [
       " <span style=\"color:black\"><h1>Cross-Validation</h1> </span>  "
      ],
      "text/plain": [
       "<IPython.core.display.HTML object>"
      ]
     },
     "metadata": {},
     "output_type": "display_data"
    },
    {
     "name": "stdout",
     "output_type": "stream",
     "text": [
      "1. CV Splitter with Shuffle (KFold)\n",
      "2. Leave One out CV (LeaveOneOut)\n",
      "3. Shuffle Split CV (ShuffleSplit & StratifiedShuffleSplit)\n",
      "4. Cross-Validation with groups (GroupKFold)\n",
      "\n",
      "\n"
     ]
    }
   ],
   "source": [
    "from IPython.display import display, HTML\n",
    "display(HTML(' <span style=\"color:black\"><h1>Cross-Validation</h1> </span>  '))\n",
    "\n",
    "ok = \"\"\"1. CV Splitter with Shuffle (KFold)\n",
    "2. Leave One out CV (LeaveOneOut)\n",
    "3. Shuffle Split CV (ShuffleSplit & StratifiedShuffleSplit)\n",
    "4. Cross-Validation with groups (GroupKFold)\n",
    "\n",
    "\"\"\"\n",
    "print(ok)"
   ]
  },
  {
   "cell_type": "code",
   "execution_count": 3,
   "metadata": {},
   "outputs": [
    {
     "data": {
      "text/html": [
       " <span style=\"color:black\"><h1>GRIDSEARCH</h1> </span>  "
      ],
      "text/plain": [
       "<IPython.core.display.HTML object>"
      ]
     },
     "metadata": {},
     "output_type": "display_data"
    },
    {
     "name": "stdout",
     "output_type": "stream",
     "text": [
      "GridSearch Subheads:-\n",
      "    A) GridSearch and Validation Set to Avoid Overfitting\n",
      "    B) GridSearch With Cross-Validation\n",
      "    c) GridSearchCV -- Analyzing the Result of Cross-Validation\n",
      "    D) GridSearchCV -- Searching Over Spaces That Are Not Grid\n",
      "    E) Nested GridSearchCV -- Nested Cross Validation\n",
      "\n"
     ]
    }
   ],
   "source": [
    "display(HTML(' <span style=\"color:black\"><h1>GRIDSEARCH</h1> </span>  '))\n",
    "ok1= \"\"\"GridSearch Subheads:-\n",
    "    A) GridSearch and Validation Set to Avoid Overfitting\n",
    "    B) GridSearch With Cross-Validation\n",
    "    c) GridSearchCV -- Analyzing the Result of Cross-Validation\n",
    "    D) GridSearchCV -- Searching Over Spaces That Are Not Grid\n",
    "    E) Nested GridSearchCV -- Nested Cross Validation\n",
    "\"\"\"\n",
    "print(ok1)"
   ]
  },
  {
   "cell_type": "code",
   "execution_count": 4,
   "metadata": {},
   "outputs": [
    {
     "data": {
      "text/html": [
       " <span style=\"color:black\"><h1>Evaluation Metrics and Scoring</h1> </span>  "
      ],
      "text/plain": [
       "<IPython.core.display.HTML object>"
      ]
     },
     "metadata": {},
     "output_type": "display_data"
    },
    {
     "name": "stdout",
     "output_type": "stream",
     "text": [
      "Evaluation Metrics and Scoring Subheads:-\n",
      "    A) Precision, Recall and f1 Score\n",
      "    B) ROC/AUC Curve\n",
      "    C) Metrics for Multi-class Classification\n",
      "    D) Using Evaluation Metrics in Model Selection\n",
      "    E) Scoring Parameters Available in sklearn\n",
      "\n"
     ]
    }
   ],
   "source": [
    "display(HTML(' <span style=\"color:black\"><h1>Evaluation Metrics and Scoring</h1> </span>  '))\n",
    "\n",
    "ok1= \"\"\"Evaluation Metrics and Scoring Subheads:-\n",
    "    A) Precision, Recall and f1 Score\n",
    "    B) ROC/AUC Curve\n",
    "    C) Metrics for Multi-class Classification\n",
    "    D) Using Evaluation Metrics in Model Selection\n",
    "    E) Scoring Parameters Available in sklearn\n",
    "\"\"\"\n",
    "print(ok1)"
   ]
  },
  {
   "cell_type": "code",
   "execution_count": 5,
   "metadata": {},
   "outputs": [],
   "source": [
    "# Ignore the warnings\n",
    "import warnings\n",
    "warnings.filterwarnings('ignore')"
   ]
  },
  {
   "cell_type": "code",
   "execution_count": 6,
   "metadata": {},
   "outputs": [],
   "source": [
    "# This convention would be followed by default in the book\n",
    "import numpy as np\n",
    "import matplotlib.pyplot as plt\n",
    "import pandas as pd\n",
    "import mglearn"
   ]
  },
  {
   "cell_type": "code",
   "execution_count": 7,
   "metadata": {},
   "outputs": [
    {
     "data": {
      "text/markdown": [
       "**Here we go, bruh!!**"
      ],
      "text/plain": [
       "<IPython.core.display.Markdown object>"
      ]
     },
     "metadata": {},
     "output_type": "display_data"
    }
   ],
   "source": [
    "from IPython.display import Markdown, display\n",
    "def printbold(string):\n",
    "    display(Markdown(string))\n",
    "\n",
    "printbold(\"**Here we go, bruh!!**\")"
   ]
  },
  {
   "cell_type": "code",
   "execution_count": 8,
   "metadata": {},
   "outputs": [
    {
     "name": "stdout",
     "output_type": "stream",
     "text": [
      "When we make a model, we spilt the data into train and test and measure accuracy. We do this beavuse we wanna know how good our model is able to generalize on unseen data. Next we will see accuracy method using CROSS-VALIDATION & GRID SEARCH.\n",
      "\n",
      "\n",
      "Accuracy on the test set is :0.88\n"
     ]
    }
   ],
   "source": [
    "ok = \"\"\"When we make a model, we spilt the data into train and test and measure accuracy. We do this beavuse we wanna know how good our model is able to generalize on unseen data. Next we will see accuracy method using CROSS-VALIDATION & GRID SEARCH.\"\"\"\n",
    "print(ok)\n",
    "print(\"\\n\")\n",
    "from sklearn.datasets import make_blobs\n",
    "from sklearn.linear_model import LogisticRegression\n",
    "from sklearn.model_selection import train_test_split\n",
    "\n",
    "X, y = make_blobs(random_state = 0)\n",
    "X_train, X_test, y_train, y_test = train_test_split(X, y, test_size=0.25, random_state=0)\n",
    "LogReg = LogisticRegression().fit(X_train, y_train)\n",
    "print(f\"Accuracy on the test set is :{LogReg.score(X_test, y_test)}\")\n"
   ]
  },
  {
   "cell_type": "code",
   "execution_count": 9,
   "metadata": {},
   "outputs": [
    {
     "data": {
      "text/html": [
       " <span style=\"color:black\"><h1>Cross-Validation</h1> </span>  "
      ],
      "text/plain": [
       "<IPython.core.display.HTML object>"
      ]
     },
     "metadata": {},
     "output_type": "display_data"
    },
    {
     "name": "stdout",
     "output_type": "stream",
     "text": [
      "1. CV Splitter with Shuffle (KFold)\n",
      "2. Leave One out CV (LeaveOneOut)\n",
      "3. Shuffle Split CV (ShuffleSplit & StratifiedShuffleSplit)\n",
      "4. Cross-Validation with groups (GroupKFold)\n",
      "\n",
      "\n"
     ]
    }
   ],
   "source": [
    "from IPython.display import display, HTML\n",
    "display(HTML(' <span style=\"color:black\"><h1>Cross-Validation</h1> </span>  '))\n",
    "\n",
    "ok = \"\"\"1. CV Splitter with Shuffle (KFold)\n",
    "2. Leave One out CV (LeaveOneOut)\n",
    "3. Shuffle Split CV (ShuffleSplit & StratifiedShuffleSplit)\n",
    "4. Cross-Validation with groups (GroupKFold)\n",
    "\n",
    "\"\"\"\n",
    "print(ok)"
   ]
  },
  {
   "cell_type": "code",
   "execution_count": 10,
   "metadata": {},
   "outputs": [
    {
     "name": "stdout",
     "output_type": "stream",
     "text": [
      " Some cross validation functions from mode_selection of sklearn library:-\n",
      "\n",
      "KFold divides all the samples in  groups of samples, called folds (if , this is equivalent to the Leave One Out strategy), of equal sizes (if possible). The prediction function is learned using  folds, and the fold left out is used for test.\n",
      "\n",
      "RepeatedKFold repeats K-Fold n times. It can be used when one requires to run KFold n times, producing different splits in each repetition.\n",
      "\n",
      "LeaveOneOut (or LOO) is a simple cross-validation. Each learning set is created by taking all the samples except one, the test set being the sample left out. Thus, for  samples, we have  different training sets and  different tests set.\n",
      "\n",
      "The ShuffleSplit iterator will generate a user defined number of independent train / test dataset splits. Samples are first shuffled and then split into a pair of train and test sets. Here some of the sample may not be selected in train or test set. ShuffleSplit is thus a good alternative to KFold cv that allows a finer control on no. of iterations and the proportion of samples on each side of the train / test split. If the dataset is heavy, use n_iter=1.\n",
      "\n",
      "StratifiedKFold is a variation of k-fold which returns stratified folds: each set contains approximately the same percentage of samples of each target class as the complete set.\n",
      "\n",
      "StratifiedShuffleSplit is a variation of ShuffleSplit, which returns stratified splits, i.e which creates splits by preserving the same percentage for each target class as in the complete set. Here some of the sample data may be left out from train and test set. If the dataset is heavy, use n_iter=1.\n",
      "\n",
      "Detailed exlainations of em all here: http://scikit-learn.org/stable/modules/cross_validation.html\n",
      "\n"
     ]
    }
   ],
   "source": [
    "Ok = \"\"\" Some cross validation functions from mode_selection of sklearn library:-\n",
    "\n",
    "KFold divides all the samples in  groups of samples, called folds (if , this is equivalent to the Leave One Out strategy), of equal sizes (if possible). The prediction function is learned using  folds, and the fold left out is used for test.\n",
    "\n",
    "RepeatedKFold repeats K-Fold n times. It can be used when one requires to run KFold n times, producing different splits in each repetition.\n",
    "\n",
    "LeaveOneOut (or LOO) is a simple cross-validation. Each learning set is created by taking all the samples except one, the test set being the sample left out. Thus, for  samples, we have  different training sets and  different tests set.\n",
    "\n",
    "The ShuffleSplit iterator will generate a user defined number of independent train / test dataset splits. Samples are first shuffled and then split into a pair of train and test sets. Here some of the sample may not be selected in train or test set. ShuffleSplit is thus a good alternative to KFold cv that allows a finer control on no. of iterations and the proportion of samples on each side of the train / test split. If the dataset is heavy, use n_iter=1.\n",
    "\n",
    "StratifiedKFold is a variation of k-fold which returns stratified folds: each set contains approximately the same percentage of samples of each target class as the complete set.\n",
    "\n",
    "StratifiedShuffleSplit is a variation of ShuffleSplit, which returns stratified splits, i.e which creates splits by preserving the same percentage for each target class as in the complete set. Here some of the sample data may be left out from train and test set. If the dataset is heavy, use n_iter=1.\n",
    "\n",
    "Detailed exlainations of em all here: http://scikit-learn.org/stable/modules/cross_validation.html\n",
    "\"\"\"\n",
    "print(Ok)"
   ]
  },
  {
   "cell_type": "code",
   "execution_count": 11,
   "metadata": {},
   "outputs": [
    {
     "name": "stdout",
     "output_type": "stream",
     "text": [
      "Suppose we make a cv of 5-folds, then data would be divided b/w 20% for each fold. We'll train our model on last 4 fold and test it on 1st fold. then train the model on 1,3,4,5 folds and test it on 2nd fold and so on. and save accuracy at each test fold. Then we take mean of these 5 results and report it as our avg accuracy.\n"
     ]
    },
    {
     "data": {
      "image/png": "[encoded data removed]",
      "text/plain": [
       "<Figure size 864x144 with 1 Axes>"
      ]
     },
     "metadata": {},
     "output_type": "display_data"
    }
   ],
   "source": [
    "# An example of 5-fold cv\n",
    "mglearn.plots.plot_cross_validation()\n",
    "ok = \"\"\"Suppose we make a cv of 5-folds, then data would be divided b/w 20% for each fold. We'll train our model on last 4 fold and test it on 1st fold. then train the model on 1,3,4,5 folds and test it on 2nd fold and so on. and save accuracy at each test fold. Then we take mean of these 5 results and report it as our avg accuracy.\"\"\"\n",
    "print(ok)"
   ]
  },
  {
   "cell_type": "code",
   "execution_count": 12,
   "metadata": {},
   "outputs": [
    {
     "name": "stdout",
     "output_type": "stream",
     "text": [
      "Using the mean cross-validation we can conclude that we expect the model to be around 96% accurate on average. Looking at all five scores produced by the five-fold cross-validation, we can also conclude that there is a relatively high variance in the accuracy between folds, ranging from 100% accuracy to 90% accuracy. This could imply that the model is very dependent on the particular folds used for training, but it could also just be a consequence of the small size of the dataset.\n",
      "Having multiple splits of the data also provides some information about how sensitive our model is to the selection of the training dataset.\n",
      "\n",
      "\n",
      "Cross Validation Score of 5 Folds: [1.         0.96666667 0.93333333 0.9        1.        ]\n",
      "Average Cross Validation Score: 0.96\n"
     ]
    }
   ],
   "source": [
    "ok = \"\"\"Using the mean cross-validation we can conclude that we expect the model to be around 96% accurate on average. Looking at all five scores produced by the five-fold cross-validation, we can also conclude that there is a relatively high variance in the accuracy between folds, ranging from 100% accuracy to 90% accuracy. This could imply that the model is very dependent on the particular folds used for training, but it could also just be a consequence of the small size of the dataset.\n",
    "Having multiple splits of the data also provides some information about how sensitive our model is to the selection of the training dataset.\"\"\"\n",
    "print(ok)\n",
    "print(\"\\n\")\n",
    "from sklearn.model_selection import cross_val_score\n",
    "from sklearn.linear_model import LogisticRegression\n",
    "from sklearn.datasets import load_iris\n",
    "iris = load_iris()\n",
    "LogReg = LogisticRegression()\n",
    "scores = cross_val_score(LogReg, iris.data, iris.target, cv = 5)\n",
    "print(\"Cross Validation Score of 5 Folds: {}\".format(scores))\n",
    "print(\"Average Cross Validation Score: {:.2f}\".format(scores.mean()))"
   ]
  },
  {
   "cell_type": "code",
   "execution_count": 13,
   "metadata": {},
   "outputs": [
    {
     "name": "stdout",
     "output_type": "stream",
     "text": [
      "In stratified cross-validation, we split the data such that the proportions between classes are the same in each fold as they are in the whole dataset, as illustrated in Figure.\n"
     ]
    },
    {
     "data": {
      "image/png": "[encoded data removed]",
      "text/plain": [
       "<Figure size 864x360 with 2 Axes>"
      ]
     },
     "metadata": {},
     "output_type": "display_data"
    }
   ],
   "source": [
    "ok = \"\"\"In stratified cross-validation, we split the data such that the proportions between classes are the same in each fold as they are in the whole dataset, as illustrated in Figure.\"\"\"\n",
    "print(ok)\n",
    "mglearn.plots.plot_stratified_cross_validation()"
   ]
  },
  {
   "cell_type": "code",
   "execution_count": 14,
   "metadata": {},
   "outputs": [
    {
     "name": "stdout",
     "output_type": "stream",
     "text": [
      "scikit-learn allows for much finer control over what happens during the splitting of the data by providing a crossvalidation splitter (KFold) as the cv parameter. To do this, we first have to import the KFold splitter class from the model_selection module and instantiate it with the number of folds we want to use.  Then, we can pass the kfold splitter object as the cv parameter to cross_val_score. \n",
      "Now indeed we can see that it is indeed a bad idea to use non-stratified cv as some of the folds have 43% accuracy. each fold corresponds to one of the classes in the iris dataset, and so not much has  been learned for some folds.\n",
      "\n",
      "\n",
      "Cross Validation Accuracy: [1.         0.93333333 0.43333333 0.96666667 0.43333333]\n",
      "\n",
      "\n"
     ]
    }
   ],
   "source": [
    "ok = \"\"\"scikit-learn allows for much finer control over what happens during the splitting of the data by providing a crossvalidation splitter (KFold) as the cv parameter. To do this, we first have to import the KFold splitter class from the model_selection module and instantiate it with the number of folds we want to use.  Then, we can pass the kfold splitter object as the cv parameter to cross_val_score. \n",
    "Now indeed we can see that it is indeed a bad idea to use non-stratified cv as some of the folds have 43% accuracy. each fold corresponds to one of the classes in the iris dataset, and so not much has  been learned for some folds.\"\"\"\n",
    "print(ok)\n",
    "print(\"\\n\")\n",
    "from sklearn.model_selection import KFold\n",
    "kfold = KFold(n_splits=5)\n",
    "print(\"Cross Validation Accuracy: {}\".format(cross_val_score(LogReg, iris.data, iris.target, cv=kfold)))\n",
    "print(\"\\n\")\n",
    "\n"
   ]
  },
  {
   "cell_type": "code",
   "execution_count": 15,
   "metadata": {},
   "outputs": [
    {
     "name": "stdout",
     "output_type": "stream",
     "text": [
      "One way to solve this problem is to shuffle by setting the shuffle parameter of KFold to True. Now is this much better result.\n",
      "\n",
      "\n",
      "Cross Validation Accuracy: [0.96666667 0.9        0.96666667 0.96666667 0.93333333]\n"
     ]
    }
   ],
   "source": [
    "ok = \"\"\"One way to solve this problem is to shuffle by setting the shuffle parameter of KFold to True. Now is this much better result.\"\"\"\n",
    "print(ok)\n",
    "print(\"\\n\")\n",
    "kfold = KFold(n_splits=5, shuffle=True, random_state=0)\n",
    "print(\"Cross Validation Accuracy: {}\".format(cross_val_score(LogReg,iris.data, iris.target, cv = kfold)))"
   ]
  },
  {
   "cell_type": "code",
   "execution_count": 16,
   "metadata": {},
   "outputs": [
    {
     "data": {
      "text/markdown": [
       "**Leave One Out Cross Validation**"
      ],
      "text/plain": [
       "<IPython.core.display.Markdown object>"
      ]
     },
     "metadata": {},
     "output_type": "display_data"
    }
   ],
   "source": [
    "printbold(\"**Leave One Out Cross Validation**\")"
   ]
  },
  {
   "cell_type": "code",
   "execution_count": 17,
   "metadata": {},
   "outputs": [
    {
     "name": "stdout",
     "output_type": "stream",
     "text": [
      "Another frequently used cross-validation method is leave-one-out. You can think of leave-one-out cross-validation as k-fold cross-validation where each fold is a single sample. For each split, you pick a single data point to be the test set.\n",
      "\n",
      "\n",
      "Number of cv iterations: 150\n",
      "Mean CV Accuracy: 0.95\n"
     ]
    }
   ],
   "source": [
    "ok = \"\"\"Another frequently used cross-validation method is leave-one-out. You can think of leave-one-out cross-validation as k-fold cross-validation where each fold is a single sample. For each split, you pick a single data point to be the test set.\"\"\"\n",
    "print(ok)\n",
    "print(\"\\n\")\n",
    "from sklearn.model_selection import LeaveOneOut\n",
    "loo = LeaveOneOut()\n",
    "scores = cross_val_score(LogReg, iris.data, iris.target, cv = loo)\n",
    "print(\"Number of cv iterations: {}\".format(len(scores)))\n",
    "print(\"Mean CV Accuracy: {:.2f}\".format(scores.mean()))"
   ]
  },
  {
   "cell_type": "code",
   "execution_count": 18,
   "metadata": {},
   "outputs": [
    {
     "name": "stdout",
     "output_type": "stream",
     "text": [
      "Another method is shuffle-split cross-validation where some folds are in train set, others in test set and some fold arent selected. This is repeated n_iter times.Here dataset has 10 points. We have selected 5 points for train and 2 for test set.\n",
      "Here data doesnt add up to 1. We can either add em up to 1 or simply not include some of the data in train & test set.\n"
     ]
    },
    {
     "data": {
      "image/png": "[encoded data removed]",
      "text/plain": [
       "<Figure size 720x144 with 1 Axes>"
      ]
     },
     "metadata": {},
     "output_type": "display_data"
    }
   ],
   "source": [
    "ok = \"\"\"Another method is shuffle-split cross-validation where some folds are in train set, others in test set and some fold arent selected. This is repeated n_iter times.Here dataset has 10 points. We have selected 5 points for train and 2 for test set.\n",
    "Here data doesnt add up to 1. We can either add em up to 1 or simply not include some of the data in train & test set.\"\"\"\n",
    "print(ok)\n",
    "mglearn.plots.plot_shuffle_split()\n"
   ]
  },
  {
   "cell_type": "code",
   "execution_count": 19,
   "metadata": {},
   "outputs": [
    {
     "name": "stdout",
     "output_type": "stream",
     "text": [
      "Shuffle-split cross-validation allows for control over the number of iterations independently of the training and test sizes, which can sometimes be helpful. It also allows for using only part of the data in each iteration, by providing train_size and test_size settings that don’t add up to one. Subsampling the data in this way can be useful for experimenting with large datasets. Here we add up data to 1.\n",
      "There is also a stratified variant of ShuffleSplit, aptly named StratifiedShuffleSplit, which can provide more reliable results for classification tasks.\n",
      "\n",
      "\n",
      "Cross Validation Score on 10 Shuffled folds: [0.93333333 0.94666667 0.89333333 0.93333333 0.94666667 0.90666667\n",
      " 0.98666667 0.88       0.85333333 0.97333333]\n"
     ]
    }
   ],
   "source": [
    "ok = \"\"\"Shuffle-split cross-validation allows for control over the number of iterations independently of the training and test sizes, which can sometimes be helpful. It also allows for using only part of the data in each iteration, by providing train_size and test_size settings that don’t add up to one. Subsampling the data in this way can be useful for experimenting with large datasets. Here we add up data to 1.\n",
    "There is also a stratified variant of ShuffleSplit, aptly named StratifiedShuffleSplit, which can provide more reliable results for classification tasks.\"\"\"\n",
    "print(ok)\n",
    "print(\"\\n\")\n",
    "from sklearn.model_selection import ShuffleSplit\n",
    "ss = ShuffleSplit(test_size=0.5, train_size=0.5, n_splits=10)\n",
    "scores = cross_val_score(LogReg, iris.data, iris.target, cv=ss)\n",
    "print(\"Cross Validation Score on 10 Shuffled folds: {}\".format(scores))"
   ]
  },
  {
   "cell_type": "code",
   "execution_count": 20,
   "metadata": {},
   "outputs": [
    {
     "data": {
      "text/markdown": [
       "**GroupKFold- Cross-validation with groups**"
      ],
      "text/plain": [
       "<IPython.core.display.Markdown object>"
      ]
     },
     "metadata": {},
     "output_type": "display_data"
    },
    {
     "name": "stdout",
     "output_type": "stream",
     "text": [
      "GroupKFold, which takes an array of groups as argument that we can use to indicate which person/object is in the image/data. The groups array here indicates groups in the data that should not be split when creating the training and test sets, and should not be confused with the class label.\n",
      "This example of groups in the data is common in medical applications, where you might have multiple samples from the same patient, but are interested in generalizing to new patients. Similarly, in speech recognition, you might have multiple recordings of the same speaker in your dataset, but are interested in recognizing speech of new speakers.\n"
     ]
    }
   ],
   "source": [
    "printbold(\"**GroupKFold- Cross-validation with groups**\")\n",
    "\n",
    "ok = \"\"\"GroupKFold, which takes an array of groups as argument that we can use to indicate which person/object is in the image/data. The groups array here indicates groups in the data that should not be split when creating the training and test sets, and should not be confused with the class label.\n",
    "This example of groups in the data is common in medical applications, where you might have multiple samples from the same patient, but are interested in generalizing to new patients. Similarly, in speech recognition, you might have multiple recordings of the same speaker in your dataset, but are interested in recognizing speech of new speakers.\"\"\"\n",
    "\n",
    "print(ok)"
   ]
  },
  {
   "cell_type": "code",
   "execution_count": 21,
   "metadata": {},
   "outputs": [
    {
     "name": "stdout",
     "output_type": "stream",
     "text": [
      "Here in groups argument, we assume 1st three samples belog to same grpup, then nex four to another same grpup, etc. These samples don’t need to be ordered by group; we just did this for illustration purposes.\n",
      "In the mglearn figure, We can see, for each split, each group is either entirely in the training set or entirely in the test set.\n",
      "\n",
      "\n",
      "Cross-validation scores:\n",
      "[0.75       0.8        0.66666667]\n"
     ]
    },
    {
     "data": {
      "image/png": "[encoded data removed]",
      "text/plain": [
       "<Figure size 720x144 with 1 Axes>"
      ]
     },
     "metadata": {},
     "output_type": "display_data"
    }
   ],
   "source": [
    "ok = \"\"\"Here in groups argument, we assume 1st three samples belog to same grpup, then nex four to another same grpup, etc. These samples don’t need to be ordered by group; we just did this for illustration purposes.\n",
    "In the mglearn figure, We can see, for each split, each group is either entirely in the training set or entirely in the test set.\"\"\"\n",
    "print(ok)\n",
    "print(\"\\n\")\n",
    "from sklearn.model_selection import GroupKFold\n",
    "# create synthetic dataset\n",
    "X, y = make_blobs(n_samples=12, random_state=0)\n",
    "# assume the first three samples belong to the same group, # then the next four, etc.\n",
    "groups = [0, 0, 0, 1, 1, 1, 1, 2, 2, 3, 3, 3]\n",
    "scores = cross_val_score(LogReg, X, y, groups, cv=GroupKFold(n_splits=3))\n",
    "print(\"Cross-validation scores:\\n{}\".format(scores))\n",
    "\n",
    "mglearn.plots.plot_group_kfold()\n"
   ]
  },
  {
   "cell_type": "code",
   "execution_count": 22,
   "metadata": {},
   "outputs": [
    {
     "name": "stdout",
     "output_type": "stream",
     "text": [
      "There are more splitting strategies for cross-validation in scikit-learn, which allow for an even greater variety of use cases but the standard KFold, StratifiedKFold, and GroupKFold are by far the most commonly used ones. You can check the rest of methods here: http://scikit-learn.org/stable/modules/cross_validation.html\n"
     ]
    }
   ],
   "source": [
    "ok = \"\"\"There are more splitting strategies for cross-validation in scikit-learn, which allow for an even greater variety of use cases but the standard KFold, StratifiedKFold, and GroupKFold are by far the most commonly used ones. You can check the rest of methods here: http://scikit-learn.org/stable/modules/cross_validation.html\"\"\"\n",
    "print(ok)"
   ]
  },
  {
   "cell_type": "code",
   "execution_count": 23,
   "metadata": {
    "scrolled": true
   },
   "outputs": [
    {
     "data": {
      "text/html": [
       " <span style=\"color:black\"><h1>GRIDSEARCH</h1> </span>  "
      ],
      "text/plain": [
       "<IPython.core.display.HTML object>"
      ]
     },
     "metadata": {},
     "output_type": "display_data"
    },
    {
     "name": "stdout",
     "output_type": "stream",
     "text": [
      "GridSearch Subheads:-\n",
      "    A) GridSearch and Validation Set to Avoid Overfitting\n",
      "    B) GridSearch With Cross-Validation\n",
      "    c) GridSearchCV -- Analyzing the Result of Cross-Validation\n",
      "    D) GridSearchCV -- Searching Over Spaces That Are Not Grid\n",
      "    E) Nested GridSearchCV -- Nested Cross Validation\n",
      "\n",
      "FInding the values of important parameters is quite important to make a model help in  generalizing. For example, SVM with RBF have two paramaters; alpha & C. We can take diff values of alpha& C and check which ones best for our model. THis process is called Grid Search.\n"
     ]
    }
   ],
   "source": [
    "display(HTML(' <span style=\"color:black\"><h1>GRIDSEARCH</h1> </span>  '))\n",
    "ok1= \"\"\"GridSearch Subheads:-\n",
    "    A) GridSearch and Validation Set to Avoid Overfitting\n",
    "    B) GridSearch With Cross-Validation\n",
    "    c) GridSearchCV -- Analyzing the Result of Cross-Validation\n",
    "    D) GridSearchCV -- Searching Over Spaces That Are Not Grid\n",
    "    E) Nested GridSearchCV -- Nested Cross Validation\n",
    "\"\"\"\n",
    "print(ok1)\n",
    "ok = \"\"\"FInding the values of important parameters is quite important to make a model help in  generalizing. For example, SVM with RBF have two paramaters; alpha & C. We can take diff values of alpha& C and check which ones best for our model. THis process is called Grid Search.\"\"\"\n",
    "print(ok)"
   ]
  },
  {
   "cell_type": "code",
   "execution_count": 24,
   "metadata": {},
   "outputs": [
    {
     "data": {
      "text/markdown": [
       "*GridSearchCV -- The danger of overfitting the parameters and the validation set*"
      ],
      "text/plain": [
       "<IPython.core.display.Markdown object>"
      ]
     },
     "metadata": {},
     "output_type": "display_data"
    }
   ],
   "source": [
    "printbold(\"*GridSearchCV -- The danger of overfitting the parameters and the validation set*\")"
   ]
  },
  {
   "cell_type": "code",
   "execution_count": 25,
   "metadata": {},
   "outputs": [
    {
     "name": "stdout",
     "output_type": "stream",
     "text": [
      "We do a simple grid search here. Here, we train SVM with RBF using two parameters: alpha & C. Say we want to try the values 0.001, 0.01, 0.1, 1, 10, and 100 for the parameter C, and the same for gamma. Because we have six different settings for C and gamma that we want to try, we have 36 combinations of parameters in total. Looking at all possible combinations creates a table (or grid) of parameter settings for the SVM. \n",
      "\n",
      "\n",
      "Size of training set: 112\n",
      "Size of the test set: 38\n",
      "Best Score on test set: 0.97\n",
      "Best paramets: {'C': 100, 'gamma': 0.001}\n",
      "\n",
      "\n",
      "Given this result of 97% of test score we might think its the best score but its not. We wont necessarily get same result on new data. Hence we generally divide data into TRAIN (to build model), VALIDATION (to select parameters) & TEST (to test parameters) set which looks like this.\n"
     ]
    },
    {
     "data": {
      "image/png": "[encoded data removed]",
      "text/plain": [
       "<Figure size 1080x72 with 1 Axes>"
      ]
     },
     "metadata": {},
     "output_type": "display_data"
    }
   ],
   "source": [
    "ok = \"\"\"We do a simple grid search here. Here, we train SVM with RBF using two parameters: alpha & C. Say we want to try the values 0.001, 0.01, 0.1, 1, 10, and 100 for the parameter C, and the same for gamma. Because we have six different settings for C and gamma that we want to try, we have 36 combinations of parameters in total. Looking at all possible combinations creates a table (or grid) of parameter settings for the SVM. \"\"\"\n",
    "print(ok)\n",
    "print(\"\\n\")\n",
    "\n",
    "from sklearn.svm import SVC\n",
    "X_train, X_test, y_train, y_test = train_test_split(iris.data, iris.target, test_size=0.25, random_state=0)\n",
    "print(\"Size of training set: {}\".format(X_train.shape[0])) # Here [0] means we only wan row\n",
    "print(\"Size of the test set: {}\".format(X_test.shape[0]))\n",
    "\n",
    "best_score = 0\n",
    "\n",
    "for gamma in [0.001, 0.01, 0.1, 10, 100]:\n",
    "    for C in [0.001, 0.01, 0.1, 10, 100]:\n",
    "        svm = SVC(gamma=gamma, C=C)\n",
    "        svm.fit(X_train, y_train)\n",
    "        score = svm.score(X_test, y_test)\n",
    "        if score > best_score:\n",
    "            best_score = score\n",
    "            best_params = {\"C\":C, \"gamma\": gamma}\n",
    "\n",
    "\n",
    "print(\"Best Score on test set: {:.2f}\".format(best_score))\n",
    "print(\"Best paramets: {}\".format(best_params))\n",
    "\n",
    "print(\"\\n\")\n",
    "ok1 = \"\"\"Given this result of 97% of test score we might think its the best score but its not. We wont necessarily get same result on new data. Hence we generally divide data into TRAIN (to build model), VALIDATION (to select parameters) & TEST (to test parameters) set which looks like this.\"\"\"\n",
    "print(ok1)\n",
    "mglearn.plots.plot_threefold_split()\n"
   ]
  },
  {
   "cell_type": "code",
   "execution_count": 26,
   "metadata": {},
   "outputs": [
    {
     "name": "stdout",
     "output_type": "stream",
     "text": [
      "As disccused above, we divide data into train, validation and test set, train model on trainset and choose best parameters on validation set. Using the best parameters we train model on val+train and check accuracy on test set. Accuracy on validation is 96% while it's 92% on test set. This model can generalize well now.\n",
      "\n",
      "\n",
      "Size of train:(84, 4) Size of validation: (28, 4) Size of test set: (38, 4)\n",
      "\n",
      "Best score on validation set: 0.96\n",
      "Best parameters:  {'C': 10, 'gamma': 0.001}\n",
      "Test set score with best parameters: 0.92\n"
     ]
    }
   ],
   "source": [
    "ok = \"\"\"As disccused above, we divide data into train, validation and test set, train model on trainset and choose best parameters on validation set. Using the best parameters we train model on val+train and check accuracy on test set. Accuracy on validation is 96% while it's 92% on test set. This model can generalize well now.\"\"\"\n",
    "print(ok)\n",
    "print(\"\\n\")\n",
    "\n",
    "from sklearn.svm import SVC\n",
    "X_trainval, X_test, y_trainval, y_test = train_test_split(iris.data, iris.target, random_state=0)\n",
    "X_train, X_val, y_train, y_val = train_test_split(X_trainval, y_trainval,  random_state=1)\n",
    "print(\"Size of train:{} Size of validation: {} Size of test set: {}\\n\".format(X_train.shape, X_val.shape, X_test.shape))\n",
    "\n",
    "best_score = 0\n",
    "for gamma in [0.001, 0.01, 0.1, 1, 10, 100]:\n",
    "    for C in [0.001, 0.01, 0.1, 1, 10, 100]:\n",
    "        svm = SVC(gamma=gamma, C=C)\n",
    "        svm.fit(X_train, y_train)\n",
    "        score = svm.score(X_val, y_val)\n",
    "        if score > best_score:\n",
    "            best_score = score\n",
    "            best_params = {'C': C, 'gamma':gamma}\n",
    "\n",
    "\n",
    "# Now we train a SVM algorithm using best parameters\n",
    "svm = SVC(**best_params)\n",
    "svm.fit(X_trainval, y_trainval)\n",
    "test_score = svm.score(X_test, y_test)\n",
    "print(\"Best score on validation set: {:.2f}\".format(best_score))\n",
    "print(\"Best parameters: \", best_params)\n",
    "print(\"Test set score with best parameters: {:.2f}\".format(test_score))"
   ]
  },
  {
   "cell_type": "code",
   "execution_count": 27,
   "metadata": {},
   "outputs": [
    {
     "data": {
      "text/markdown": [
       "*GridSeachCV -- Grid Search With Cross Validation*"
      ],
      "text/plain": [
       "<IPython.core.display.Markdown object>"
      ]
     },
     "metadata": {},
     "output_type": "display_data"
    }
   ],
   "source": [
    "printbold(\"*GridSeachCV -- Grid Search With Cross Validation*\")\n"
   ]
  },
  {
   "cell_type": "code",
   "execution_count": 28,
   "metadata": {},
   "outputs": [
    {
     "name": "stdout",
     "output_type": "stream",
     "text": [
      "While the method of splitting the data into a training, a validation, and a test set that we just saw is workable, and relatively commonly used, it is quite sensitive to how exactly the data is split. From the output of the previous code snippet we can see that GridSearchCV selects 'C': 10, 'gamma': 0.001 as the best parameters, while the output of the code in the previous section selects 'C': 100, 'gamma': 0.001 as the best parameters. \n",
      "\n",
      "For a better estimate of the generalization performance, instead of using a single split into a training and a validation set, we can use cross-validation to evaluate the performance of each parameter combination. To evaluate the accuracy of the SVM using a particular setting of C and gamma using five-fold cross-validation, we need to train 36 * 5 = 180 models. This method can be coded up as follows:\n",
      "\n",
      "\n",
      "Best score on validation set: 0.97\n",
      "Best parameters:  {'C': 100, 'gamma': 0.01}\n",
      "\n",
      "\n",
      "Here is the final trained SVM model: \n",
      "SVC(C=100, cache_size=200, class_weight=None, coef0=0.0,\n",
      "  decision_function_shape='ovr', degree=3, gamma=0.01, kernel='rbf',\n",
      "  max_iter=-1, probability=False, random_state=None, shrinking=True,\n",
      "  tol=0.001, verbose=False)\n",
      "\n",
      "\n",
      "Following visualization illustrates how the best parameter setting is selected in the preceding code. For each parameter setting (only a subset is shown), five accuracy values are computed, one for each split in the cross-validation. Then the mean validation accuracy is computed for each parameter setting. The parameters with the highest mean validation accuracy are chosen, marked by the circle.\n"
     ]
    },
    {
     "data": {
      "image/png": "[encoded data removed]",
      "text/plain": [
       "<Figure size 720x216 with 1 Axes>"
      ]
     },
     "metadata": {},
     "output_type": "display_data"
    }
   ],
   "source": [
    "ok = \"\"\"While the method of splitting the data into a training, a validation, and a test set that we just saw is workable, and relatively commonly used, it is quite sensitive to how exactly the data is split. From the output of the previous code snippet we can see that GridSearchCV selects 'C': 10, 'gamma': 0.001 as the best parameters, while the output of the code in the previous section selects 'C': 100, 'gamma': 0.001 as the best parameters. \n",
    "\n",
    "For a better estimate of the generalization performance, instead of using a single split into a training and a validation set, we can use cross-validation to evaluate the performance of each parameter combination. To evaluate the accuracy of the SVM using a particular setting of C and gamma using five-fold cross-validation, we need to train 36 * 5 = 180 models. This method can be coded up as follows:\"\"\"\n",
    "print(ok)\n",
    "print(\"\\n\")\n",
    "for gamma in [0.001, 0.01, 0.1, 1, 10, 100]:\n",
    "    for C in [0.001, 0.01, 0.1, 1, 10, 100]:\n",
    "        # # for each combination of parameters, train an SVC\n",
    "        svm = SVC(gamma=gamma, C=C)\n",
    "        scores = cross_val_score(svm, X_trainval, y_trainval, cv=5)\n",
    "        score = np.mean(scores)\n",
    "        # # if we got a better score, store the score and parameters\n",
    "        if score > best_score:\n",
    "            best_score = score\n",
    "            best_params = {'C': C, 'gamma':gamma}\n",
    "\n",
    "\n",
    "\n",
    "print(\"Best score on validation set: {:.2f}\".format(best_score))\n",
    "print(\"Best parameters: \", best_params) \n",
    "print(\"\\n\")\n",
    "# Rebuild the model on combined train+val set\n",
    "svm = SVC(**best_params)\n",
    "print(\"Here is the final trained SVM model: \\n{}\".format(svm.fit(X_trainval, y_trainval)))\n",
    "print(\"\\n\")\n",
    "ok1 = \"\"\"Following visualization illustrates how the best parameter setting is selected in the preceding code. For each parameter setting (only a subset is shown), five accuracy values are computed, one for each split in the cross-validation. Then the mean validation accuracy is computed for each parameter setting. The parameters with the highest mean validation accuracy are chosen, marked by the circle.\"\"\"\n",
    "print(ok1)\n",
    "mglearn.plots.plot_cross_val_selection()"
   ]
  },
  {
   "cell_type": "code",
   "execution_count": 29,
   "metadata": {},
   "outputs": [
    {
     "name": "stdout",
     "output_type": "stream",
     "text": [
      "Overview of the process of parameter selection and model evaluation with GridSearchCV.\n"
     ]
    },
    {
     "data": {
      "image/png": "[encoded data removed]",
      "text/plain": [
       "<Figure size 700x210 with 1 Axes>"
      ]
     },
     "metadata": {},
     "output_type": "display_data"
    }
   ],
   "source": [
    "ok = \"\"\"Overview of the process of parameter selection and model evaluation with GridSearchCV.\"\"\"\n",
    "print(ok)\n",
    "mglearn.plots.plot_grid_search_overview()\n"
   ]
  },
  {
   "cell_type": "code",
   "execution_count": 30,
   "metadata": {},
   "outputs": [
    {
     "name": "stdout",
     "output_type": "stream",
     "text": [
      " Here, we create parameters for GridSearchCV method. For grid search with cross validation, scikit-learn provides the GridSearchCV class, which implements it in the form of an estimator. To use the GridSearchCV class, you first need to specify the parameters you want to search over using a dictionary. GridSearchCV will then perform all the necessary model fits. The keys of the dictionary are the names of parameters\n",
      "we want to adjust (as given when constructing the model—in this case, C and gamma), and the values are the parameter settings we want to try out. Trying the values 0.001, 0.01, 0.1, 1, 10, and 100 for C and gamma translates to the following dictionary:\n",
      "\n",
      "\n",
      "Parameter grid:\n",
      "{'C': [0.001, 0.01, 0.1, 1, 10, 100], 'gamma': [0.001, 0.01, 0.1, 1, 10, 100]}\n"
     ]
    }
   ],
   "source": [
    "\n",
    "ok = \"\"\" Here, we create parameters for GridSearchCV method. For grid search with cross validation, scikit-learn provides the GridSearchCV class, which implements it in the form of an estimator. To use the GridSearchCV class, you first need to specify the parameters you want to search over using a dictionary. GridSearchCV will then perform all the necessary model fits. The keys of the dictionary are the names of parameters\n",
    "we want to adjust (as given when constructing the model—in this case, C and gamma), and the values are the parameter settings we want to try out. Trying the values 0.001, 0.01, 0.1, 1, 10, and 100 for C and gamma translates to the following dictionary:\"\"\"\n",
    "print(ok)\n",
    "print(\"\\n\")\n",
    "param_grid = {'C': [0.001, 0.01, 0.1, 1, 10, 100],'gamma': [0.001, 0.01, 0.1, 1, 10, 100]}\n",
    "print(\"Parameter grid:\\n{}\".format(param_grid))\n",
    "\n"
   ]
  },
  {
   "cell_type": "code",
   "execution_count": 31,
   "metadata": {},
   "outputs": [
    {
     "name": "stdout",
     "output_type": "stream",
     "text": [
      " Here we train model using GridSearchCV. We can now instantiate the GridSearchCV class with the model (SVC), the parameter grid to search (param_grid), and the cross-validation strategy we want to use. GridSearchCV will use cross-validation in place of the split into a training and validation set that we used before. However, we still need to split the data into a training and a test set, to avoid overfitting the parameters.\n",
      "\n",
      "The grid_search object that we created behaves just like a classifier; we can call the standard methods fit, predict, and score on it.1 However, when we call fit, it will run cross-validation for each combination of parameters we specified in param_grid:\n",
      "\n",
      "\n",
      "This is the trained model: \n",
      " GridSearchCV(cv=5, error_score='raise',\n",
      "       estimator=SVC(C=1.0, cache_size=200, class_weight=None, coef0=0.0,\n",
      "  decision_function_shape='ovr', degree=3, gamma='auto', kernel='rbf',\n",
      "  max_iter=-1, probability=False, random_state=None, shrinking=True,\n",
      "  tol=0.001, verbose=False),\n",
      "       fit_params=None, iid=True, n_jobs=1,\n",
      "       param_grid={'C': [0.001, 0.01, 0.1, 1, 10, 100], 'gamma': [0.001, 0.01, 0.1, 1, 10, 100]},\n",
      "       pre_dispatch='2*n_jobs', refit=True, return_train_score=True,\n",
      "       scoring=None, verbose=0)\n"
     ]
    }
   ],
   "source": [
    "ok = \"\"\" Here we train model using GridSearchCV. We can now instantiate the GridSearchCV class with the model (SVC), the parameter grid to search (param_grid), and the cross-validation strategy we want to use. GridSearchCV will use cross-validation in place of the split into a training and validation set that we used before. However, we still need to split the data into a training and a test set, to avoid overfitting the parameters.\n",
    "\n",
    "The grid_search object that we created behaves just like a classifier; we can call the standard methods fit, predict, and score on it.1 However, when we call fit, it will run cross-validation for each combination of parameters we specified in param_grid:\"\"\"\n",
    "print(ok)\n",
    "print(\"\\n\")\n",
    "from sklearn.model_selection import GridSearchCV\n",
    "from sklearn.svm import SVC\n",
    "grid_search = GridSearchCV(SVC(), param_grid, cv=5)\n",
    "X_train, X_test, y_train, y_test = train_test_split(iris.data, iris.target, random_state=0)\n",
    "print(\"This is the trained model: \\n {}\".format(grid_search.fit(X_train, y_train)))\n"
   ]
  },
  {
   "cell_type": "code",
   "execution_count": 32,
   "metadata": {},
   "outputs": [
    {
     "name": "stdout",
     "output_type": "stream",
     "text": [
      "Here we check model accuracy using GridSearchCV. Fitting the GridSearchCV object not only searches for the best parameters, but also automatically fits a new model on the whole training dataset with the parameters that yielded the best cross-validation performance.\n",
      "The GridSearchCV class provides a very convenient interface to access the retrained model using the predict and score methods. To evaluate how well the best found parameters generalize, we can call score on the test set.\n",
      "\n",
      "We can find parameters that were found are scored in the best_params_ attribute, and the best cross-validation accuracy (the mean accuracy over the different splits for this parameter setting) is stored in best_score_:\n",
      "\n",
      "Lastly, We can access the model with the best parameters trained on the whole training set using the best_estimator_ attribute. Because grid_search itself has predict and score methods, using best_estimator_ is not needed to make predictions or evaluate the model.\n",
      "\n",
      "\n",
      "Test Score using GridSearchCV method: 0.97\n",
      "Best parameters: {'C': 100, 'gamma': 0.01}\n",
      "Best cross-validation score: 0.97\n",
      "\n",
      "\n",
      "Actual model used using GridSearchCV: \n",
      " SVC(C=100, cache_size=200, class_weight=None, coef0=0.0,\n",
      "  decision_function_shape='ovr', degree=3, gamma=0.01, kernel='rbf',\n",
      "  max_iter=-1, probability=False, random_state=None, shrinking=True,\n",
      "  tol=0.001, verbose=False)\n"
     ]
    }
   ],
   "source": [
    "ok = \"\"\"Here we check model accuracy using GridSearchCV. Fitting the GridSearchCV object not only searches for the best parameters, but also automatically fits a new model on the whole training dataset with the parameters that yielded the best cross-validation performance.\n",
    "The GridSearchCV class provides a very convenient interface to access the retrained model using the predict and score methods. To evaluate how well the best found parameters generalize, we can call score on the test set.\n",
    "\n",
    "We can find parameters that were found are scored in the best_params_ attribute, and the best cross-validation accuracy (the mean accuracy over the different splits for this parameter setting) is stored in best_score_:\n",
    "\n",
    "Lastly, We can access the model with the best parameters trained on the whole training set using the best_estimator_ attribute. Because grid_search itself has predict and score methods, using best_estimator_ is not needed to make predictions or evaluate the model.\n",
    "\n",
    "\"\"\"\n",
    "print(ok)\n",
    "\n",
    "print(\"Test Score using GridSearchCV method: {:.2f}\".format(grid_search.score(X_test, y_test)))\n",
    "print(\"Best parameters: {}\".format(grid_search.best_params_))\n",
    "print(\"Best cross-validation score: {:.2f}\".format(grid_search.best_score_))\n",
    "print(\"\\n\")\n",
    "print(\"Actual model used using GridSearchCV: \\n {}\".format(grid_search.best_estimator_))"
   ]
  },
  {
   "cell_type": "code",
   "execution_count": 33,
   "metadata": {},
   "outputs": [
    {
     "data": {
      "text/markdown": [
       "*GridSearchCV -- Analyzing the Result of Cross-Validation*"
      ],
      "text/plain": [
       "<IPython.core.display.Markdown object>"
      ]
     },
     "metadata": {},
     "output_type": "display_data"
    }
   ],
   "source": [
    "printbold(\"*GridSearchCV -- Analyzing the Result of Cross-Validation*\")"
   ]
  },
  {
   "cell_type": "code",
   "execution_count": 34,
   "metadata": {},
   "outputs": [
    {
     "name": "stdout",
     "output_type": "stream",
     "text": [
      "Here we analyze the cross validation results. The results of a grid search can be found in the cv_results_ attribute, which is a dictionary storing all aspects of the search. It contains a lot of details, as you can see in the following output, and is best looked at after converting it to a pandas DataFrame: \n"
     ]
    },
    {
     "data": {
      "text/html": [
       "<div>\n",
       "<style scoped>\n",
       "    .dataframe tbody tr th:only-of-type {\n",
       "        vertical-align: middle;\n",
       "    }\n",
       "\n",
       "    .dataframe tbody tr th {\n",
       "        vertical-align: top;\n",
       "    }\n",
       "\n",
       "    .dataframe thead th {\n",
       "        text-align: right;\n",
       "    }\n",
       "</style>\n",
       "<table border=\"1\" class=\"dataframe\">\n",
       "  <thead>\n",
       "    <tr style=\"text-align: right;\">\n",
       "      <th></th>\n",
       "      <th>mean_fit_time</th>\n",
       "      <th>std_fit_time</th>\n",
       "      <th>mean_score_time</th>\n",
       "      <th>std_score_time</th>\n",
       "      <th>param_C</th>\n",
       "      <th>param_gamma</th>\n",
       "      <th>params</th>\n",
       "      <th>split0_test_score</th>\n",
       "      <th>split1_test_score</th>\n",
       "      <th>split2_test_score</th>\n",
       "      <th>...</th>\n",
       "      <th>mean_test_score</th>\n",
       "      <th>std_test_score</th>\n",
       "      <th>rank_test_score</th>\n",
       "      <th>split0_train_score</th>\n",
       "      <th>split1_train_score</th>\n",
       "      <th>split2_train_score</th>\n",
       "      <th>split3_train_score</th>\n",
       "      <th>split4_train_score</th>\n",
       "      <th>mean_train_score</th>\n",
       "      <th>std_train_score</th>\n",
       "    </tr>\n",
       "  </thead>\n",
       "  <tbody>\n",
       "    <tr>\n",
       "      <th>0</th>\n",
       "      <td>0.001196</td>\n",
       "      <td>0.000400</td>\n",
       "      <td>0.000598</td>\n",
       "      <td>0.000489</td>\n",
       "      <td>0.001</td>\n",
       "      <td>0.001</td>\n",
       "      <td>{'C': 0.001, 'gamma': 0.001}</td>\n",
       "      <td>0.375</td>\n",
       "      <td>0.347826</td>\n",
       "      <td>0.363636</td>\n",
       "      <td>...</td>\n",
       "      <td>0.366071</td>\n",
       "      <td>0.011371</td>\n",
       "      <td>22</td>\n",
       "      <td>0.363636</td>\n",
       "      <td>0.370787</td>\n",
       "      <td>0.366667</td>\n",
       "      <td>0.366667</td>\n",
       "      <td>0.362637</td>\n",
       "      <td>0.366079</td>\n",
       "      <td>0.002852</td>\n",
       "    </tr>\n",
       "    <tr>\n",
       "      <th>1</th>\n",
       "      <td>0.001196</td>\n",
       "      <td>0.000399</td>\n",
       "      <td>0.000793</td>\n",
       "      <td>0.000396</td>\n",
       "      <td>0.001</td>\n",
       "      <td>0.01</td>\n",
       "      <td>{'C': 0.001, 'gamma': 0.01}</td>\n",
       "      <td>0.375</td>\n",
       "      <td>0.347826</td>\n",
       "      <td>0.363636</td>\n",
       "      <td>...</td>\n",
       "      <td>0.366071</td>\n",
       "      <td>0.011371</td>\n",
       "      <td>22</td>\n",
       "      <td>0.363636</td>\n",
       "      <td>0.370787</td>\n",
       "      <td>0.366667</td>\n",
       "      <td>0.366667</td>\n",
       "      <td>0.362637</td>\n",
       "      <td>0.366079</td>\n",
       "      <td>0.002852</td>\n",
       "    </tr>\n",
       "    <tr>\n",
       "      <th>2</th>\n",
       "      <td>0.001591</td>\n",
       "      <td>0.000795</td>\n",
       "      <td>0.000800</td>\n",
       "      <td>0.000400</td>\n",
       "      <td>0.001</td>\n",
       "      <td>0.1</td>\n",
       "      <td>{'C': 0.001, 'gamma': 0.1}</td>\n",
       "      <td>0.375</td>\n",
       "      <td>0.347826</td>\n",
       "      <td>0.363636</td>\n",
       "      <td>...</td>\n",
       "      <td>0.366071</td>\n",
       "      <td>0.011371</td>\n",
       "      <td>22</td>\n",
       "      <td>0.363636</td>\n",
       "      <td>0.370787</td>\n",
       "      <td>0.366667</td>\n",
       "      <td>0.366667</td>\n",
       "      <td>0.362637</td>\n",
       "      <td>0.366079</td>\n",
       "      <td>0.002852</td>\n",
       "    </tr>\n",
       "    <tr>\n",
       "      <th>3</th>\n",
       "      <td>0.000997</td>\n",
       "      <td>0.000630</td>\n",
       "      <td>0.000798</td>\n",
       "      <td>0.000747</td>\n",
       "      <td>0.001</td>\n",
       "      <td>1</td>\n",
       "      <td>{'C': 0.001, 'gamma': 1}</td>\n",
       "      <td>0.375</td>\n",
       "      <td>0.347826</td>\n",
       "      <td>0.363636</td>\n",
       "      <td>...</td>\n",
       "      <td>0.366071</td>\n",
       "      <td>0.011371</td>\n",
       "      <td>22</td>\n",
       "      <td>0.363636</td>\n",
       "      <td>0.370787</td>\n",
       "      <td>0.366667</td>\n",
       "      <td>0.366667</td>\n",
       "      <td>0.362637</td>\n",
       "      <td>0.366079</td>\n",
       "      <td>0.002852</td>\n",
       "    </tr>\n",
       "    <tr>\n",
       "      <th>4</th>\n",
       "      <td>0.001200</td>\n",
       "      <td>0.000398</td>\n",
       "      <td>0.000597</td>\n",
       "      <td>0.000488</td>\n",
       "      <td>0.001</td>\n",
       "      <td>10</td>\n",
       "      <td>{'C': 0.001, 'gamma': 10}</td>\n",
       "      <td>0.375</td>\n",
       "      <td>0.347826</td>\n",
       "      <td>0.363636</td>\n",
       "      <td>...</td>\n",
       "      <td>0.366071</td>\n",
       "      <td>0.011371</td>\n",
       "      <td>22</td>\n",
       "      <td>0.363636</td>\n",
       "      <td>0.370787</td>\n",
       "      <td>0.366667</td>\n",
       "      <td>0.366667</td>\n",
       "      <td>0.362637</td>\n",
       "      <td>0.366079</td>\n",
       "      <td>0.002852</td>\n",
       "    </tr>\n",
       "  </tbody>\n",
       "</table>\n",
       "<p>5 rows × 22 columns</p>\n",
       "</div>"
      ],
      "text/plain": [
       "   mean_fit_time  std_fit_time  mean_score_time  std_score_time param_C  \\\n",
       "0       0.001196      0.000400         0.000598        0.000489   0.001   \n",
       "1       0.001196      0.000399         0.000793        0.000396   0.001   \n",
       "2       0.001591      0.000795         0.000800        0.000400   0.001   \n",
       "3       0.000997      0.000630         0.000798        0.000747   0.001   \n",
       "4       0.001200      0.000398         0.000597        0.000488   0.001   \n",
       "\n",
       "  param_gamma                        params  split0_test_score  \\\n",
       "0       0.001  {'C': 0.001, 'gamma': 0.001}              0.375   \n",
       "1        0.01   {'C': 0.001, 'gamma': 0.01}              0.375   \n",
       "2         0.1    {'C': 0.001, 'gamma': 0.1}              0.375   \n",
       "3           1      {'C': 0.001, 'gamma': 1}              0.375   \n",
       "4          10     {'C': 0.001, 'gamma': 10}              0.375   \n",
       "\n",
       "   split1_test_score  split2_test_score       ...         mean_test_score  \\\n",
       "0           0.347826           0.363636       ...                0.366071   \n",
       "1           0.347826           0.363636       ...                0.366071   \n",
       "2           0.347826           0.363636       ...                0.366071   \n",
       "3           0.347826           0.363636       ...                0.366071   \n",
       "4           0.347826           0.363636       ...                0.366071   \n",
       "\n",
       "   std_test_score  rank_test_score  split0_train_score  split1_train_score  \\\n",
       "0        0.011371               22            0.363636            0.370787   \n",
       "1        0.011371               22            0.363636            0.370787   \n",
       "2        0.011371               22            0.363636            0.370787   \n",
       "3        0.011371               22            0.363636            0.370787   \n",
       "4        0.011371               22            0.363636            0.370787   \n",
       "\n",
       "   split2_train_score  split3_train_score  split4_train_score  \\\n",
       "0            0.366667            0.366667            0.362637   \n",
       "1            0.366667            0.366667            0.362637   \n",
       "2            0.366667            0.366667            0.362637   \n",
       "3            0.366667            0.366667            0.362637   \n",
       "4            0.366667            0.366667            0.362637   \n",
       "\n",
       "   mean_train_score  std_train_score  \n",
       "0          0.366079         0.002852  \n",
       "1          0.366079         0.002852  \n",
       "2          0.366079         0.002852  \n",
       "3          0.366079         0.002852  \n",
       "4          0.366079         0.002852  \n",
       "\n",
       "[5 rows x 22 columns]"
      ]
     },
     "metadata": {},
     "output_type": "display_data"
    },
    {
     "name": "stdout",
     "output_type": "stream",
     "text": [
      "\n",
      "\n",
      "Each row in above results corresponds to one particular parameter setting. For each setting, the results of all cross-validation splits are recorded, as well as the mean and standard deviation over all splits. As we were searching a two-dimensional grid of parameters (C and gamma), this is best visualized as a heat map (Figure 5-8). First we extract the mean validation scores, then we reshape the scores so that the axes correspond to C and gamma.\n",
      "Each point in the heat map corresponds to one run of cross-validation, with a particular parameter setting. Light color in heatmap means higher accuracy and dark color means lower accuracy. \n"
     ]
    },
    {
     "data": {
      "text/plain": [
       "<matplotlib.collections.PolyCollection at 0x29e686d7128>"
      ]
     },
     "execution_count": 34,
     "metadata": {},
     "output_type": "execute_result"
    },
    {
     "data": {
      "image/png": "[encoded data removed]",
      "text/plain": [
       "<Figure size 432x288 with 1 Axes>"
      ]
     },
     "metadata": {},
     "output_type": "display_data"
    }
   ],
   "source": [
    "ok = \"\"\"Here we analyze the cross validation results. The results of a grid search can be found in the cv_results_ attribute, which is a dictionary storing all aspects of the search. It contains a lot of details, as you can see in the following output, and is best looked at after converting it to a pandas DataFrame: \"\"\"\n",
    "print(ok)\n",
    "import pandas as pd\n",
    "results = pd.DataFrame(grid_search.cv_results_)\n",
    "display(results.head())\n",
    "\n",
    "print(\"\\n\")\n",
    "ok1 = \"\"\"Each row in above results corresponds to one particular parameter setting. For each setting, the results of all cross-validation splits are recorded, as well as the mean and standard deviation over all splits. As we were searching a two-dimensional grid of parameters (C and gamma), this is best visualized as a heat map (Figure 5-8). First we extract the mean validation scores, then we reshape the scores so that the axes correspond to C and gamma.\n",
    "Each point in the heat map corresponds to one run of cross-validation, with a particular parameter setting. Light color in heatmap means higher accuracy and dark color means lower accuracy. \"\"\"\n",
    "print(ok1)\n",
    "\n",
    "scores = np.array(results.mean_test_score).reshape(6, 6)\n",
    "# plot the mean cross-validation scores\n",
    "mglearn.tools.heatmap(scores, xlabel='gamma', xticklabels=param_grid['gamma'],\n",
    "ylabel='C', yticklabels=param_grid['C'], cmap=\"viridis\")"
   ]
  },
  {
   "cell_type": "code",
   "execution_count": 35,
   "metadata": {},
   "outputs": [
    {
     "name": "stdout",
     "output_type": "stream",
     "text": [
      "Here we look at diff values of C and alpha parametrs and take some insights.\n",
      "\n",
      "The first panel shows no changes at all, with a constant color over the whole parameter grid. In this case, this is caused by improper scaling and range of the parameters C and gamma. However, if no change in accuracy is visible over the different parameter settings, it could also be that a parameter is just not important at all, we dont know yet.\n",
      "\n",
      "The second panel shows a vertical stripe pattern. This indicates that only the setting of the gamma parameter makes any difference. This could mean that the gamma parameter is searching over interesting values but the C parameter is not—or it could mean the C parameter is not important, we dont know yet.\n",
      "\n",
      "The third panel shows changes in both C and gamma. However, we can see that in the entire bottom left of the plot, nothing interesting is happening. We can probably exclude the very small values from future grid searches. The optimum parameter setting is at the top right. As the optimum is in the border of the plot, we can expect that there might be even better values beyond this border, and we might want to change our search range to include more parameters in this region.\n",
      "\n",
      "\n"
     ]
    },
    {
     "data": {
      "text/plain": [
       "<matplotlib.colorbar.Colorbar at 0x29e684b7978>"
      ]
     },
     "execution_count": 35,
     "metadata": {},
     "output_type": "execute_result"
    },
    {
     "data": {
      "image/png": "[encoded data removed]",
      "text/plain": [
       "<Figure size 936x360 with 4 Axes>"
      ]
     },
     "metadata": {},
     "output_type": "display_data"
    }
   ],
   "source": [
    "ok = \"\"\"Here we look at diff values of C and alpha parametrs and take some insights.\n",
    "\n",
    "The first panel shows no changes at all, with a constant color over the whole parameter grid. In this case, this is caused by improper scaling and range of the parameters C and gamma. However, if no change in accuracy is visible over the different parameter settings, it could also be that a parameter is just not important at all, we dont know yet.\n",
    "\n",
    "The second panel shows a vertical stripe pattern. This indicates that only the setting of the gamma parameter makes any difference. This could mean that the gamma parameter is searching over interesting values but the C parameter is not—or it could mean the C parameter is not important, we dont know yet.\n",
    "\n",
    "The third panel shows changes in both C and gamma. However, we can see that in the entire bottom left of the plot, nothing interesting is happening. We can probably exclude the very small values from future grid searches. The optimum parameter setting is at the top right. As the optimum is in the border of the plot, we can expect that there might be even better values beyond this border, and we might want to change our search range to include more parameters in this region.\n",
    "\n",
    "\"\"\"\n",
    "print(ok)\n",
    "\n",
    "fig, axes = plt.subplots(1, 3, figsize=(13, 5))\n",
    "\n",
    "param_grid_linear = {'C': np.linspace(1, 2, 6),\n",
    "                     'gamma':  np.linspace(1, 2, 6)}\n",
    "\n",
    "param_grid_one_log = {'C': np.linspace(1, 2, 6),\n",
    "                      'gamma':  np.logspace(-3, 2, 6)}\n",
    "\n",
    "param_grid_range = {'C': np.logspace(-3, 2, 6),\n",
    "                    'gamma':  np.logspace(-7, -2, 6)}\n",
    "\n",
    "for param_grid, ax in zip([param_grid_linear, param_grid_one_log,\n",
    "                           param_grid_range], axes):\n",
    "    grid_search = GridSearchCV(SVC(), param_grid, cv=5)\n",
    "    grid_search.fit(X_train, y_train)\n",
    "    scores = grid_search.cv_results_['mean_test_score'].reshape(6, 6)\n",
    "\n",
    "    # plot the mean cross-validation scores\n",
    "    scores_image = mglearn.tools.heatmap(\n",
    "        scores, xlabel='gamma', ylabel='C', xticklabels=param_grid['gamma'],\n",
    "        yticklabels=param_grid['C'], cmap=\"viridis\", ax=ax)\n",
    "\n",
    "plt.colorbar(scores_image, ax=axes.tolist())\n"
   ]
  },
  {
   "cell_type": "code",
   "execution_count": 36,
   "metadata": {},
   "outputs": [
    {
     "data": {
      "text/markdown": [
       "*GridSearchCV -- Searching Over Spaces That Are Not Grid   !! !!!!!!!!!!!!!!!*"
      ],
      "text/plain": [
       "<IPython.core.display.Markdown object>"
      ]
     },
     "metadata": {},
     "output_type": "display_data"
    }
   ],
   "source": [
    "printbold(\"*GridSearchCV -- Searching Over Spaces That Are Not Grid   !! !!!!!!!!!!!!!!!*\")"
   ]
  },
  {
   "cell_type": "code",
   "execution_count": 37,
   "metadata": {},
   "outputs": [
    {
     "name": "stdout",
     "output_type": "stream",
     "text": [
      "In some cases, trying all possible combinations of all parameters as GridSearchCV usually does, is not a good idea. For example, in svm, we need both C & gamma value when use 'rbf' kernel. But when kernel='linear', we need only C & not gamma.\n",
      "\n",
      "\n",
      "print the list of grids: \n",
      " [{'kernel': ['rbf'], 'C': [0.001, 0.01, 0.1, 1, 10, 100], 'gamma': [0.001, 0.01, 0.1, 1, 10, 100]}, {'kernel': ['linear'], 'C': [0.001, 0.01, 0.1, 1, 10, 100]}]\n",
      "\n",
      "\n",
      "Best Parametrs: {'C': 100, 'gamma': 0.01, 'kernel': 'rbf'}\n",
      "Best Cross Validation Score: 0.97\n",
      "\n",
      "\n",
      "Also on a diff note, Similarly to cross_val_score, GridSearchCV uses stratified k-fold cross-validation by default for classification, and k-fold cross-validation for regression. Now, Let's lok at the diff combinations of parameters and associated score. \n"
     ]
    },
    {
     "data": {
      "text/html": [
       "<div>\n",
       "<style scoped>\n",
       "    .dataframe tbody tr th:only-of-type {\n",
       "        vertical-align: middle;\n",
       "    }\n",
       "\n",
       "    .dataframe tbody tr th {\n",
       "        vertical-align: top;\n",
       "    }\n",
       "\n",
       "    .dataframe thead th {\n",
       "        text-align: right;\n",
       "    }\n",
       "</style>\n",
       "<table border=\"1\" class=\"dataframe\">\n",
       "  <thead>\n",
       "    <tr style=\"text-align: right;\">\n",
       "      <th></th>\n",
       "      <th>0</th>\n",
       "      <th>1</th>\n",
       "      <th>2</th>\n",
       "      <th>3</th>\n",
       "      <th>4</th>\n",
       "      <th>5</th>\n",
       "      <th>6</th>\n",
       "      <th>7</th>\n",
       "      <th>8</th>\n",
       "      <th>9</th>\n",
       "      <th>...</th>\n",
       "      <th>32</th>\n",
       "      <th>33</th>\n",
       "      <th>34</th>\n",
       "      <th>35</th>\n",
       "      <th>36</th>\n",
       "      <th>37</th>\n",
       "      <th>38</th>\n",
       "      <th>39</th>\n",
       "      <th>40</th>\n",
       "      <th>41</th>\n",
       "    </tr>\n",
       "  </thead>\n",
       "  <tbody>\n",
       "    <tr>\n",
       "      <th>mean_fit_time</th>\n",
       "      <td>0.000798702</td>\n",
       "      <td>0.000984478</td>\n",
       "      <td>0.000997543</td>\n",
       "      <td>0.00119262</td>\n",
       "      <td>0.00119877</td>\n",
       "      <td>0.000998259</td>\n",
       "      <td>0.000994539</td>\n",
       "      <td>0.00118794</td>\n",
       "      <td>0.000997782</td>\n",
       "      <td>0.000798416</td>\n",
       "      <td>...</td>\n",
       "      <td>0.000997305</td>\n",
       "      <td>0.000797844</td>\n",
       "      <td>0.000598574</td>\n",
       "      <td>0</td>\n",
       "      <td>0</td>\n",
       "      <td>0</td>\n",
       "      <td>0.00110173</td>\n",
       "      <td>0.000199509</td>\n",
       "      <td>0</td>\n",
       "      <td>0</td>\n",
       "    </tr>\n",
       "    <tr>\n",
       "      <th>std_fit_time</th>\n",
       "      <td>0.000399353</td>\n",
       "      <td>1.46432e-05</td>\n",
       "      <td>2.05095e-06</td>\n",
       "      <td>0.000401547</td>\n",
       "      <td>0.000746296</td>\n",
       "      <td>2.89656e-06</td>\n",
       "      <td>2.02038e-05</td>\n",
       "      <td>0.000389348</td>\n",
       "      <td>1.92957e-05</td>\n",
       "      <td>0.000399209</td>\n",
       "      <td>...</td>\n",
       "      <td>3.98951e-07</td>\n",
       "      <td>0.000398922</td>\n",
       "      <td>0.00079788</td>\n",
       "      <td>0</td>\n",
       "      <td>0</td>\n",
       "      <td>0</td>\n",
       "      <td>0.00020957</td>\n",
       "      <td>0.000399017</td>\n",
       "      <td>0</td>\n",
       "      <td>0</td>\n",
       "    </tr>\n",
       "    <tr>\n",
       "      <th>mean_score_time</th>\n",
       "      <td>0.000398493</td>\n",
       "      <td>0</td>\n",
       "      <td>0.000398827</td>\n",
       "      <td>0.000199175</td>\n",
       "      <td>0.000404406</td>\n",
       "      <td>0.000597048</td>\n",
       "      <td>0.000597382</td>\n",
       "      <td>0.000198174</td>\n",
       "      <td>0.000194216</td>\n",
       "      <td>0.000200081</td>\n",
       "      <td>...</td>\n",
       "      <td>0</td>\n",
       "      <td>0.00039897</td>\n",
       "      <td>0.000211287</td>\n",
       "      <td>0</td>\n",
       "      <td>0</td>\n",
       "      <td>0</td>\n",
       "      <td>0</td>\n",
       "      <td>0.000421047</td>\n",
       "      <td>0</td>\n",
       "      <td>0</td>\n",
       "    </tr>\n",
       "    <tr>\n",
       "      <th>std_score_time</th>\n",
       "      <td>0.000488052</td>\n",
       "      <td>0</td>\n",
       "      <td>0.000488737</td>\n",
       "      <td>0.00039835</td>\n",
       "      <td>0.000495386</td>\n",
       "      <td>0.00048749</td>\n",
       "      <td>0.00048803</td>\n",
       "      <td>0.000396347</td>\n",
       "      <td>0.000388432</td>\n",
       "      <td>0.000400162</td>\n",
       "      <td>...</td>\n",
       "      <td>0</td>\n",
       "      <td>0.000488636</td>\n",
       "      <td>0.000422573</td>\n",
       "      <td>0</td>\n",
       "      <td>0</td>\n",
       "      <td>0</td>\n",
       "      <td>0</td>\n",
       "      <td>0.000516881</td>\n",
       "      <td>0</td>\n",
       "      <td>0</td>\n",
       "    </tr>\n",
       "    <tr>\n",
       "      <th>param_C</th>\n",
       "      <td>0.001</td>\n",
       "      <td>0.001</td>\n",
       "      <td>0.001</td>\n",
       "      <td>0.001</td>\n",
       "      <td>0.001</td>\n",
       "      <td>0.001</td>\n",
       "      <td>0.01</td>\n",
       "      <td>0.01</td>\n",
       "      <td>0.01</td>\n",
       "      <td>0.01</td>\n",
       "      <td>...</td>\n",
       "      <td>100</td>\n",
       "      <td>100</td>\n",
       "      <td>100</td>\n",
       "      <td>100</td>\n",
       "      <td>0.001</td>\n",
       "      <td>0.01</td>\n",
       "      <td>0.1</td>\n",
       "      <td>1</td>\n",
       "      <td>10</td>\n",
       "      <td>100</td>\n",
       "    </tr>\n",
       "    <tr>\n",
       "      <th>param_gamma</th>\n",
       "      <td>0.001</td>\n",
       "      <td>0.01</td>\n",
       "      <td>0.1</td>\n",
       "      <td>1</td>\n",
       "      <td>10</td>\n",
       "      <td>100</td>\n",
       "      <td>0.001</td>\n",
       "      <td>0.01</td>\n",
       "      <td>0.1</td>\n",
       "      <td>1</td>\n",
       "      <td>...</td>\n",
       "      <td>0.1</td>\n",
       "      <td>1</td>\n",
       "      <td>10</td>\n",
       "      <td>100</td>\n",
       "      <td>NaN</td>\n",
       "      <td>NaN</td>\n",
       "      <td>NaN</td>\n",
       "      <td>NaN</td>\n",
       "      <td>NaN</td>\n",
       "      <td>NaN</td>\n",
       "    </tr>\n",
       "    <tr>\n",
       "      <th>param_kernel</th>\n",
       "      <td>rbf</td>\n",
       "      <td>rbf</td>\n",
       "      <td>rbf</td>\n",
       "      <td>rbf</td>\n",
       "      <td>rbf</td>\n",
       "      <td>rbf</td>\n",
       "      <td>rbf</td>\n",
       "      <td>rbf</td>\n",
       "      <td>rbf</td>\n",
       "      <td>rbf</td>\n",
       "      <td>...</td>\n",
       "      <td>rbf</td>\n",
       "      <td>rbf</td>\n",
       "      <td>rbf</td>\n",
       "      <td>rbf</td>\n",
       "      <td>linear</td>\n",
       "      <td>linear</td>\n",
       "      <td>linear</td>\n",
       "      <td>linear</td>\n",
       "      <td>linear</td>\n",
       "      <td>linear</td>\n",
       "    </tr>\n",
       "    <tr>\n",
       "      <th>params</th>\n",
       "      <td>{'C': 0.001, 'gamma': 0.001, 'kernel': 'rbf'}</td>\n",
       "      <td>{'C': 0.001, 'gamma': 0.01, 'kernel': 'rbf'}</td>\n",
       "      <td>{'C': 0.001, 'gamma': 0.1, 'kernel': 'rbf'}</td>\n",
       "      <td>{'C': 0.001, 'gamma': 1, 'kernel': 'rbf'}</td>\n",
       "      <td>{'C': 0.001, 'gamma': 10, 'kernel': 'rbf'}</td>\n",
       "      <td>{'C': 0.001, 'gamma': 100, 'kernel': 'rbf'}</td>\n",
       "      <td>{'C': 0.01, 'gamma': 0.001, 'kernel': 'rbf'}</td>\n",
       "      <td>{'C': 0.01, 'gamma': 0.01, 'kernel': 'rbf'}</td>\n",
       "      <td>{'C': 0.01, 'gamma': 0.1, 'kernel': 'rbf'}</td>\n",
       "      <td>{'C': 0.01, 'gamma': 1, 'kernel': 'rbf'}</td>\n",
       "      <td>...</td>\n",
       "      <td>{'C': 100, 'gamma': 0.1, 'kernel': 'rbf'}</td>\n",
       "      <td>{'C': 100, 'gamma': 1, 'kernel': 'rbf'}</td>\n",
       "      <td>{'C': 100, 'gamma': 10, 'kernel': 'rbf'}</td>\n",
       "      <td>{'C': 100, 'gamma': 100, 'kernel': 'rbf'}</td>\n",
       "      <td>{'C': 0.001, 'kernel': 'linear'}</td>\n",
       "      <td>{'C': 0.01, 'kernel': 'linear'}</td>\n",
       "      <td>{'C': 0.1, 'kernel': 'linear'}</td>\n",
       "      <td>{'C': 1, 'kernel': 'linear'}</td>\n",
       "      <td>{'C': 10, 'kernel': 'linear'}</td>\n",
       "      <td>{'C': 100, 'kernel': 'linear'}</td>\n",
       "    </tr>\n",
       "    <tr>\n",
       "      <th>split0_test_score</th>\n",
       "      <td>0.375</td>\n",
       "      <td>0.375</td>\n",
       "      <td>0.375</td>\n",
       "      <td>0.375</td>\n",
       "      <td>0.375</td>\n",
       "      <td>0.375</td>\n",
       "      <td>0.375</td>\n",
       "      <td>0.375</td>\n",
       "      <td>0.375</td>\n",
       "      <td>0.375</td>\n",
       "      <td>...</td>\n",
       "      <td>0.958333</td>\n",
       "      <td>0.916667</td>\n",
       "      <td>0.875</td>\n",
       "      <td>0.541667</td>\n",
       "      <td>0.375</td>\n",
       "      <td>0.916667</td>\n",
       "      <td>0.958333</td>\n",
       "      <td>1</td>\n",
       "      <td>0.958333</td>\n",
       "      <td>0.958333</td>\n",
       "    </tr>\n",
       "    <tr>\n",
       "      <th>split1_test_score</th>\n",
       "      <td>0.347826</td>\n",
       "      <td>0.347826</td>\n",
       "      <td>0.347826</td>\n",
       "      <td>0.347826</td>\n",
       "      <td>0.347826</td>\n",
       "      <td>0.347826</td>\n",
       "      <td>0.347826</td>\n",
       "      <td>0.347826</td>\n",
       "      <td>0.347826</td>\n",
       "      <td>0.347826</td>\n",
       "      <td>...</td>\n",
       "      <td>1</td>\n",
       "      <td>1</td>\n",
       "      <td>0.956522</td>\n",
       "      <td>0.478261</td>\n",
       "      <td>0.347826</td>\n",
       "      <td>0.826087</td>\n",
       "      <td>0.913043</td>\n",
       "      <td>0.956522</td>\n",
       "      <td>1</td>\n",
       "      <td>1</td>\n",
       "    </tr>\n",
       "    <tr>\n",
       "      <th>split2_test_score</th>\n",
       "      <td>0.363636</td>\n",
       "      <td>0.363636</td>\n",
       "      <td>0.363636</td>\n",
       "      <td>0.363636</td>\n",
       "      <td>0.363636</td>\n",
       "      <td>0.363636</td>\n",
       "      <td>0.363636</td>\n",
       "      <td>0.363636</td>\n",
       "      <td>0.363636</td>\n",
       "      <td>0.363636</td>\n",
       "      <td>...</td>\n",
       "      <td>1</td>\n",
       "      <td>1</td>\n",
       "      <td>1</td>\n",
       "      <td>0.590909</td>\n",
       "      <td>0.363636</td>\n",
       "      <td>0.818182</td>\n",
       "      <td>1</td>\n",
       "      <td>1</td>\n",
       "      <td>1</td>\n",
       "      <td>1</td>\n",
       "    </tr>\n",
       "    <tr>\n",
       "      <th>split3_test_score</th>\n",
       "      <td>0.363636</td>\n",
       "      <td>0.363636</td>\n",
       "      <td>0.363636</td>\n",
       "      <td>0.363636</td>\n",
       "      <td>0.363636</td>\n",
       "      <td>0.363636</td>\n",
       "      <td>0.363636</td>\n",
       "      <td>0.363636</td>\n",
       "      <td>0.363636</td>\n",
       "      <td>0.363636</td>\n",
       "      <td>...</td>\n",
       "      <td>0.863636</td>\n",
       "      <td>0.863636</td>\n",
       "      <td>0.818182</td>\n",
       "      <td>0.590909</td>\n",
       "      <td>0.363636</td>\n",
       "      <td>0.772727</td>\n",
       "      <td>0.909091</td>\n",
       "      <td>0.954545</td>\n",
       "      <td>0.909091</td>\n",
       "      <td>0.909091</td>\n",
       "    </tr>\n",
       "    <tr>\n",
       "      <th>split4_test_score</th>\n",
       "      <td>0.380952</td>\n",
       "      <td>0.380952</td>\n",
       "      <td>0.380952</td>\n",
       "      <td>0.380952</td>\n",
       "      <td>0.380952</td>\n",
       "      <td>0.380952</td>\n",
       "      <td>0.380952</td>\n",
       "      <td>0.380952</td>\n",
       "      <td>0.380952</td>\n",
       "      <td>0.380952</td>\n",
       "      <td>...</td>\n",
       "      <td>0.952381</td>\n",
       "      <td>0.952381</td>\n",
       "      <td>0.952381</td>\n",
       "      <td>0.619048</td>\n",
       "      <td>0.380952</td>\n",
       "      <td>0.904762</td>\n",
       "      <td>0.952381</td>\n",
       "      <td>0.952381</td>\n",
       "      <td>0.952381</td>\n",
       "      <td>0.952381</td>\n",
       "    </tr>\n",
       "    <tr>\n",
       "      <th>mean_test_score</th>\n",
       "      <td>0.366071</td>\n",
       "      <td>0.366071</td>\n",
       "      <td>0.366071</td>\n",
       "      <td>0.366071</td>\n",
       "      <td>0.366071</td>\n",
       "      <td>0.366071</td>\n",
       "      <td>0.366071</td>\n",
       "      <td>0.366071</td>\n",
       "      <td>0.366071</td>\n",
       "      <td>0.366071</td>\n",
       "      <td>...</td>\n",
       "      <td>0.955357</td>\n",
       "      <td>0.946429</td>\n",
       "      <td>0.919643</td>\n",
       "      <td>0.5625</td>\n",
       "      <td>0.366071</td>\n",
       "      <td>0.848214</td>\n",
       "      <td>0.946429</td>\n",
       "      <td>0.973214</td>\n",
       "      <td>0.964286</td>\n",
       "      <td>0.964286</td>\n",
       "    </tr>\n",
       "    <tr>\n",
       "      <th>std_test_score</th>\n",
       "      <td>0.0113708</td>\n",
       "      <td>0.0113708</td>\n",
       "      <td>0.0113708</td>\n",
       "      <td>0.0113708</td>\n",
       "      <td>0.0113708</td>\n",
       "      <td>0.0113708</td>\n",
       "      <td>0.0113708</td>\n",
       "      <td>0.0113708</td>\n",
       "      <td>0.0113708</td>\n",
       "      <td>0.0113708</td>\n",
       "      <td>...</td>\n",
       "      <td>0.0495662</td>\n",
       "      <td>0.0519227</td>\n",
       "      <td>0.0647906</td>\n",
       "      <td>0.0496678</td>\n",
       "      <td>0.0113708</td>\n",
       "      <td>0.0547783</td>\n",
       "      <td>0.0332185</td>\n",
       "      <td>0.0223995</td>\n",
       "      <td>0.0338387</td>\n",
       "      <td>0.0338387</td>\n",
       "    </tr>\n",
       "    <tr>\n",
       "      <th>rank_test_score</th>\n",
       "      <td>27</td>\n",
       "      <td>27</td>\n",
       "      <td>27</td>\n",
       "      <td>27</td>\n",
       "      <td>27</td>\n",
       "      <td>27</td>\n",
       "      <td>27</td>\n",
       "      <td>27</td>\n",
       "      <td>27</td>\n",
       "      <td>27</td>\n",
       "      <td>...</td>\n",
       "      <td>9</td>\n",
       "      <td>11</td>\n",
       "      <td>17</td>\n",
       "      <td>24</td>\n",
       "      <td>27</td>\n",
       "      <td>21</td>\n",
       "      <td>11</td>\n",
       "      <td>1</td>\n",
       "      <td>3</td>\n",
       "      <td>3</td>\n",
       "    </tr>\n",
       "    <tr>\n",
       "      <th>split0_train_score</th>\n",
       "      <td>0.363636</td>\n",
       "      <td>0.363636</td>\n",
       "      <td>0.363636</td>\n",
       "      <td>0.363636</td>\n",
       "      <td>0.363636</td>\n",
       "      <td>0.363636</td>\n",
       "      <td>0.363636</td>\n",
       "      <td>0.363636</td>\n",
       "      <td>0.363636</td>\n",
       "      <td>0.363636</td>\n",
       "      <td>...</td>\n",
       "      <td>0.988636</td>\n",
       "      <td>1</td>\n",
       "      <td>1</td>\n",
       "      <td>1</td>\n",
       "      <td>0.363636</td>\n",
       "      <td>0.886364</td>\n",
       "      <td>0.965909</td>\n",
       "      <td>0.988636</td>\n",
       "      <td>0.988636</td>\n",
       "      <td>0.988636</td>\n",
       "    </tr>\n",
       "    <tr>\n",
       "      <th>split1_train_score</th>\n",
       "      <td>0.370787</td>\n",
       "      <td>0.370787</td>\n",
       "      <td>0.370787</td>\n",
       "      <td>0.370787</td>\n",
       "      <td>0.370787</td>\n",
       "      <td>0.370787</td>\n",
       "      <td>0.370787</td>\n",
       "      <td>0.370787</td>\n",
       "      <td>0.370787</td>\n",
       "      <td>0.370787</td>\n",
       "      <td>...</td>\n",
       "      <td>0.977528</td>\n",
       "      <td>1</td>\n",
       "      <td>1</td>\n",
       "      <td>1</td>\n",
       "      <td>0.370787</td>\n",
       "      <td>0.88764</td>\n",
       "      <td>0.977528</td>\n",
       "      <td>0.977528</td>\n",
       "      <td>0.988764</td>\n",
       "      <td>0.988764</td>\n",
       "    </tr>\n",
       "    <tr>\n",
       "      <th>split2_train_score</th>\n",
       "      <td>0.366667</td>\n",
       "      <td>0.366667</td>\n",
       "      <td>0.366667</td>\n",
       "      <td>0.366667</td>\n",
       "      <td>0.366667</td>\n",
       "      <td>0.366667</td>\n",
       "      <td>0.366667</td>\n",
       "      <td>0.366667</td>\n",
       "      <td>0.366667</td>\n",
       "      <td>0.366667</td>\n",
       "      <td>...</td>\n",
       "      <td>0.977778</td>\n",
       "      <td>1</td>\n",
       "      <td>1</td>\n",
       "      <td>1</td>\n",
       "      <td>0.366667</td>\n",
       "      <td>0.866667</td>\n",
       "      <td>0.944444</td>\n",
       "      <td>0.977778</td>\n",
       "      <td>0.977778</td>\n",
       "      <td>0.988889</td>\n",
       "    </tr>\n",
       "    <tr>\n",
       "      <th>split3_train_score</th>\n",
       "      <td>0.366667</td>\n",
       "      <td>0.366667</td>\n",
       "      <td>0.366667</td>\n",
       "      <td>0.366667</td>\n",
       "      <td>0.366667</td>\n",
       "      <td>0.366667</td>\n",
       "      <td>0.366667</td>\n",
       "      <td>0.366667</td>\n",
       "      <td>0.366667</td>\n",
       "      <td>0.366667</td>\n",
       "      <td>...</td>\n",
       "      <td>1</td>\n",
       "      <td>1</td>\n",
       "      <td>1</td>\n",
       "      <td>1</td>\n",
       "      <td>0.366667</td>\n",
       "      <td>0.755556</td>\n",
       "      <td>0.977778</td>\n",
       "      <td>0.988889</td>\n",
       "      <td>0.988889</td>\n",
       "      <td>1</td>\n",
       "    </tr>\n",
       "    <tr>\n",
       "      <th>split4_train_score</th>\n",
       "      <td>0.362637</td>\n",
       "      <td>0.362637</td>\n",
       "      <td>0.362637</td>\n",
       "      <td>0.362637</td>\n",
       "      <td>0.362637</td>\n",
       "      <td>0.362637</td>\n",
       "      <td>0.362637</td>\n",
       "      <td>0.362637</td>\n",
       "      <td>0.362637</td>\n",
       "      <td>0.362637</td>\n",
       "      <td>...</td>\n",
       "      <td>1</td>\n",
       "      <td>1</td>\n",
       "      <td>1</td>\n",
       "      <td>1</td>\n",
       "      <td>0.362637</td>\n",
       "      <td>0.879121</td>\n",
       "      <td>0.967033</td>\n",
       "      <td>0.989011</td>\n",
       "      <td>1</td>\n",
       "      <td>1</td>\n",
       "    </tr>\n",
       "    <tr>\n",
       "      <th>mean_train_score</th>\n",
       "      <td>0.366079</td>\n",
       "      <td>0.366079</td>\n",
       "      <td>0.366079</td>\n",
       "      <td>0.366079</td>\n",
       "      <td>0.366079</td>\n",
       "      <td>0.366079</td>\n",
       "      <td>0.366079</td>\n",
       "      <td>0.366079</td>\n",
       "      <td>0.366079</td>\n",
       "      <td>0.366079</td>\n",
       "      <td>...</td>\n",
       "      <td>0.988788</td>\n",
       "      <td>1</td>\n",
       "      <td>1</td>\n",
       "      <td>1</td>\n",
       "      <td>0.366079</td>\n",
       "      <td>0.855069</td>\n",
       "      <td>0.966538</td>\n",
       "      <td>0.984368</td>\n",
       "      <td>0.988813</td>\n",
       "      <td>0.993258</td>\n",
       "    </tr>\n",
       "    <tr>\n",
       "      <th>std_train_score</th>\n",
       "      <td>0.00285176</td>\n",
       "      <td>0.00285176</td>\n",
       "      <td>0.00285176</td>\n",
       "      <td>0.00285176</td>\n",
       "      <td>0.00285176</td>\n",
       "      <td>0.00285176</td>\n",
       "      <td>0.00285176</td>\n",
       "      <td>0.00285176</td>\n",
       "      <td>0.00285176</td>\n",
       "      <td>0.00285176</td>\n",
       "      <td>...</td>\n",
       "      <td>0.00999451</td>\n",
       "      <td>0</td>\n",
       "      <td>0</td>\n",
       "      <td>0</td>\n",
       "      <td>0.00285176</td>\n",
       "      <td>0.0503114</td>\n",
       "      <td>0.0121316</td>\n",
       "      <td>0.00548507</td>\n",
       "      <td>0.00702801</td>\n",
       "      <td>0.00550551</td>\n",
       "    </tr>\n",
       "  </tbody>\n",
       "</table>\n",
       "<p>23 rows × 42 columns</p>\n",
       "</div>"
      ],
      "text/plain": [
       "                                                               0   \\\n",
       "mean_fit_time                                         0.000798702   \n",
       "std_fit_time                                          0.000399353   \n",
       "mean_score_time                                       0.000398493   \n",
       "std_score_time                                        0.000488052   \n",
       "param_C                                                     0.001   \n",
       "param_gamma                                                 0.001   \n",
       "param_kernel                                                  rbf   \n",
       "params              {'C': 0.001, 'gamma': 0.001, 'kernel': 'rbf'}   \n",
       "split0_test_score                                           0.375   \n",
       "split1_test_score                                        0.347826   \n",
       "split2_test_score                                        0.363636   \n",
       "split3_test_score                                        0.363636   \n",
       "split4_test_score                                        0.380952   \n",
       "mean_test_score                                          0.366071   \n",
       "std_test_score                                          0.0113708   \n",
       "rank_test_score                                                27   \n",
       "split0_train_score                                       0.363636   \n",
       "split1_train_score                                       0.370787   \n",
       "split2_train_score                                       0.366667   \n",
       "split3_train_score                                       0.366667   \n",
       "split4_train_score                                       0.362637   \n",
       "mean_train_score                                         0.366079   \n",
       "std_train_score                                        0.00285176   \n",
       "\n",
       "                                                              1   \\\n",
       "mean_fit_time                                        0.000984478   \n",
       "std_fit_time                                         1.46432e-05   \n",
       "mean_score_time                                                0   \n",
       "std_score_time                                                 0   \n",
       "param_C                                                    0.001   \n",
       "param_gamma                                                 0.01   \n",
       "param_kernel                                                 rbf   \n",
       "params              {'C': 0.001, 'gamma': 0.01, 'kernel': 'rbf'}   \n",
       "split0_test_score                                          0.375   \n",
       "split1_test_score                                       0.347826   \n",
       "split2_test_score                                       0.363636   \n",
       "split3_test_score                                       0.363636   \n",
       "split4_test_score                                       0.380952   \n",
       "mean_test_score                                         0.366071   \n",
       "std_test_score                                         0.0113708   \n",
       "rank_test_score                                               27   \n",
       "split0_train_score                                      0.363636   \n",
       "split1_train_score                                      0.370787   \n",
       "split2_train_score                                      0.366667   \n",
       "split3_train_score                                      0.366667   \n",
       "split4_train_score                                      0.362637   \n",
       "mean_train_score                                        0.366079   \n",
       "std_train_score                                       0.00285176   \n",
       "\n",
       "                                                             2   \\\n",
       "mean_fit_time                                       0.000997543   \n",
       "std_fit_time                                        2.05095e-06   \n",
       "mean_score_time                                     0.000398827   \n",
       "std_score_time                                      0.000488737   \n",
       "param_C                                                   0.001   \n",
       "param_gamma                                                 0.1   \n",
       "param_kernel                                                rbf   \n",
       "params              {'C': 0.001, 'gamma': 0.1, 'kernel': 'rbf'}   \n",
       "split0_test_score                                         0.375   \n",
       "split1_test_score                                      0.347826   \n",
       "split2_test_score                                      0.363636   \n",
       "split3_test_score                                      0.363636   \n",
       "split4_test_score                                      0.380952   \n",
       "mean_test_score                                        0.366071   \n",
       "std_test_score                                        0.0113708   \n",
       "rank_test_score                                              27   \n",
       "split0_train_score                                     0.363636   \n",
       "split1_train_score                                     0.370787   \n",
       "split2_train_score                                     0.366667   \n",
       "split3_train_score                                     0.366667   \n",
       "split4_train_score                                     0.362637   \n",
       "mean_train_score                                       0.366079   \n",
       "std_train_score                                      0.00285176   \n",
       "\n",
       "                                                           3   \\\n",
       "mean_fit_time                                      0.00119262   \n",
       "std_fit_time                                      0.000401547   \n",
       "mean_score_time                                   0.000199175   \n",
       "std_score_time                                     0.00039835   \n",
       "param_C                                                 0.001   \n",
       "param_gamma                                                 1   \n",
       "param_kernel                                              rbf   \n",
       "params              {'C': 0.001, 'gamma': 1, 'kernel': 'rbf'}   \n",
       "split0_test_score                                       0.375   \n",
       "split1_test_score                                    0.347826   \n",
       "split2_test_score                                    0.363636   \n",
       "split3_test_score                                    0.363636   \n",
       "split4_test_score                                    0.380952   \n",
       "mean_test_score                                      0.366071   \n",
       "std_test_score                                      0.0113708   \n",
       "rank_test_score                                            27   \n",
       "split0_train_score                                   0.363636   \n",
       "split1_train_score                                   0.370787   \n",
       "split2_train_score                                   0.366667   \n",
       "split3_train_score                                   0.366667   \n",
       "split4_train_score                                   0.362637   \n",
       "mean_train_score                                     0.366079   \n",
       "std_train_score                                    0.00285176   \n",
       "\n",
       "                                                            4   \\\n",
       "mean_fit_time                                       0.00119877   \n",
       "std_fit_time                                       0.000746296   \n",
       "mean_score_time                                    0.000404406   \n",
       "std_score_time                                     0.000495386   \n",
       "param_C                                                  0.001   \n",
       "param_gamma                                                 10   \n",
       "param_kernel                                               rbf   \n",
       "params              {'C': 0.001, 'gamma': 10, 'kernel': 'rbf'}   \n",
       "split0_test_score                                        0.375   \n",
       "split1_test_score                                     0.347826   \n",
       "split2_test_score                                     0.363636   \n",
       "split3_test_score                                     0.363636   \n",
       "split4_test_score                                     0.380952   \n",
       "mean_test_score                                       0.366071   \n",
       "std_test_score                                       0.0113708   \n",
       "rank_test_score                                             27   \n",
       "split0_train_score                                    0.363636   \n",
       "split1_train_score                                    0.370787   \n",
       "split2_train_score                                    0.366667   \n",
       "split3_train_score                                    0.366667   \n",
       "split4_train_score                                    0.362637   \n",
       "mean_train_score                                      0.366079   \n",
       "std_train_score                                     0.00285176   \n",
       "\n",
       "                                                             5   \\\n",
       "mean_fit_time                                       0.000998259   \n",
       "std_fit_time                                        2.89656e-06   \n",
       "mean_score_time                                     0.000597048   \n",
       "std_score_time                                       0.00048749   \n",
       "param_C                                                   0.001   \n",
       "param_gamma                                                 100   \n",
       "param_kernel                                                rbf   \n",
       "params              {'C': 0.001, 'gamma': 100, 'kernel': 'rbf'}   \n",
       "split0_test_score                                         0.375   \n",
       "split1_test_score                                      0.347826   \n",
       "split2_test_score                                      0.363636   \n",
       "split3_test_score                                      0.363636   \n",
       "split4_test_score                                      0.380952   \n",
       "mean_test_score                                        0.366071   \n",
       "std_test_score                                        0.0113708   \n",
       "rank_test_score                                              27   \n",
       "split0_train_score                                     0.363636   \n",
       "split1_train_score                                     0.370787   \n",
       "split2_train_score                                     0.366667   \n",
       "split3_train_score                                     0.366667   \n",
       "split4_train_score                                     0.362637   \n",
       "mean_train_score                                       0.366079   \n",
       "std_train_score                                      0.00285176   \n",
       "\n",
       "                                                              6   \\\n",
       "mean_fit_time                                        0.000994539   \n",
       "std_fit_time                                         2.02038e-05   \n",
       "mean_score_time                                      0.000597382   \n",
       "std_score_time                                        0.00048803   \n",
       "param_C                                                     0.01   \n",
       "param_gamma                                                0.001   \n",
       "param_kernel                                                 rbf   \n",
       "params              {'C': 0.01, 'gamma': 0.001, 'kernel': 'rbf'}   \n",
       "split0_test_score                                          0.375   \n",
       "split1_test_score                                       0.347826   \n",
       "split2_test_score                                       0.363636   \n",
       "split3_test_score                                       0.363636   \n",
       "split4_test_score                                       0.380952   \n",
       "mean_test_score                                         0.366071   \n",
       "std_test_score                                         0.0113708   \n",
       "rank_test_score                                               27   \n",
       "split0_train_score                                      0.363636   \n",
       "split1_train_score                                      0.370787   \n",
       "split2_train_score                                      0.366667   \n",
       "split3_train_score                                      0.366667   \n",
       "split4_train_score                                      0.362637   \n",
       "mean_train_score                                        0.366079   \n",
       "std_train_score                                       0.00285176   \n",
       "\n",
       "                                                             7   \\\n",
       "mean_fit_time                                        0.00118794   \n",
       "std_fit_time                                        0.000389348   \n",
       "mean_score_time                                     0.000198174   \n",
       "std_score_time                                      0.000396347   \n",
       "param_C                                                    0.01   \n",
       "param_gamma                                                0.01   \n",
       "param_kernel                                                rbf   \n",
       "params              {'C': 0.01, 'gamma': 0.01, 'kernel': 'rbf'}   \n",
       "split0_test_score                                         0.375   \n",
       "split1_test_score                                      0.347826   \n",
       "split2_test_score                                      0.363636   \n",
       "split3_test_score                                      0.363636   \n",
       "split4_test_score                                      0.380952   \n",
       "mean_test_score                                        0.366071   \n",
       "std_test_score                                        0.0113708   \n",
       "rank_test_score                                              27   \n",
       "split0_train_score                                     0.363636   \n",
       "split1_train_score                                     0.370787   \n",
       "split2_train_score                                     0.366667   \n",
       "split3_train_score                                     0.366667   \n",
       "split4_train_score                                     0.362637   \n",
       "mean_train_score                                       0.366079   \n",
       "std_train_score                                      0.00285176   \n",
       "\n",
       "                                                            8   \\\n",
       "mean_fit_time                                      0.000997782   \n",
       "std_fit_time                                       1.92957e-05   \n",
       "mean_score_time                                    0.000194216   \n",
       "std_score_time                                     0.000388432   \n",
       "param_C                                                   0.01   \n",
       "param_gamma                                                0.1   \n",
       "param_kernel                                               rbf   \n",
       "params              {'C': 0.01, 'gamma': 0.1, 'kernel': 'rbf'}   \n",
       "split0_test_score                                        0.375   \n",
       "split1_test_score                                     0.347826   \n",
       "split2_test_score                                     0.363636   \n",
       "split3_test_score                                     0.363636   \n",
       "split4_test_score                                     0.380952   \n",
       "mean_test_score                                       0.366071   \n",
       "std_test_score                                       0.0113708   \n",
       "rank_test_score                                             27   \n",
       "split0_train_score                                    0.363636   \n",
       "split1_train_score                                    0.370787   \n",
       "split2_train_score                                    0.366667   \n",
       "split3_train_score                                    0.366667   \n",
       "split4_train_score                                    0.362637   \n",
       "mean_train_score                                      0.366079   \n",
       "std_train_score                                     0.00285176   \n",
       "\n",
       "                                                          9   \\\n",
       "mean_fit_time                                    0.000798416   \n",
       "std_fit_time                                     0.000399209   \n",
       "mean_score_time                                  0.000200081   \n",
       "std_score_time                                   0.000400162   \n",
       "param_C                                                 0.01   \n",
       "param_gamma                                                1   \n",
       "param_kernel                                             rbf   \n",
       "params              {'C': 0.01, 'gamma': 1, 'kernel': 'rbf'}   \n",
       "split0_test_score                                      0.375   \n",
       "split1_test_score                                   0.347826   \n",
       "split2_test_score                                   0.363636   \n",
       "split3_test_score                                   0.363636   \n",
       "split4_test_score                                   0.380952   \n",
       "mean_test_score                                     0.366071   \n",
       "std_test_score                                     0.0113708   \n",
       "rank_test_score                                           27   \n",
       "split0_train_score                                  0.363636   \n",
       "split1_train_score                                  0.370787   \n",
       "split2_train_score                                  0.366667   \n",
       "split3_train_score                                  0.366667   \n",
       "split4_train_score                                  0.362637   \n",
       "mean_train_score                                    0.366079   \n",
       "std_train_score                                   0.00285176   \n",
       "\n",
       "                                 ...                \\\n",
       "mean_fit_time                    ...                 \n",
       "std_fit_time                     ...                 \n",
       "mean_score_time                  ...                 \n",
       "std_score_time                   ...                 \n",
       "param_C                          ...                 \n",
       "param_gamma                      ...                 \n",
       "param_kernel                     ...                 \n",
       "params                           ...                 \n",
       "split0_test_score                ...                 \n",
       "split1_test_score                ...                 \n",
       "split2_test_score                ...                 \n",
       "split3_test_score                ...                 \n",
       "split4_test_score                ...                 \n",
       "mean_test_score                  ...                 \n",
       "std_test_score                   ...                 \n",
       "rank_test_score                  ...                 \n",
       "split0_train_score               ...                 \n",
       "split1_train_score               ...                 \n",
       "split2_train_score               ...                 \n",
       "split3_train_score               ...                 \n",
       "split4_train_score               ...                 \n",
       "mean_train_score                 ...                 \n",
       "std_train_score                  ...                 \n",
       "\n",
       "                                                           32  \\\n",
       "mean_fit_time                                     0.000997305   \n",
       "std_fit_time                                      3.98951e-07   \n",
       "mean_score_time                                             0   \n",
       "std_score_time                                              0   \n",
       "param_C                                                   100   \n",
       "param_gamma                                               0.1   \n",
       "param_kernel                                              rbf   \n",
       "params              {'C': 100, 'gamma': 0.1, 'kernel': 'rbf'}   \n",
       "split0_test_score                                    0.958333   \n",
       "split1_test_score                                           1   \n",
       "split2_test_score                                           1   \n",
       "split3_test_score                                    0.863636   \n",
       "split4_test_score                                    0.952381   \n",
       "mean_test_score                                      0.955357   \n",
       "std_test_score                                      0.0495662   \n",
       "rank_test_score                                             9   \n",
       "split0_train_score                                   0.988636   \n",
       "split1_train_score                                   0.977528   \n",
       "split2_train_score                                   0.977778   \n",
       "split3_train_score                                          1   \n",
       "split4_train_score                                          1   \n",
       "mean_train_score                                     0.988788   \n",
       "std_train_score                                    0.00999451   \n",
       "\n",
       "                                                         33  \\\n",
       "mean_fit_time                                   0.000797844   \n",
       "std_fit_time                                    0.000398922   \n",
       "mean_score_time                                  0.00039897   \n",
       "std_score_time                                  0.000488636   \n",
       "param_C                                                 100   \n",
       "param_gamma                                               1   \n",
       "param_kernel                                            rbf   \n",
       "params              {'C': 100, 'gamma': 1, 'kernel': 'rbf'}   \n",
       "split0_test_score                                  0.916667   \n",
       "split1_test_score                                         1   \n",
       "split2_test_score                                         1   \n",
       "split3_test_score                                  0.863636   \n",
       "split4_test_score                                  0.952381   \n",
       "mean_test_score                                    0.946429   \n",
       "std_test_score                                    0.0519227   \n",
       "rank_test_score                                          11   \n",
       "split0_train_score                                        1   \n",
       "split1_train_score                                        1   \n",
       "split2_train_score                                        1   \n",
       "split3_train_score                                        1   \n",
       "split4_train_score                                        1   \n",
       "mean_train_score                                          1   \n",
       "std_train_score                                           0   \n",
       "\n",
       "                                                          34  \\\n",
       "mean_fit_time                                    0.000598574   \n",
       "std_fit_time                                      0.00079788   \n",
       "mean_score_time                                  0.000211287   \n",
       "std_score_time                                   0.000422573   \n",
       "param_C                                                  100   \n",
       "param_gamma                                               10   \n",
       "param_kernel                                             rbf   \n",
       "params              {'C': 100, 'gamma': 10, 'kernel': 'rbf'}   \n",
       "split0_test_score                                      0.875   \n",
       "split1_test_score                                   0.956522   \n",
       "split2_test_score                                          1   \n",
       "split3_test_score                                   0.818182   \n",
       "split4_test_score                                   0.952381   \n",
       "mean_test_score                                     0.919643   \n",
       "std_test_score                                     0.0647906   \n",
       "rank_test_score                                           17   \n",
       "split0_train_score                                         1   \n",
       "split1_train_score                                         1   \n",
       "split2_train_score                                         1   \n",
       "split3_train_score                                         1   \n",
       "split4_train_score                                         1   \n",
       "mean_train_score                                           1   \n",
       "std_train_score                                            0   \n",
       "\n",
       "                                                           35  \\\n",
       "mean_fit_time                                               0   \n",
       "std_fit_time                                                0   \n",
       "mean_score_time                                             0   \n",
       "std_score_time                                              0   \n",
       "param_C                                                   100   \n",
       "param_gamma                                               100   \n",
       "param_kernel                                              rbf   \n",
       "params              {'C': 100, 'gamma': 100, 'kernel': 'rbf'}   \n",
       "split0_test_score                                    0.541667   \n",
       "split1_test_score                                    0.478261   \n",
       "split2_test_score                                    0.590909   \n",
       "split3_test_score                                    0.590909   \n",
       "split4_test_score                                    0.619048   \n",
       "mean_test_score                                        0.5625   \n",
       "std_test_score                                      0.0496678   \n",
       "rank_test_score                                            24   \n",
       "split0_train_score                                          1   \n",
       "split1_train_score                                          1   \n",
       "split2_train_score                                          1   \n",
       "split3_train_score                                          1   \n",
       "split4_train_score                                          1   \n",
       "mean_train_score                                            1   \n",
       "std_train_score                                             0   \n",
       "\n",
       "                                                  36  \\\n",
       "mean_fit_time                                      0   \n",
       "std_fit_time                                       0   \n",
       "mean_score_time                                    0   \n",
       "std_score_time                                     0   \n",
       "param_C                                        0.001   \n",
       "param_gamma                                      NaN   \n",
       "param_kernel                                  linear   \n",
       "params              {'C': 0.001, 'kernel': 'linear'}   \n",
       "split0_test_score                              0.375   \n",
       "split1_test_score                           0.347826   \n",
       "split2_test_score                           0.363636   \n",
       "split3_test_score                           0.363636   \n",
       "split4_test_score                           0.380952   \n",
       "mean_test_score                             0.366071   \n",
       "std_test_score                             0.0113708   \n",
       "rank_test_score                                   27   \n",
       "split0_train_score                          0.363636   \n",
       "split1_train_score                          0.370787   \n",
       "split2_train_score                          0.366667   \n",
       "split3_train_score                          0.366667   \n",
       "split4_train_score                          0.362637   \n",
       "mean_train_score                            0.366079   \n",
       "std_train_score                           0.00285176   \n",
       "\n",
       "                                                 37  \\\n",
       "mean_fit_time                                     0   \n",
       "std_fit_time                                      0   \n",
       "mean_score_time                                   0   \n",
       "std_score_time                                    0   \n",
       "param_C                                        0.01   \n",
       "param_gamma                                     NaN   \n",
       "param_kernel                                 linear   \n",
       "params              {'C': 0.01, 'kernel': 'linear'}   \n",
       "split0_test_score                          0.916667   \n",
       "split1_test_score                          0.826087   \n",
       "split2_test_score                          0.818182   \n",
       "split3_test_score                          0.772727   \n",
       "split4_test_score                          0.904762   \n",
       "mean_test_score                            0.848214   \n",
       "std_test_score                            0.0547783   \n",
       "rank_test_score                                  21   \n",
       "split0_train_score                         0.886364   \n",
       "split1_train_score                          0.88764   \n",
       "split2_train_score                         0.866667   \n",
       "split3_train_score                         0.755556   \n",
       "split4_train_score                         0.879121   \n",
       "mean_train_score                           0.855069   \n",
       "std_train_score                           0.0503114   \n",
       "\n",
       "                                                38  \\\n",
       "mean_fit_time                           0.00110173   \n",
       "std_fit_time                            0.00020957   \n",
       "mean_score_time                                  0   \n",
       "std_score_time                                   0   \n",
       "param_C                                        0.1   \n",
       "param_gamma                                    NaN   \n",
       "param_kernel                                linear   \n",
       "params              {'C': 0.1, 'kernel': 'linear'}   \n",
       "split0_test_score                         0.958333   \n",
       "split1_test_score                         0.913043   \n",
       "split2_test_score                                1   \n",
       "split3_test_score                         0.909091   \n",
       "split4_test_score                         0.952381   \n",
       "mean_test_score                           0.946429   \n",
       "std_test_score                           0.0332185   \n",
       "rank_test_score                                 11   \n",
       "split0_train_score                        0.965909   \n",
       "split1_train_score                        0.977528   \n",
       "split2_train_score                        0.944444   \n",
       "split3_train_score                        0.977778   \n",
       "split4_train_score                        0.967033   \n",
       "mean_train_score                          0.966538   \n",
       "std_train_score                          0.0121316   \n",
       "\n",
       "                                              39  \\\n",
       "mean_fit_time                        0.000199509   \n",
       "std_fit_time                         0.000399017   \n",
       "mean_score_time                      0.000421047   \n",
       "std_score_time                       0.000516881   \n",
       "param_C                                        1   \n",
       "param_gamma                                  NaN   \n",
       "param_kernel                              linear   \n",
       "params              {'C': 1, 'kernel': 'linear'}   \n",
       "split0_test_score                              1   \n",
       "split1_test_score                       0.956522   \n",
       "split2_test_score                              1   \n",
       "split3_test_score                       0.954545   \n",
       "split4_test_score                       0.952381   \n",
       "mean_test_score                         0.973214   \n",
       "std_test_score                         0.0223995   \n",
       "rank_test_score                                1   \n",
       "split0_train_score                      0.988636   \n",
       "split1_train_score                      0.977528   \n",
       "split2_train_score                      0.977778   \n",
       "split3_train_score                      0.988889   \n",
       "split4_train_score                      0.989011   \n",
       "mean_train_score                        0.984368   \n",
       "std_train_score                       0.00548507   \n",
       "\n",
       "                                               40  \\\n",
       "mean_fit_time                                   0   \n",
       "std_fit_time                                    0   \n",
       "mean_score_time                                 0   \n",
       "std_score_time                                  0   \n",
       "param_C                                        10   \n",
       "param_gamma                                   NaN   \n",
       "param_kernel                               linear   \n",
       "params              {'C': 10, 'kernel': 'linear'}   \n",
       "split0_test_score                        0.958333   \n",
       "split1_test_score                               1   \n",
       "split2_test_score                               1   \n",
       "split3_test_score                        0.909091   \n",
       "split4_test_score                        0.952381   \n",
       "mean_test_score                          0.964286   \n",
       "std_test_score                          0.0338387   \n",
       "rank_test_score                                 3   \n",
       "split0_train_score                       0.988636   \n",
       "split1_train_score                       0.988764   \n",
       "split2_train_score                       0.977778   \n",
       "split3_train_score                       0.988889   \n",
       "split4_train_score                              1   \n",
       "mean_train_score                         0.988813   \n",
       "std_train_score                        0.00702801   \n",
       "\n",
       "                                                41  \n",
       "mean_fit_time                                    0  \n",
       "std_fit_time                                     0  \n",
       "mean_score_time                                  0  \n",
       "std_score_time                                   0  \n",
       "param_C                                        100  \n",
       "param_gamma                                    NaN  \n",
       "param_kernel                                linear  \n",
       "params              {'C': 100, 'kernel': 'linear'}  \n",
       "split0_test_score                         0.958333  \n",
       "split1_test_score                                1  \n",
       "split2_test_score                                1  \n",
       "split3_test_score                         0.909091  \n",
       "split4_test_score                         0.952381  \n",
       "mean_test_score                           0.964286  \n",
       "std_test_score                           0.0338387  \n",
       "rank_test_score                                  3  \n",
       "split0_train_score                        0.988636  \n",
       "split1_train_score                        0.988764  \n",
       "split2_train_score                        0.988889  \n",
       "split3_train_score                               1  \n",
       "split4_train_score                               1  \n",
       "mean_train_score                          0.993258  \n",
       "std_train_score                         0.00550551  \n",
       "\n",
       "[23 rows x 42 columns]"
      ]
     },
     "metadata": {},
     "output_type": "display_data"
    }
   ],
   "source": [
    "ok = \"\"\"In some cases, trying all possible combinations of all parameters as GridSearchCV usually does, is not a good idea. For example, in svm, we need both C & gamma value when use 'rbf' kernel. But when kernel='linear', we need only C & not gamma.\"\"\"\n",
    "print(ok)\n",
    "\n",
    "param_grid = [{'kernel': ['rbf'],\n",
    "              'C': [0.001, 0.01, 0.1, 1, 10, 100],\n",
    "              'gamma' : [0.001, 0.01, 0.1, 1, 10, 100]},\n",
    "             {'kernel' : ['linear'],\n",
    "             'C' : [0.001, 0.01, 0.1, 1, 10, 100]}]\n",
    "\n",
    "print(\"\\n\")\n",
    "print(\"print the list of grids: \\n {}\".format(param_grid))\n",
    "print(\"\\n\")\n",
    "grid_search = GridSearchCV(SVC(), param_grid, cv=5)\n",
    "grid_search.fit(X_train, y_train)\n",
    "print(\"Best Parametrs: {}\".format(grid_search.best_params_))\n",
    "print(\"Best Cross Validation Score: {:.2f}\".format(grid_search.best_score_))\n",
    "\n",
    "print(\"\\n\")\n",
    "ok1 = \"\"\"Also on a diff note, Similarly to cross_val_score, GridSearchCV uses stratified k-fold cross-validation by default for classification, and k-fold cross-validation for regression. Now, Let's lok at the diff combinations of parameters and associated score. \"\"\"\n",
    "print(ok1)\n",
    "results = pd.DataFrame(grid_search.cv_results_)\n",
    "# we display the transposed table so that it better fits on the page:\n",
    "display(results.T)"
   ]
  },
  {
   "cell_type": "code",
   "execution_count": 38,
   "metadata": {},
   "outputs": [
    {
     "data": {
      "text/markdown": [
       "**Nested Cross Validation-- Nested GridSearchCV**"
      ],
      "text/plain": [
       "<IPython.core.display.Markdown object>"
      ]
     },
     "metadata": {},
     "output_type": "display_data"
    }
   ],
   "source": [
    "printbold(\"**Nested Cross Validation-- Nested GridSearchCV**\")"
   ]
  },
  {
   "cell_type": "code",
   "execution_count": 39,
   "metadata": {},
   "outputs": [
    {
     "name": "stdout",
     "output_type": "stream",
     "text": [
      "In the preceding examples, we went from using a single split of the data into training, validation, and test sets to splitting the data into training and test sets and then performing cross-validation on the training set. But when using GridSearchCV as described earlier, we still have a single split of the data into training and test sets, which might make our results unstable and make us depend too much on this single split of the data. We can go a step further, and instead of splitting the original data into training and test sets once, use multiple splits of cross-validation. This will result in what is called nested cross-validation.\n"
     ]
    }
   ],
   "source": [
    "ok = \"\"\"In the preceding examples, we went from using a single split of the data into training, validation, and test sets to splitting the data into training and test sets and then performing cross-validation on the training set. But when using GridSearchCV as described earlier, we still have a single split of the data into training and test sets, which might make our results unstable and make us depend too much on this single split of the data. We can go a step further, and instead of splitting the original data into training and test sets once, use multiple splits of cross-validation. This will result in what is called nested cross-validation.\"\"\"\n",
    "print(ok)\n"
   ]
  },
  {
   "cell_type": "code",
   "execution_count": 40,
   "metadata": {},
   "outputs": [
    {
     "name": "stdout",
     "output_type": "stream",
     "text": [
      "In nested cross-validation, there is an outer loop over splits of the data into training and test sets. For each of them, a grid search is run (which might result in different best parameters for each split in the outer loop). Then, for each outer split, the test set score using the best settings is reported.\n",
      "\n",
      "Here, we used stratified five-fold cross-validation in both the inner and the outer loop. As our param_grid contains 36 combinations of parameters, this results in a whopping 36 * 5 * 5 = 900 models being built, making nested cross-validation a very expensive procedure.\n",
      "\n",
      "Implementing nested cross-validation in scikit-learn is straightforward. We call cross_val_score with an instance of GridSearchCV as the model\n",
      "\n",
      "\n",
      "Nested Cross validation Scores: [0.96666667 1.         0.96666667 0.96666667 1.        ]\n",
      "Mean Accuracy of Nested Cross Validation: 0.98\n"
     ]
    }
   ],
   "source": [
    "ok = \"\"\"In nested cross-validation, there is an outer loop over splits of the data into training and test sets. For each of them, a grid search is run (which might result in different best parameters for each split in the outer loop). Then, for each outer split, the test set score using the best settings is reported.\n",
    "\n",
    "Here, we used stratified five-fold cross-validation in both the inner and the outer loop. As our param_grid contains 36 combinations of parameters, this results in a whopping 36 * 5 * 5 = 900 models being built, making nested cross-validation a very expensive procedure.\n",
    "\n",
    "Implementing nested cross-validation in scikit-learn is straightforward. We call cross_val_score with an instance of GridSearchCV as the model\n",
    "\n",
    "\"\"\"\n",
    "print(ok)\n",
    "param_grid = {'C': [0.001, 0.01, 0.1, 1, 10, 100],\n",
    "              'gamma': [0.001, 0.01, 0.1, 1, 10, 100]}\n",
    "\n",
    "scores = cross_val_score(GridSearchCV(SVC(), param_grid, cv=5), iris.data, iris.target, cv=5)\n",
    "print(\"Nested Cross validation Scores: {}\".format(scores))\n",
    "print(\"Mean Accuracy of Nested Cross Validation: {:.2f}\".format(scores.mean()))\n"
   ]
  },
  {
   "cell_type": "code",
   "execution_count": 41,
   "metadata": {},
   "outputs": [
    {
     "name": "stdout",
     "output_type": "stream",
     "text": [
      "It can be difficult to understand nested CV with above two lines of code. lets create function here for nested loop and apply it on iris dataset.\n",
      "\n",
      "\n",
      "Cross-validation scores: [0.96666667 1.         0.96666667 0.96666667 1.        ]\n"
     ]
    }
   ],
   "source": [
    "ok = \"\"\"It can be difficult to understand nested CV with above two lines of code. lets create function here for nested loop and apply it on iris dataset.\"\"\"\n",
    "print(ok)\n",
    "def nested_cv(X, y, inner_cv, outer_cv, Classifier, parameter_grid):\n",
    "    outer_scores = []\n",
    "    # for each split of the data in the outer cross-validation\n",
    "    # (split method returns indices of training and test part)\n",
    "    for training_samples, test_samples in outer_cv.split(X, y):\n",
    "        # find best parameter using inner cross-validation\n",
    "        best_parms = {}\n",
    "        best_score = -np.inf\n",
    "        # iterate over parameters\n",
    "        for parameters in parameter_grid:\n",
    "            # accumulate score over inner splits\n",
    "            cv_scores = []\n",
    "            # iterate over inner cross-validation\n",
    "            for inner_train, inner_test in inner_cv.split(\n",
    "                    X[training_samples], y[training_samples]):\n",
    "                # build classifier given parameters and training data\n",
    "                clf = Classifier(**parameters)\n",
    "                clf.fit(X[inner_train], y[inner_train])\n",
    "                # evaluate on inner test set\n",
    "                score = clf.score(X[inner_test], y[inner_test])\n",
    "                cv_scores.append(score)\n",
    "            # compute mean score over inner folds\n",
    "            mean_score = np.mean(cv_scores)\n",
    "            if mean_score > best_score:\n",
    "                # if better than so far, remember parameters\n",
    "                best_score = mean_score\n",
    "                best_params = parameters\n",
    "        # build classifier on best parameters using outer training set\n",
    "        clf = Classifier(**best_params)\n",
    "        clf.fit(X[training_samples], y[training_samples])\n",
    "        # evaluate\n",
    "        outer_scores.append(clf.score(X[test_samples], y[test_samples]))\n",
    "    return np.array(outer_scores)\n",
    "\n",
    "print(\"\\n\")\n",
    "# Run the nested function on iris dataset.\n",
    "from sklearn.model_selection import ParameterGrid, StratifiedKFold\n",
    "scores = nested_cv(iris.data, iris.target, StratifiedKFold(5),\n",
    "StratifiedKFold(5), SVC, ParameterGrid(param_grid))\n",
    "print(\"Cross-validation scores: {}\".format(scores))"
   ]
  },
  {
   "cell_type": "code",
   "execution_count": 42,
   "metadata": {},
   "outputs": [
    {
     "data": {
      "text/html": [
       " <span style=\"color:black\"><h1>Evaluation Metrics and Scoring</h1> </span>  "
      ],
      "text/plain": [
       "<IPython.core.display.HTML object>"
      ]
     },
     "metadata": {},
     "output_type": "display_data"
    },
    {
     "name": "stdout",
     "output_type": "stream",
     "text": [
      "Evaluation Metrics and Scoring Subheads:-\n",
      "    A) Precision, Recall and f1 Score\n",
      "    B) ROC/AUC Curve\n",
      "    C) Metrics for Multi-class Classification\n",
      "    D) Using Evaluation Metrics in Model Selection\n",
      "    E) Scoring Parameters Available in sklearn\n",
      "\n"
     ]
    }
   ],
   "source": [
    "display(HTML(' <span style=\"color:black\"><h1>Evaluation Metrics and Scoring</h1> </span>  '))\n",
    "\n",
    "ok1= \"\"\"Evaluation Metrics and Scoring Subheads:-\n",
    "    A) Precision, Recall and f1 Score\n",
    "    B) ROC/AUC Curve\n",
    "    C) Metrics for Multi-class Classification\n",
    "    D) Using Evaluation Metrics in Model Selection\n",
    "    E) Scoring Parameters Available in sklearn\n",
    "\"\"\"\n",
    "print(ok1)"
   ]
  },
  {
   "cell_type": "code",
   "execution_count": 43,
   "metadata": {},
   "outputs": [
    {
     "name": "stdout",
     "output_type": "stream",
     "text": [
      "The classification_report function produces one line per class (here, True and False) and reports precision, recall, and f-score with this class as the positive class. We assumed the minority “nine” class was the positive class.\n",
      "Here, Precision or +ve Predicted Value = TP/(TP+FP), TPR or Recal = TP/(TP+FN), f-score = 2 *[(precision*Recal)/(Precision + Recall)].\n",
      "\n",
      "\n",
      "logreg score: 0.98\n",
      "Confusion matrix:\n",
      "[[401   2]\n",
      " [  8  39]]\n",
      "             precision    recall  f1-score   support\n",
      "\n",
      "   not nine       0.98      1.00      0.99       403\n",
      "       nine       0.95      0.83      0.89        47\n",
      "\n",
      "avg / total       0.98      0.98      0.98       450\n",
      "\n"
     ]
    }
   ],
   "source": [
    "ok = \"\"\"The classification_report function produces one line per class (here, True and False) and reports precision, recall, and f-score with this class as the positive class. We assumed the minority “nine” class was the positive class.\n",
    "Here, Precision or +ve Predicted Value = TP/(TP+FP), TPR or Recal = TP/(TP+FN), f-score = 2 *[(precision*Recal)/(Precision + Recall)].\n",
    "\n",
    "\"\"\"\n",
    "print(ok)\n",
    "from  sklearn.datasets  import load_digits\n",
    "\n",
    "digits = load_digits()\n",
    "y = digits.target == 9\n",
    "\n",
    "X_train, X_test, y_train, y_test = train_test_split(digits.data, y, random_state=0)\n",
    "\n",
    "logreg = LogisticRegression(C=0.1).fit(X_train, y_train)\n",
    "pred_logreg = logreg.predict(X_test)\n",
    "print(\"logreg score: {:.2f}\".format(logreg.score(X_test, y_test)))\n",
    "\n",
    "\n",
    "from sklearn.metrics import confusion_matrix\n",
    "confusion = confusion_matrix(y_test, pred_logreg)\n",
    "print(\"Confusion matrix:\\n{}\".format(confusion))\n",
    "\n",
    "\n",
    "from sklearn.metrics import classification_report\n",
    "print(classification_report(y_test, pred_logreg, target_names=[\"not nine\", \"nine\"]))"
   ]
  },
  {
   "cell_type": "code",
   "execution_count": 44,
   "metadata": {},
   "outputs": [
    {
     "data": {
      "text/markdown": [
       "*ROC or AUC Curve*"
      ],
      "text/plain": [
       "<IPython.core.display.Markdown object>"
      ]
     },
     "metadata": {},
     "output_type": "display_data"
    }
   ],
   "source": [
    "printbold(\"*ROC or AUC Curve*\")"
   ]
  },
  {
   "cell_type": "code",
   "execution_count": 45,
   "metadata": {
    "scrolled": true
   },
   "outputs": [
    {
     "name": "stdout",
     "output_type": "stream",
     "text": [
      "AUC: 0.895\n"
     ]
    },
    {
     "data": {
      "image/png": "[encoded data removed]",
      "text/plain": [
       "<Figure size 432x288 with 1 Axes>"
      ]
     },
     "metadata": {},
     "output_type": "display_data"
    }
   ],
   "source": [
    "# roc curve and auc\n",
    "from sklearn.datasets import make_classification\n",
    "from sklearn.neighbors import KNeighborsClassifier\n",
    "from sklearn.model_selection import train_test_split\n",
    "from sklearn.metrics import roc_curve\n",
    "from sklearn.metrics import roc_auc_score\n",
    "from matplotlib import pyplot\n",
    "# generate 2 class dataset\n",
    "X, y = make_classification(n_samples=1000, n_classes=2, weights=[1,1], random_state=1)\n",
    "# split into train/test sets\n",
    "trainX, testX, trainy, testy = train_test_split(X, y, test_size=0.5, random_state=2)\n",
    "# fit a model\n",
    "model = KNeighborsClassifier(n_neighbors=3)\n",
    "model.fit(trainX, trainy)\n",
    "# predict probabilities\n",
    "probs = model.predict_proba(testX)\n",
    "# keep probabilities for the positive outcome only\n",
    "probs = probs[:, 1]\n",
    "# calculate AUC\n",
    "auc = roc_auc_score(testy, probs)\n",
    "print('AUC: %.3f' % auc)\n",
    "# calculate roc curve\n",
    "fpr, tpr, thresholds = roc_curve(testy, probs)\n",
    "# plot no skill\n",
    "pyplot.plot([0, 1], [0, 1], linestyle='--')\n",
    "# plot the roc curve for the model\n",
    "pyplot.plot(fpr, tpr, marker='.')\n",
    "plt.xlabel(\"FPR\")\n",
    "plt.ylabel(\"TPR (Recall)\")\n",
    "# show the plot\n",
    "pyplot.show()"
   ]
  },
  {
   "cell_type": "code",
   "execution_count": 46,
   "metadata": {},
   "outputs": [
    {
     "data": {
      "text/markdown": [
       "*Metrics for Multi-class Classification*"
      ],
      "text/plain": [
       "<IPython.core.display.Markdown object>"
      ]
     },
     "metadata": {},
     "output_type": "display_data"
    }
   ],
   "source": [
    "printbold(\"*Metrics for Multi-class Classification*\")"
   ]
  },
  {
   "cell_type": "code",
   "execution_count": 47,
   "metadata": {},
   "outputs": [
    {
     "name": "stdout",
     "output_type": "stream",
     "text": [
      "Basically, all metrics for multiclass classification are derived from binary classification metrics, but averaged over all classes. Accuracy for multiclass classification is again defined as the fraction of correctly classified examples. 95% accuracy means we are already doing pretty good. In the confusion matrix, each row corresponds to a true label, and each column corresponds to a predicted label.\n",
      "\n",
      "\n",
      "Accuracy: 0.953\n",
      "\n",
      "\n",
      "Confusion matrix:\n",
      "[[37  0  0  0  0  0  0  0  0  0]\n",
      " [ 0 39  0  0  0  0  2  0  2  0]\n",
      " [ 0  0 41  3  0  0  0  0  0  0]\n",
      " [ 0  0  1 43  0  0  0  0  0  1]\n",
      " [ 0  0  0  0 38  0  0  0  0  0]\n",
      " [ 0  1  0  0  0 47  0  0  0  0]\n",
      " [ 0  0  0  0  0  0 52  0  0  0]\n",
      " [ 0  1  0  1  1  0  0 45  0  0]\n",
      " [ 0  3  1  0  0  0  0  0 43  1]\n",
      " [ 0  0  0  1  0  1  0  0  1 44]]\n",
      "\n",
      "\n",
      "With classification report, With the classification_report function, we can compute the precision, recall, and f-score for each class:\n",
      "             precision    recall  f1-score   support\n",
      "\n",
      "          0       1.00      1.00      1.00        37\n",
      "          1       0.89      0.91      0.90        43\n",
      "          2       0.95      0.93      0.94        44\n",
      "          3       0.90      0.96      0.92        45\n",
      "          4       0.97      1.00      0.99        38\n",
      "          5       0.98      0.98      0.98        48\n",
      "          6       0.96      1.00      0.98        52\n",
      "          7       1.00      0.94      0.97        48\n",
      "          8       0.93      0.90      0.91        48\n",
      "          9       0.96      0.94      0.95        47\n",
      "\n",
      "avg / total       0.95      0.95      0.95       450\n",
      "\n"
     ]
    }
   ],
   "source": [
    "ok = \"\"\"Basically, all metrics for multiclass classification are derived from binary classification metrics, but averaged over all classes. Accuracy for multiclass classification is again defined as the fraction of correctly classified examples. 95% accuracy means we are already doing pretty good. In the confusion matrix, each row corresponds to a true label, and each column corresponds to a predicted label.\"\"\"\n",
    "print(ok)\n",
    "print(\"\\n\")\n",
    "from sklearn.metrics import accuracy_score\n",
    "X_train, X_test, y_train, y_test = train_test_split(\n",
    "digits.data, digits.target, random_state=0)\n",
    "lr = LogisticRegression().fit(X_train, y_train)\n",
    "pred = lr.predict(X_test)\n",
    "print(\"Accuracy: {:.3f}\".format(accuracy_score(y_test, pred)))\n",
    "print(\"\\n\")\n",
    "print(\"Confusion matrix:\\n{}\".format(confusion_matrix(y_test, pred)))\n",
    "print(\"\\n\")\n",
    "ok2 = \"\"\"With classification report, With the classification_report function, we can compute the precision, recall, and f-score for each class:\"\"\"\n",
    "print(ok2)\n",
    "print(classification_report(y_test, pred))"
   ]
  },
  {
   "cell_type": "code",
   "execution_count": 48,
   "metadata": {},
   "outputs": [
    {
     "name": "stdout",
     "output_type": "stream",
     "text": [
      "The most commonly used metric for imbalanced datasets in the multiclass setting is the multiclass version of the f-score. The idea behind the multiclass f-score is to compute one binary f-score per class, with that class being the positive class and the other classes making up the negative classes. Then, these per-class f-scores are averaged using one of the following strategies:\n",
      "• \"macro\" averaging computes the unweighted per-class f-scores. This gives equal weight to all classes, no matter what their size is.\n",
      "• \"weighted\" averaging computes the mean of the per-class f-scores, weighted by their support. This is what is reported in the classification report.\n",
      "• \"micro\" averaging computes the total number of false positives, false negatives, and true positives over all classes, and then computes precision, recall, and f-score using these counts.\n",
      "\n",
      "If you care about each sample equally much, it is recommended to use the \"micro\" average f1-score; if you care about each class equally much, it is recommended to use the \"macro\" average f1-score:\n",
      "\n",
      "\n",
      "Micro average f1 score: 0.953\n",
      "Macro average f1 score: 0.954\n"
     ]
    }
   ],
   "source": [
    "ok = \"\"\"The most commonly used metric for imbalanced datasets in the multiclass setting is the multiclass version of the f-score. The idea behind the multiclass f-score is to compute one binary f-score per class, with that class being the positive class and the other classes making up the negative classes. Then, these per-class f-scores are averaged using one of the following strategies:\n",
    "• \"macro\" averaging computes the unweighted per-class f-scores. This gives equal weight to all classes, no matter what their size is.\n",
    "• \"weighted\" averaging computes the mean of the per-class f-scores, weighted by their support. This is what is reported in the classification report.\n",
    "• \"micro\" averaging computes the total number of false positives, false negatives, and true positives over all classes, and then computes precision, recall, and f-score using these counts.\n",
    "\n",
    "If you care about each sample equally much, it is recommended to use the \"micro\" average f1-score; if you care about each class equally much, it is recommended to use the \"macro\" average f1-score:\"\"\"\n",
    "print(ok)\n",
    "print(\"\\n\")\n",
    "from sklearn.metrics import f1_score\n",
    "print(\"Micro average f1 score: {:.3f}\".format(f1_score(y_test, pred, average=\"micro\")))\n",
    "print(\"Macro average f1 score: {:.3f}\".format(f1_score(y_test, pred, average=\"macro\")))\n"
   ]
  },
  {
   "cell_type": "code",
   "execution_count": 49,
   "metadata": {},
   "outputs": [
    {
     "data": {
      "text/markdown": [
       "**Using Evaluation Metrics in Model Selection**"
      ],
      "text/plain": [
       "<IPython.core.display.Markdown object>"
      ]
     },
     "metadata": {},
     "output_type": "display_data"
    },
    {
     "name": "stdout",
     "output_type": "stream",
     "text": [
      "\n",
      "\n",
      "scikit-learn provides a very simple way to achieve this, via the scoring argument that can be used in both GridSearchCV and cross_val_score. You can simply provide a string describing the evaluation metric you want to use.\n"
     ]
    }
   ],
   "source": [
    "printbold(\"**Using Evaluation Metrics in Model Selection**\")\n",
    "print(\"\\n\")\n",
    "ok = \"\"\"scikit-learn provides a very simple way to achieve this, via the scoring argument that can be used in both GridSearchCV and cross_val_score. You can simply provide a string describing the evaluation metric you want to use.\"\"\"\n",
    "print(ok)"
   ]
  },
  {
   "cell_type": "code",
   "execution_count": 50,
   "metadata": {},
   "outputs": [
    {
     "name": "stdout",
     "output_type": "stream",
     "text": [
      "For example, we can change the metric used to pick the best parameters in Grid SearchCV. 1st we use 'accuracy' then we use 'roc_auc' method.\n",
      "\n",
      "\n",
      "Grid-Search with accuracy\n",
      "Best parameters: {'gamma': 0.0001}\n",
      "Best cross-validation score (accuracy)): 0.970\n",
      "Test set AUC: 0.992\n",
      "Test set accuracy: 0.973\n",
      "\n",
      "Grid-Search with AUC\n",
      "Best parameters: {'gamma': 0.01}\n",
      "Best cross-validation score (AUC): 0.997\n",
      "Test set AUC: 1.000\n",
      "Test set accuracy: 1.000\n"
     ]
    }
   ],
   "source": [
    "ok = \"\"\"For example, we can change the metric used to pick the best parameters in Grid SearchCV. 1st we use 'accuracy' then we use 'roc_auc' method.\"\"\"\n",
    "print(ok)\n",
    "print(\"\\n\")\n",
    "X_train, X_test, y_train, y_test = train_test_split(\n",
    "digits.data, digits.target == 9, random_state=0)\n",
    "# we provide a somewhat bad grid to illustrate the point:\n",
    "param_grid = {'gamma': [0.0001, 0.01, 0.1, 1, 10]}\n",
    "# using the default scoring of accuracy:\n",
    "grid = GridSearchCV(SVC(), param_grid=param_grid, scoring = \"accuracy\")\n",
    "grid.fit(X_train, y_train)\n",
    "print(\"Grid-Search with accuracy\")\n",
    "print(\"Best parameters:\", grid.best_params_)\n",
    "print(\"Best cross-validation score (accuracy)): {:.3f}\".format(grid.best_score_))\n",
    "print(\"Test set AUC: {:.3f}\".format(\n",
    "roc_auc_score(y_test, grid.decision_function(X_test))))\n",
    "print(\"Test set accuracy: {:.3f}\".format(grid.score(X_test, y_test)))\n",
    "\n",
    "\n",
    "\n",
    "# using AUC scoring instead:\n",
    "grid = GridSearchCV(SVC(), param_grid=param_grid, scoring=\"roc_auc\")\n",
    "grid.fit(X_train, y_train)\n",
    "print(\"\\nGrid-Search with AUC\")\n",
    "print(\"Best parameters:\", grid.best_params_)\n",
    "print(\"Best cross-validation score (AUC): {:.3f}\".format(grid.best_score_))\n",
    "print(\"Test set AUC: {:.3f}\".format(\n",
    "roc_auc_score(y_test, grid.decision_function(X_test))))\n",
    "print(\"Test set accuracy: {:.3f}\".format(grid.score(X_test, y_test)))\n",
    "\n"
   ]
  },
  {
   "cell_type": "code",
   "execution_count": 51,
   "metadata": {},
   "outputs": [
    {
     "name": "stdout",
     "output_type": "stream",
     "text": [
      "Here is all the scoring parameters available in sklearn.\n",
      "\n",
      "\n",
      "Available scorers:\n",
      "['accuracy', 'adjusted_mutual_info_score', 'adjusted_rand_score', 'average_precision', 'completeness_score', 'explained_variance', 'f1', 'f1_macro', 'f1_micro', 'f1_samples', 'f1_weighted', 'fowlkes_mallows_score', 'homogeneity_score', 'log_loss', 'mean_absolute_error', 'mean_squared_error', 'median_absolute_error', 'mutual_info_score', 'neg_log_loss', 'neg_mean_absolute_error', 'neg_mean_squared_error', 'neg_mean_squared_log_error', 'neg_median_absolute_error', 'normalized_mutual_info_score', 'precision', 'precision_macro', 'precision_micro', 'precision_samples', 'precision_weighted', 'r2', 'recall', 'recall_macro', 'recall_micro', 'recall_samples', 'recall_weighted', 'roc_auc', 'v_measure_score']\n"
     ]
    }
   ],
   "source": [
    "ok = \"\"\"Here is all the scoring parameters available in sklearn.\"\"\"\n",
    "print(ok)\n",
    "print(\"\\n\")\n",
    "from sklearn.metrics.scorer import SCORERS\n",
    "print(\"Available scorers:\\n{}\".format(sorted(SCORERS.keys())))\n"
   ]
  }
 ],
 "metadata": {
  "kernelspec": {
   "display_name": "Python 3",
   "language": "python",
   "name": "python3"
  },
  "language_info": {
   "codemirror_mode": {
    "name": "ipython",
    "version": 3
   },
   "file_extension": ".py",
   "mimetype": "text/x-python",
   "name": "python",
   "nbconvert_exporter": "python",
   "pygments_lexer": "ipython3",
   "version": "3.6.5"
  }
 },
 "nbformat": 4,
 "nbformat_minor": 2
}
