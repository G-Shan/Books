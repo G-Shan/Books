{
 "cells": [
  {
   "cell_type": "code",
   "execution_count": 1,
   "metadata": {},
   "outputs": [],
   "source": [
    "# This convention would be followed by default in the book\n",
    "import numpy as np\n",
    "import matplotlib.pyplot as plt\n",
    "import pandas as pd\n",
    "import mglearn"
   ]
  },
  {
   "cell_type": "code",
   "execution_count": 2,
   "metadata": {},
   "outputs": [
    {
     "data": {
      "text/markdown": [
       "**Here we go!!**"
      ],
      "text/plain": [
       "<IPython.core.display.Markdown object>"
      ]
     },
     "metadata": {},
     "output_type": "display_data"
    }
   ],
   "source": [
    "from IPython.display import Markdown, display\n",
    "def printbold(string):\n",
    "    display(Markdown(string))\n",
    "\n",
    "printbold(\"**Here we go!!**\")"
   ]
  },
  {
   "cell_type": "code",
   "execution_count": 3,
   "metadata": {},
   "outputs": [
    {
     "name": "stdout",
     "output_type": "stream",
     "text": [
      "Print the Keys of cancer dataset: dict_keys(['data', 'target', 'target_names', 'DESCR', 'feature_names'])\n",
      "Print the 1st row: \n",
      "[1.799e+01 1.038e+01 1.228e+02 1.001e+03 1.184e-01 2.776e-01 3.001e-01\n",
      " 1.471e-01 2.419e-01 7.871e-02 1.095e+00 9.053e-01 8.589e+00 1.534e+02\n",
      " 6.399e-03 4.904e-02 5.373e-02 1.587e-02 3.003e-02 6.193e-03 2.538e+01\n",
      " 1.733e+01 1.846e+02 2.019e+03 1.622e-01 6.656e-01 7.119e-01 2.654e-01\n",
      " 4.601e-01 1.189e-01]\n",
      "\n",
      "\n",
      "print the shape of the data: (569, 30)\n",
      "\n",
      "\n",
      "print the name of the variables: ['mean radius' 'mean texture' 'mean perimeter' 'mean area'\n",
      " 'mean smoothness' 'mean compactness' 'mean concavity'\n",
      " 'mean concave points' 'mean symmetry' 'mean fractal dimension'\n",
      " 'radius error' 'texture error' 'perimeter error' 'area error'\n",
      " 'smoothness error' 'compactness error' 'concavity error'\n",
      " 'concave points error' 'symmetry error' 'fractal dimension error'\n",
      " 'worst radius' 'worst texture' 'worst perimeter' 'worst area'\n",
      " 'worst smoothness' 'worst compactness' 'worst concavity'\n",
      " 'worst concave points' 'worst symmetry' 'worst fractal dimension']\n",
      "\n",
      "\n",
      "Name of the target labels: ['malignant' 'benign']\n",
      "\n",
      "\n",
      "values in the target variable: [0 0 0 0 0 0 0 0 0 0 0 0 0 0 0 0 0 0 0 1 1 1 0 0 0 0 0 0 0 0]\n",
      "\n",
      "\n",
      "THe count of labels is: [212 357]\n",
      "** **** **** **** **** **** **** **** **** **** **** **** **** **** **** **\n",
      "Sample counts per class:\n",
      "{'malignant': 212, 'benign': 357}\n"
     ]
    }
   ],
   "source": [
    "from sklearn.datasets import load_breast_cancer\n",
    "cancer = load_breast_cancer()\n",
    "print(\"Print the Keys of cancer dataset: {}\".format(cancer.keys()))\n",
    "\n",
    "print(\"Print the 1st row: \\n{}\".format(cancer.data[0]))\n",
    "print(\"\\n\")\n",
    "print(\"print the shape of the data: {}\".format(cancer['data'].shape))\n",
    "print(\"\\n\")\n",
    "print(\"print the name of the variables: {}\".format(cancer['feature_names']))\n",
    "print(\"\\n\")\n",
    "print(\"Name of the target labels: {}\".format(cancer['target_names']))\n",
    "print(\"\\n\")\n",
    "print(\"values in the target variable: {}\".format(cancer.target[0:30]))\n",
    "print(\"\\n\")\n",
    "print(\"THe count of labels is: {}\". format(np.bincount(cancer.target)))\n",
    "print(\"** **\"*15)\n",
    "\n",
    "print(\"Sample counts per class:\\n{}\".format(dict(zip(cancer.target_names, np.bincount(cancer.target)))))"
   ]
  },
  {
   "cell_type": "code",
   "execution_count": 4,
   "metadata": {},
   "outputs": [
    {
     "name": "stdout",
     "output_type": "stream",
     "text": [
      "Keys in the boston dataset: dict_keys(['data', 'target', 'feature_names', 'DESCR'])\n",
      "Shape of the data boston: (506, 13)\n"
     ]
    }
   ],
   "source": [
    "from sklearn.datasets import load_boston\n",
    "boston = load_boston()\n",
    "print(\"Keys in the boston dataset: {}\".format(boston.keys()))\n",
    "print(\"Shape of the data boston: {}\".format(boston.data.shape))"
   ]
  },
  {
   "cell_type": "code",
   "execution_count": 5,
   "metadata": {},
   "outputs": [
    {
     "data": {
      "text/markdown": [
       "**KNN Classfier**"
      ],
      "text/plain": [
       "<IPython.core.display.Markdown object>"
      ]
     },
     "metadata": {},
     "output_type": "display_data"
    }
   ],
   "source": [
    "printbold(\"**KNN Classfier**\")"
   ]
  },
  {
   "cell_type": "code",
   "execution_count": 6,
   "metadata": {},
   "outputs": [
    {
     "name": "stdout",
     "output_type": "stream",
     "text": [
      "(19, 2)\n",
      "(19,)\n",
      "(7, 2)\n",
      "Test Set Predictions: [1 0 1 0 1 0 0]\n",
      "Test Set Accuracy 0.86\n"
     ]
    }
   ],
   "source": [
    "# KNN Classifier\n",
    "from sklearn.model_selection import train_test_split\n",
    "X, y = mglearn.datasets.make_forge()\n",
    "X_train, X_test, y_train, y_test = train_test_split(X,y, random_state=0)\n",
    "print(X_train.shape)\n",
    "print(y_train.shape)\n",
    "print(X_test.shape)\n",
    "\n",
    "from sklearn.neighbors import KNeighborsClassifier\n",
    "clf = KNeighborsClassifier(n_neighbors=3)\n",
    "clf.fit(X_train, y_train)\n",
    "\n",
    "print(\"Test Set Predictions: {}\".format(clf.predict(X_test)))\n",
    "print(\"Test Set Accuracy {:.2f}\".format(clf.score(X_test, y_test)))\n"
   ]
  },
  {
   "cell_type": "code",
   "execution_count": 7,
   "metadata": {},
   "outputs": [
    {
     "name": "stdout",
     "output_type": "stream",
     "text": [
      "Optimal no. of neighbors seems to be 6\n"
     ]
    },
    {
     "data": {
      "image/png": "[encoded data removed]",
      "text/plain": [
       "<Figure size 432x288 with 1 Axes>"
      ]
     },
     "metadata": {},
     "output_type": "display_data"
    }
   ],
   "source": [
    "from sklearn.datasets import load_breast_cancer\n",
    "cancer = load_breast_cancer()\n",
    "X_train, X_test, y_train, y_test = train_test_split(cancer.data, cancer.target, stratify=cancer.target, random_state=66)\n",
    "\n",
    "training_accuracy = []\n",
    "test_accuracy = []\n",
    "# try n_neighbors from 1 to 10\n",
    "neighbors_settings = range(1, 11)\n",
    "\n",
    "for n_neighbors in neighbors_settings:\n",
    "        # build the model\n",
    "        clf = KNeighborsClassifier(n_neighbors=n_neighbors)\n",
    "        clf.fit(X_train, y_train)\n",
    "        # record training set accuracy\n",
    "        training_accuracy.append(clf.score(X_train, y_train))\n",
    "        # record generalization accuracy\n",
    "        test_accuracy.append(clf.score(X_test, y_test))\n",
    "\n",
    "\n",
    "plt.plot(neighbors_settings, training_accuracy, label=\"training accuracy\")\n",
    "plt.plot(neighbors_settings, test_accuracy, label=\"test accuracy\")\n",
    "plt.ylabel(\"Accuracy\")\n",
    "plt.xlabel(\"n_neighbors\")\n",
    "plt.legend()\n",
    "\n",
    "Ok = \"\"\"Optimal no. of neighbors seems to be 6\"\"\"; print(Ok)"
   ]
  },
  {
   "cell_type": "code",
   "execution_count": 8,
   "metadata": {},
   "outputs": [
    {
     "name": "stdout",
     "output_type": "stream",
     "text": [
      "Predictions of Test set: [-0.05396539  0.35686046  1.13671923 -1.89415682 -1.13881398 -1.63113382\n",
      "  0.35686046  0.91241374 -0.44680446 -1.13881398]\n",
      "Test set R-squared: 0.83\n"
     ]
    }
   ],
   "source": [
    "# KNN Regressor\n",
    "from sklearn.neighbors import KNeighborsRegressor\n",
    "X, y = mglearn.datasets.make_wave(n_samples=40)\n",
    "# split the wave dataset into a training and a test set\n",
    "X_train, X_test, y_train, y_test = train_test_split(X, y, random_state=0)\n",
    "# instantiate the model and set the number of neighbors to consider to 3\n",
    "reg = KNeighborsRegressor(n_neighbors=3)\n",
    "# fit the model using the training data and training targets\n",
    "reg.fit(X_train, y_train)\n",
    "\n",
    "print(\"Predictions of Test set: {}\".format(reg.predict(X_test)))\n",
    "print(\"Test set R-squared: {:.2f}\".format(reg.score(X_test, y_test)))"
   ]
  },
  {
   "cell_type": "code",
   "execution_count": 9,
   "metadata": {},
   "outputs": [
    {
     "name": "stdout",
     "output_type": "stream",
     "text": [
      "K Nearest Neighbor generally works well if independent features are 100 or lesser. Data must be preprocessed.\n",
      "k-NN is quite easier to understand. There are only two parameters to figure out: no. of neighbors to take and how you \n",
      "measure distance b/w datapoints (Euclidean distance is used generlly). \n"
     ]
    }
   ],
   "source": [
    "ok = \"\"\"K Nearest Neighbor generally works well if independent features are 100 or lesser. Data must be preprocessed.\n",
    "k-NN is quite easier to understand. There are only two parameters to figure out: no. of neighbors to take and how you \n",
    "measure distance b/w datapoints (Euclidean distance is used generlly). \"\"\"\n",
    "print(ok)"
   ]
  },
  {
   "cell_type": "code",
   "execution_count": 10,
   "metadata": {},
   "outputs": [
    {
     "name": "stdout",
     "output_type": "stream",
     "text": [
      "SHape of the dataset is: (506, 13)\n",
      "For our purposes here, we will actually expand this dataset by not only considering these 13 measurements as input\n",
      "features, but also looking at all products (also called interactions) between features. In other words, we will not only\n",
      "consider crime rate and highway accessibility as features, but also the product of crime rate and highway accessibility.\n",
      "It's binomial coefficient. Number of combinations of k elements that can be selected from a set of n elements. Often this is\n",
      "written as [n/k] and spoken as “n choose k”—in this case, “13 choose 2 = 104.”\n",
      "Shape of X: (506, 104)\n",
      " R-Squared on training set: 0.95\n",
      " R-Squared on test set: 0.61\n",
      "\n",
      "\n",
      "There is a case of overfitting as R-square for training set is way higher than test set. TO get rid of overfitting,\n",
      "we look at Ridge Regression in the next box.\n"
     ]
    }
   ],
   "source": [
    "from sklearn.datasets import load_boston\n",
    "boston = load_boston()\n",
    "print(\"SHape of the dataset is: {}\".format(boston.data.shape))\n",
    "\n",
    "ok = \"\"\"For our purposes here, we will actually expand this dataset by not only considering these 13 measurements as input\n",
    "features, but also looking at all products (also called interactions) between features. In other words, we will not only\n",
    "consider crime rate and highway accessibility as features, but also the product of crime rate and highway accessibility.\n",
    "It's binomial coefficient. Number of combinations of k elements that can be selected from a set of n elements. Often this is\n",
    "written as [n/k] and spoken as “n choose k”—in this case, “13 choose 2 = 104.”\"\"\"\n",
    "print(ok)\n",
    "\n",
    "X, y =mglearn.datasets.load_extended_boston()\n",
    "print(\"Shape of X: {}\".format(X.shape))\n",
    "\n",
    "X_train, X_test, y_train, y_test = train_test_split(X, y, random_state=0)\n",
    "from sklearn.linear_model import LinearRegression\n",
    "lr = LinearRegression()\n",
    "lr.fit(X_train, y_train)\n",
    "print(f\" R-Squared on training set: {round(lr.score(X_train, y_train),2)}\")\n",
    "print(f\" R-Squared on test set: {round(lr.score(X_test, y_test),2)}\")\n",
    "print(\"\\n\")\n",
    "ok1 = \"\"\"There is a case of overfitting as R-square for training set is way higher than test set. TO get rid of overfitting,\n",
    "we look at Ridge Regression in the next box.\"\"\"\n",
    "print(ok1)"
   ]
  },
  {
   "cell_type": "code",
   "execution_count": 11,
   "metadata": {},
   "outputs": [
    {
     "data": {
      "text/markdown": [
       "**Ridge Regression or L2 Regularization**"
      ],
      "text/plain": [
       "<IPython.core.display.Markdown object>"
      ]
     },
     "metadata": {},
     "output_type": "display_data"
    }
   ],
   "source": [
    "printbold(\"**Ridge Regression or L2 Regularization**\")"
   ]
  },
  {
   "cell_type": "code",
   "execution_count": 12,
   "metadata": {},
   "outputs": [
    {
     "name": "stdout",
     "output_type": "stream",
     "text": [
      "Accuracy on training set with 1 alpha: 0.89\n",
      "Accuracy on test set: 0.75\n",
      "Accuracy on training set with alpha as 10: 0.79\n",
      "Accuracy on test set with alpha as 10: 0.64\n",
      "Accuracy on training set with 0.1 alpha: 0.93\n",
      "Accuracy on test set with 0.1 alpha: 0.77\n",
      "\n",
      "\n",
      "Increasing the value of alpha means all feature coefficients would be smaller and move towards zero\n"
     ]
    }
   ],
   "source": [
    "X, y =mglearn.datasets.load_extended_boston()\n",
    "\n",
    "from sklearn.linear_model import Ridge\n",
    "ridge = Ridge().fit(X_train, y_train) #Default value of alpha is zero\n",
    "print(\"Accuracy on training set with 1 alpha: {:.2f}\".format(ridge.score(X_train, y_train)))\n",
    "print(f\"Accuracy on test set: {round(ridge.score(X_test, y_test),2)}\")\n",
    "\n",
    "ridge10 = Ridge(alpha=10).fit(X_train, y_train)\n",
    "print(\"Accuracy on training set with alpha as 10: {:.2f}\".format(ridge10.score(X_train, y_train)))\n",
    "print(f\"Accuracy on test set with alpha as 10: {round(ridge10.score(X_test, y_test),2)}\")\n",
    "\n",
    "ridge01 = Ridge(alpha=0.1).fit(X_train, y_train)\n",
    "print(\"Accuracy on training set with 0.1 alpha: {:.2f}\".format(ridge01.score(X_train, y_train)))\n",
    "print(f\"Accuracy on test set with 0.1 alpha: {round(ridge01.score(X_test, y_test),2)}\")\n",
    "\n",
    "print(\"\\n\")\n",
    "ok = \"\"\"Increasing the value of alpha means all feature coefficients would be smaller and move towards zero\"\"\"\n",
    "print(ok)"
   ]
  },
  {
   "cell_type": "code",
   "execution_count": 13,
   "metadata": {},
   "outputs": [
    {
     "data": {
      "text/plain": [
       "<matplotlib.legend.Legend at 0xb8e3dd8>"
      ]
     },
     "execution_count": 13,
     "metadata": {},
     "output_type": "execute_result"
    },
    {
     "data": {
      "image/png": "[encoded data removed]",
      "text/plain": [
       "<Figure size 432x288 with 1 Axes>"
      ]
     },
     "metadata": {},
     "output_type": "display_data"
    }
   ],
   "source": [
    "plt.plot(ridge.coef_, 's', label=\"Ridge alpha=1\")\n",
    "plt.plot(ridge10.coef_, '^', label=\"Ridge alpha=10\")\n",
    "plt.plot(ridge01.coef_, 'v', label=\"Ridge alpha=0.1\")\n",
    "\n",
    "plt.plot(lr.coef_, 'o', label=\"LinearRegression\")\n",
    "plt.xlabel(\"Coefficient index\")\n",
    "plt.ylabel(\"Coefficient magnitude\")\n",
    "xlims = plt.xlim()\n",
    "plt.hlines(0, xlims[0], xlims[1])\n",
    "plt.xlim(xlims)\n",
    "plt.ylim(-25, 25)\n",
    "plt.legend()"
   ]
  },
  {
   "cell_type": "code",
   "execution_count": 14,
   "metadata": {},
   "outputs": [
    {
     "data": {
      "text/markdown": [
       "**Lasso or L1 Regularization**"
      ],
      "text/plain": [
       "<IPython.core.display.Markdown object>"
      ]
     },
     "metadata": {},
     "output_type": "display_data"
    }
   ],
   "source": [
    "printbold(\"**Lasso or L1 Regularization**\")"
   ]
  },
  {
   "cell_type": "code",
   "execution_count": 15,
   "metadata": {},
   "outputs": [
    {
     "name": "stdout",
     "output_type": "stream",
     "text": [
      "Training Set Accuracy with 1 alpha:  0.29\n",
      "Test Set Accuracy: 0.21\n",
      "Number of features used: 4\n",
      "\n",
      "\n",
      "Training Set Accuracy with 0.01 alpha:  0.90\n",
      "Test Set Accuracy with 0.01 alpha: 0.77\n",
      "Number of features used with 0.01 alpha: 33\n",
      "\n",
      "\n",
      "Training Set Accuracy with 0.001 alpha:  0.95\n",
      "Test Set Accuracy with 0.001 alpha: 0.64\n",
      "Number of features used with 0.001 alpha: 94\n",
      "\n",
      "\n",
      "At alpha=1, most of variables are zero and only 4 variables been used. When we use alpha=0.01, model seems to give\n",
      "best result and only use 33 features out of 104. max_iter is the max number of iterations that has to be run.\n"
     ]
    }
   ],
   "source": [
    "from sklearn.linear_model import Lasso\n",
    "lasso = Lasso().fit(X_train, y_train)\n",
    "print(\"Training Set Accuracy with 1 alpha:  {:.2f}\".format(lasso.score(X_train, y_train)))\n",
    "print(\"Test Set Accuracy: {:.2f}\".format(lasso.score(X_test, y_test)))\n",
    "print(\"Number of features used: {}\".format(np.sum(lasso.coef_ !=0)))\n",
    "print(\"\\n\")\n",
    "\n",
    "lasso01 = Lasso(alpha=0.01, max_iter=100000).fit(X_train, y_train)\n",
    "print(\"Training Set Accuracy with 0.01 alpha:  {:.2f}\".format(lasso01.score(X_train, y_train)))\n",
    "print(\"Test Set Accuracy with 0.01 alpha: {:.2f}\".format(lasso01.score(X_test, y_test)))\n",
    "print(\"Number of features used with 0.01 alpha: {}\".format(np.sum(lasso01.coef_ !=0)))\n",
    "print(\"\\n\")\n",
    "\n",
    "lasso2 = Lasso(alpha=0.0001, max_iter=100000).fit(X_train, y_train)\n",
    "print(\"Training Set Accuracy with 0.001 alpha:  {:.2f}\".format(lasso2.score(X_train, y_train)))\n",
    "print(\"Test Set Accuracy with 0.001 alpha: {:.2f}\".format(lasso2.score(X_test, y_test)))\n",
    "print(\"Number of features used with 0.001 alpha: {}\".format(np.sum(lasso2.coef_ !=0)))\n",
    "\n",
    "print(\"\\n\")\n",
    "ok = \"\"\"At alpha=1, most of variables are zero and only 4 variables been used. When we use alpha=0.01, model seems to give\n",
    "best result and only use 33 features out of 104. max_iter is the max number of iterations that has to be run.\"\"\"\n",
    "print(ok)"
   ]
  },
  {
   "cell_type": "code",
   "execution_count": 16,
   "metadata": {},
   "outputs": [
    {
     "data": {
      "text/markdown": [
       "**Logistic Regression**"
      ],
      "text/plain": [
       "<IPython.core.display.Markdown object>"
      ]
     },
     "metadata": {},
     "output_type": "display_data"
    }
   ],
   "source": [
    "printbold(\"**Logistic Regression**\")"
   ]
  },
  {
   "cell_type": "code",
   "execution_count": 17,
   "metadata": {},
   "outputs": [
    {
     "name": "stdout",
     "output_type": "stream",
     "text": [
      "Training Set Score with default values: 0.96\n",
      "Test Set Score: 0.96\n",
      "\n",
      "\n",
      "Training Set Score with cost as 100: 0.97\n",
      "Test Set Score with cost as 100: 0.97\n",
      "\n",
      "\n",
      "Training Set Score with 0.01 cost: 0.93\n",
      "Test Set Score with 0.01 cost: 0.93\n",
      "\n",
      "\n",
      "By default logistic reg implements L2 regularization. Here C is the inverse of regularization strength. Means, lower\n",
      "th value of C, smaller would be the coefficients of variables. This regularization parameter is called alpha in regression\n",
      "and C in SVCClassfier and LogisticRegression.\n",
      "\n",
      "\n",
      "Training Set Score with cost as 100 with L1 regularization: 0.99\n",
      "Training Set Score with cost as 100 with L1 regularization: 0.98\n"
     ]
    }
   ],
   "source": [
    "from sklearn.datasets import load_breast_cancer\n",
    "from sklearn.model_selection import train_test_split\n",
    "cancer = load_breast_cancer()\n",
    "X_train, X_test, y_train, y_test = train_test_split(cancer.data, cancer.target, stratify=cancer.target, random_state=42)\n",
    "\n",
    "from sklearn.linear_model import LogisticRegression\n",
    "logreg = LogisticRegression().fit(X_train, y_train)\n",
    "print(\"Training Set Score with default values: {:.2f}\".format(logreg.score(X_train, y_train)))\n",
    "print(\"Test Set Score: {:.2f}\".format(logreg.score(X_test, y_test)))\n",
    "print(\"\\n\")\n",
    "\n",
    "logreg100 = LogisticRegression(C=100).fit(X_train, y_train)\n",
    "print(\"Training Set Score with cost as 100: {:.2f}\".format(logreg100.score(X_train, y_train)))\n",
    "print(\"Test Set Score with cost as 100: {:.2f}\".format(logreg100.score(X_test, y_test)))\n",
    "print(\"\\n\")\n",
    "\n",
    "logreg01 = LogisticRegression(C=0.01).fit(X_train, y_train)\n",
    "print(\"Training Set Score with 0.01 cost: {:.2f}\".format(logreg01.score(X_train, y_train)))\n",
    "print(\"Test Set Score with 0.01 cost: {:.2f}\".format(logreg01.score(X_test, y_test)))\n",
    "print(\"\\n\")\n",
    "\n",
    "ok = \"\"\"By default logistic reg implements L2 regularization. Here C is the inverse of regularization strength. Means, lower\n",
    "th value of C, smaller would be the coefficients of variables. This regularization parameter is called alpha in regression\n",
    "and C in SVCClassfier and LogisticRegression.\"\"\"\n",
    "print(ok)\n",
    "\n",
    "print(\"\\n\")\n",
    "# Same model with now L1 regularization\n",
    "logregL1 = LogisticRegression(C=100, penalty='l1').fit(X_train, y_train)\n",
    "print(\"Training Set Score with cost as 100 with L1 regularization: {:.2f}\".format(logregL1.score(X_train, y_train)))\n",
    "print(\"Training Set Score with cost as 100 with L1 regularization: {:.2f}\".format(logregL1.score(X_test, y_test)))"
   ]
  },
  {
   "cell_type": "code",
   "execution_count": 18,
   "metadata": {},
   "outputs": [],
   "source": [
    "# Method chaining. We can fit and predict a model in one line itself\n",
    "\n",
    "logreg = LogisticRegression()\n",
    "y_pred = logreg.fit(X_train, y_train).predict(X_test)\n",
    "# or THis works as well\n",
    "y_pred = LogisticRegression().fit(X_train, y_train).predict(X_test)"
   ]
  },
  {
   "cell_type": "code",
   "execution_count": 19,
   "metadata": {},
   "outputs": [
    {
     "data": {
      "text/markdown": [
       "**Decision Tree**"
      ],
      "text/plain": [
       "<IPython.core.display.Markdown object>"
      ]
     },
     "metadata": {},
     "output_type": "display_data"
    }
   ],
   "source": [
    "printbold(\"**Decision Tree**\")"
   ]
  },
  {
   "cell_type": "code",
   "execution_count": 35,
   "metadata": {},
   "outputs": [
    {
     "name": "stdout",
     "output_type": "stream",
     "text": [
      "Accuracy on train set: 1.000\n",
      "Accuracy on the test set: 0.937\n",
      "\n",
      "\n",
      "As we can see, the tree has been overfit in the training data as we havent done any pr-pruning. Lets set its max\n",
      "depth. Max_depth is the consecutive questions that can be asked. Read the corresponding notes for more on pruning\n",
      "\n",
      "\n",
      "Accuracy on training set: 0.988\n",
      "Accuracy on test set: 0.951\n"
     ]
    }
   ],
   "source": [
    "from sklearn.tree import DecisionTreeClassifier\n",
    "from sklearn.datasets import load_breast_cancer\n",
    "cancer = load_breast_cancer()\n",
    "X_train, X_test, y_train, y_test = train_test_split(cancer.data, cancer.target, stratify= cancer.target, random_state=42)\n",
    "tree1 = DecisionTreeClassifier(random_state=0)\n",
    "tree1.fit(X_train, y_train)\n",
    "print(\"Accuracy on train set: {:.3f}\".format(tree1.score(X_train, y_train)))\n",
    "print(\"Accuracy on the test set: {:.3f}\".format(tree1.score(X_test, y_test)))\n",
    "\n",
    "print(\"\\n\")\n",
    "ok = \"\"\"As we can see, the tree has been overfit in the training data as we havent done any pr-pruning. Lets set its max\n",
    "depth. Max_depth is the consecutive questions that can be asked. Read the corresponding prep notes for more on pruning\"\"\"\n",
    "print(ok)\n",
    "print(\"\\n\")\n",
    "\n",
    "tree = DecisionTreeClassifier(max_depth=4, random_state=0)\n",
    "tree.fit(X_train, y_train)\n",
    "print(\"Accuracy on training set: {:.3f}\".format(tree.score(X_train, y_train)))\n",
    "print(\"Accuracy on test set: {:.3f}\".format(tree.score(X_test, y_test)))\n",
    "\n"
   ]
  },
  {
   "cell_type": "code",
   "execution_count": 34,
   "metadata": {},
   "outputs": [
    {
     "name": "stdout",
     "output_type": "stream",
     "text": [
      "Feature importance(s) of the tree\n",
      "Feature importances:\n",
      "[0.         0.         0.         0.         0.         0.\n",
      " 0.         0.         0.         0.         0.01019737 0.04839825\n",
      " 0.         0.         0.0024156  0.         0.         0.\n",
      " 0.         0.         0.72682851 0.0458159  0.         0.\n",
      " 0.0141577  0.         0.018188   0.1221132  0.01188548 0.        ]\n"
     ]
    },
    {
     "data": {
      "image/png": "[encoded data removed]",
      "text/plain": [
       "<Figure size 432x288 with 1 Axes>"
      ]
     },
     "metadata": {},
     "output_type": "display_data"
    }
   ],
   "source": [
    "ok = \"\"\"Feature importance(s) of the tree\"\"\"\n",
    "print(ok)\n",
    "print(\"Feature importances:\\n{}\".format(tree.feature_importances_))\n",
    "\n",
    "def plot_feature_importances_cancer(model):\n",
    "    n_features = cancer.data.shape[1]\n",
    "    plt.barh(range(n_features), model.feature_importances_, align='center')\n",
    "    plt.yticks(np.arange(n_features), cancer.feature_names)\n",
    "    plt.xlabel(\"Feature importance\")\n",
    "    plt.ylabel(\"Feature\")\n",
    "    plt.ylim(-1, n_features)\n",
    "\n",
    "plot_feature_importances_cancer(tree)\n"
   ]
  },
  {
   "cell_type": "code",
   "execution_count": 36,
   "metadata": {},
   "outputs": [
    {
     "data": {
      "text/markdown": [
       "**Random Forest Algorithm**"
      ],
      "text/plain": [
       "<IPython.core.display.Markdown object>"
      ]
     },
     "metadata": {},
     "output_type": "display_data"
    }
   ],
   "source": [
    "printbold(\"**Random Forest Algorithm**\")"
   ]
  },
  {
   "cell_type": "code",
   "execution_count": 43,
   "metadata": {},
   "outputs": [
    {
     "name": "stdout",
     "output_type": "stream",
     "text": [
      "The random forest gives us an accuracy of 97%, better than the linear models or a single decision tree, without\n",
      "tuning any parameters. We could adjust the max_fea tures setting, or apply pre-pruning as we did for the single decision\n",
      "tree. However, often the default parameters of the random forest already work quite well.\n",
      "\n",
      "\n",
      "Accuracy on training set: 1.000\n",
      "Accuracy on test set: 0.972\n",
      "\n",
      "\n"
     ]
    },
    {
     "data": {
      "image/png": "[encoded data removed]",
      "text/plain": [
       "<Figure size 432x288 with 1 Axes>"
      ]
     },
     "metadata": {},
     "output_type": "display_data"
    }
   ],
   "source": [
    "ok= \"\"\"The random forest gives us an accuracy of 97%, better than the linear models or a single decision tree, without\n",
    "tuning any parameters. We could adjust the max_fea tures setting, or apply pre-pruning as we did for the single decision\n",
    "tree. However, often the default parameters of the random forest already work quite well.\"\"\"\n",
    "print(ok)\n",
    "print(\"\\n\")\n",
    "from sklearn.ensemble import RandomForestClassifier\n",
    "X_train, X_test, y_train, y_test = train_test_split(cancer.data, cancer.target, random_state=0)\n",
    "forest = RandomForestClassifier(n_estimators=100, n_jobs=-1, random_state=0)\n",
    "forest.fit(X_train, y_train)\n",
    "print(\"Accuracy on training set: {:.3f}\".format(forest.score(X_train, y_train)))\n",
    "print(\"Accuracy on test set: {:.3f}\".format(forest.score(X_test, y_test)))\n",
    "\n",
    "print(\"\\n\")\n",
    "plot_feature_importances_cancer(forest)\n"
   ]
  },
  {
   "cell_type": "code",
   "execution_count": 44,
   "metadata": {},
   "outputs": [
    {
     "data": {
      "text/markdown": [
       "**Gradient Boosting Machine**"
      ],
      "text/plain": [
       "<IPython.core.display.Markdown object>"
      ]
     },
     "metadata": {},
     "output_type": "display_data"
    }
   ],
   "source": [
    "printbold(\"**Gradient Boosting Machine**\")"
   ]
  },
  {
   "cell_type": "code",
   "execution_count": 46,
   "metadata": {},
   "outputs": [
    {
     "name": "stdout",
     "output_type": "stream",
     "text": [
      "By default, 100 trees of maximum depth 3 and a learning rate of 0.1 are used. As the training set accuracy is 100%,\n",
      "we are likely to be overfitting. To reduce overfitting, we could either apply stronger pre-pruning by limiting the maximum\n",
      "depth or lower the learning rate\n",
      "\n",
      "\n",
      "Accuracy on training set: 1.000\n",
      "Accuracy on test set: 0.958\n"
     ]
    }
   ],
   "source": [
    "ok = \"\"\"By default, 100 trees of maximum depth 3 and a learning rate of 0.1 are used. As the training set accuracy is 100%,\n",
    "we are likely to be overfitting. To reduce overfitting, we could either apply stronger pre-pruning by limiting the maximum\n",
    "depth or lower the learning rate\"\"\"\n",
    "print(ok)\n",
    "print(\"\\n\")\n",
    "from sklearn.ensemble import GradientBoostingClassifier\n",
    "X_train, X_test, y_train, y_test = train_test_split(\n",
    "cancer.data, cancer.target, random_state=0)\n",
    "gbrt = GradientBoostingClassifier(random_state=0)\n",
    "gbrt.fit(X_train, y_train)\n",
    "print(\"Accuracy on training set: {:.3f}\".format(gbrt.score(X_train, y_train)))\n",
    "print(\"Accuracy on test set: {:.3f}\".format(gbrt.score(X_test, y_test)))"
   ]
  },
  {
   "cell_type": "code",
   "execution_count": 50,
   "metadata": {},
   "outputs": [
    {
     "name": "stdout",
     "output_type": "stream",
     "text": [
      "With a lower learning rate, we need to make higher no. of trees so that gbm is able to fit better. Generally,\n",
      "n_estimtors is decided and then search over diff learning rates. max_depth (max_leaf_nodes)is usually 1-5. \n",
      "\n",
      "\n",
      "Accuracy on training set with max_depth of 1: 0.991\n",
      "Accuracy on test set with max_depth of 1: 0.972\n",
      "\n",
      "\n",
      "Accuracy on training set with learning rate of 0.01: 0.988\n",
      "Accuracy on test set with learning rate of 0.01: 0.965\n"
     ]
    },
    {
     "data": {
      "image/png": "[encoded data removed]",
      "text/plain": [
       "<Figure size 432x288 with 1 Axes>"
      ]
     },
     "metadata": {},
     "output_type": "display_data"
    }
   ],
   "source": [
    "ok = \"\"\"With a lower learning rate, we need to make higher no. of trees so that gbm is able to fit better. Generally,\n",
    "n_estimtors is decided and then search over diff learning rates. max_depth (max_leaf_nodes)is usually 1-5. \"\"\"\n",
    "print(ok)\n",
    "print(\"\\n\")\n",
    "gbrt = GradientBoostingClassifier(random_state=0, max_depth=1)\n",
    "gbrt.fit(X_train, y_train)\n",
    "print(\"Accuracy on training set with max_depth of 1: {:.3f}\".format(gbrt.score(X_train, y_train)))\n",
    "print(\"Accuracy on test set with max_depth of 1: {:.3f}\".format(gbrt.score(X_test, y_test)))\n",
    "print(\"\\n\")\n",
    "\n",
    "gbrt1 = GradientBoostingClassifier(random_state=0, learning_rate=0.01)\n",
    "gbrt1.fit(X_train, y_train)\n",
    "print(\"Accuracy on training set with learning rate of 0.01: {:.3f}\".format(gbrt1.score(X_train, y_train)))\n",
    "print(\"Accuracy on test set with learning rate of 0.01: {:.3f}\".format(gbrt1.score(X_test, y_test)))\n",
    "plot_feature_importances_cancer(gbrt1)"
   ]
  },
  {
   "cell_type": "code",
   "execution_count": 51,
   "metadata": {},
   "outputs": [
    {
     "data": {
      "text/markdown": [
       "**Kernel Support Vector Machine**"
      ],
      "text/plain": [
       "<IPython.core.display.Markdown object>"
      ]
     },
     "metadata": {},
     "output_type": "display_data"
    }
   ],
   "source": [
    "printbold(\"**Kernel Support Vector Machine**\")"
   ]
  },
  {
   "cell_type": "code",
   "execution_count": 54,
   "metadata": {},
   "outputs": [
    {
     "name": "stdout",
     "output_type": "stream",
     "text": [
      "Such bad results on test set beause input features have diff magnitude of order. some are in 10s, others 1000s.\n",
      "We need to scale and normalize the data. we can do this using MinMaxScaler.\n",
      "Accuracy on training set: 1.00\n",
      "Accuracy on test set: 0.63\n"
     ]
    },
    {
     "data": {
      "text/plain": [
       "Text(0,0.5,'Feature magnitude')"
      ]
     },
     "execution_count": 54,
     "metadata": {},
     "output_type": "execute_result"
    },
    {
     "data": {
      "image/png": "[encoded data removed]",
      "text/plain": [
       "<Figure size 432x288 with 1 Axes>"
      ]
     },
     "metadata": {},
     "output_type": "display_data"
    }
   ],
   "source": [
    "ok = \"\"\"Such bad results on test set beause input features have diff magnitude of order. some are in 10s, others 1000s.\n",
    "We need to scale the data to have similar range. we can do this using MinMaxScaler.\"\"\"\n",
    "print(ok)\n",
    "\n",
    "from sklearn.svm import SVC\n",
    "X_train, X_test, y_train, y_test = train_test_split(\n",
    "    cancer.data, cancer.target, random_state=0)\n",
    "svc = SVC()\n",
    "svc.fit(X_train, y_train)\n",
    "\n",
    "print(\"Accuracy on training set: {:.2f}\".format(svc.score(X_train, y_train)))\n",
    "print(\"Accuracy on test set: {:.2f}\".format(svc.score(X_test, y_test)))\n",
    "\n",
    "\n",
    "\n",
    "plt.boxplot(X_train, manage_xticks=False)\n",
    "plt.yscale(\"symlog\")\n",
    "plt.xlabel(\"Feature index\")\n",
    "plt.ylabel(\"Feature magnitude\")\n",
    "\n"
   ]
  },
  {
   "cell_type": "code",
   "execution_count": 56,
   "metadata": {},
   "outputs": [
    {
     "name": "stdout",
     "output_type": "stream",
     "text": [
      "Minimum for each feature\n",
      "[0. 0. 0. 0. 0. 0. 0. 0. 0. 0. 0. 0. 0. 0. 0. 0. 0. 0. 0. 0. 0. 0. 0. 0.\n",
      " 0. 0. 0. 0. 0. 0.]\n",
      "Maximum for each feature\n",
      " [1. 1. 1. 1. 1. 1. 1. 1. 1. 1. 1. 1. 1. 1. 1. 1. 1. 1. 1. 1. 1. 1. 1. 1.\n",
      " 1. 1. 1. 1. 1. 1.]\n",
      "\n",
      "\n",
      "Accuracy on training set with trasformed data: 0.948\n",
      "Accuracy on test set with trasformed data: 0.951\n",
      "\n",
      "\n",
      "Accuracy on training set with trasformed data and C=100: 0.988\n",
      "Accuracy on test set with trasformed data and C=100: 0.972\n"
     ]
    }
   ],
   "source": [
    "\n",
    "# Compute the minimum value per feature on the training set\n",
    "min_on_training = X_train.min(axis=0)\n",
    "# Compute the range of each feature (max - min) on the training set\n",
    "range_on_training = (X_train - min_on_training).max(axis=0)\n",
    "\n",
    "# subtract the min, divide by range. afterward, min=0 and max=1 for each feature\n",
    "X_train_scaled = (X_train - min_on_training) / range_on_training\n",
    "print(\"Minimum for each feature\\n{}\".format(X_train_scaled.min(axis=0)))\n",
    "print(\"Maximum for each feature\\n {}\".format(X_train_scaled.max(axis=0)))\n",
    "print(\"\\n\")\n",
    "\n",
    "# use THE SAME transformation on the test set,using min and range of the training set. See Chapter 3 (next) for details.\n",
    "X_test_scaled = (X_test - min_on_training) / range_on_training\n",
    "\n",
    "svc = SVC()\n",
    "svc.fit(X_train_scaled, y_train)\n",
    "\n",
    "print(\"Accuracy on training set with scaled data: {:.3f}\".format(svc.score(X_train_scaled, y_train)))\n",
    "print(\"Accuracy on test set with scaled data: {:.3f}\".format(svc.score(X_test_scaled, y_test)))\n",
    "print(\"\\n\")\n",
    "\n",
    "\n",
    "svc = SVC(C=1000)\n",
    "svc.fit(X_train_scaled, y_train)\n",
    "print(\"Accuracy on training set with scaled data and C=100: {:.3f}\".format(svc.score(X_train_scaled, y_train)))\n",
    "print(\"Accuracy on test set with scaled data and C=100: {:.3f}\".format(svc.score(X_test_scaled, y_test)))\n",
    "\n"
   ]
  },
  {
   "cell_type": "code",
   "execution_count": 57,
   "metadata": {},
   "outputs": [
    {
     "data": {
      "text/markdown": [
       "**Neural Networks**"
      ],
      "text/plain": [
       "<IPython.core.display.Markdown object>"
      ]
     },
     "metadata": {},
     "output_type": "display_data"
    }
   ],
   "source": [
    "printbold(\"**Neural Networks**\")"
   ]
  },
  {
   "cell_type": "code",
   "execution_count": 64,
   "metadata": {},
   "outputs": [
    {
     "name": "stdout",
     "output_type": "stream",
     "text": [
      "Cancer data per-feature maxima:\n",
      "[2.811e+01 3.928e+01 1.885e+02 2.501e+03 1.634e-01 3.454e-01 4.268e-01\n",
      " 2.012e-01 3.040e-01 9.744e-02 2.873e+00 4.885e+00 2.198e+01 5.422e+02\n",
      " 3.113e-02 1.354e-01 3.960e-01 5.279e-02 7.895e-02 2.984e-02 3.604e+01\n",
      " 4.954e+01 2.512e+02 4.254e+03 2.226e-01 1.058e+00 1.252e+00 2.910e-01\n",
      " 6.638e-01 2.075e-01]\n",
      "\n",
      "\n",
      "Accuracy on training set w/o data being scaled: 0.91\n",
      "Accuracy on test set w/o data being scaled: 0.88\n",
      "\n",
      "Scaling the data then applying MLP\n"
     ]
    },
    {
     "name": "stderr",
     "output_type": "stream",
     "text": [
      "C:\\Users\\TheJuniorLebowski\\Anaconda3\\lib\\site-packages\\sklearn\\neural_network\\multilayer_perceptron.py:564: ConvergenceWarning: Stochastic Optimizer: Maximum iterations (200) reached and the optimization hasn't converged yet.\n",
      "  % self.max_iter, ConvergenceWarning)\n"
     ]
    },
    {
     "name": "stdout",
     "output_type": "stream",
     "text": [
      "Accuracy on scaled training set: 0.991\n",
      "Accuracy on scaled test set: 0.965\n",
      "\n",
      "We increase the max_iteration so that model is able to merge as given warning in last trained model.\n",
      "Accuracy on training set: 0.993\n",
      "Accuracy on test set: 0.972\n",
      "\n",
      "Here we choose regularization param alpha quite aggressiely; from 0.0001 to 1 now\n",
      "Accuracy on training set: 0.988\n",
      "Accuracy on test set: 0.972\n"
     ]
    }
   ],
   "source": [
    "\n",
    "from sklearn.neural_network import MLPClassifier\n",
    "print(\"Cancer data per-feature maxima:\\n{}\".format(cancer.data.max(axis=0)))\n",
    "print(\"\\n\")\n",
    "X_train, X_test, y_train, y_test = train_test_split(\n",
    "cancer.data, cancer.target, random_state=0)\n",
    "mlp = MLPClassifier(random_state=42)\n",
    "mlp.fit(X_train, y_train)\n",
    "print(\"Accuracy on training set w/o data being scaled: {:.2f}\".format(mlp.score(X_train, y_train)))\n",
    "print(\"Accuracy on test set w/o data being scaled: {:.2f}\".format(mlp.score(X_test, y_test)))\n",
    "\n",
    "\n",
    "\n",
    "print(\"\\nScaling the data then applying MLP\")\n",
    "# compute the mean value per feature on the training set\n",
    "mean_on_train = X_train.mean(axis=0)\n",
    "# compute the standard deviation of each feature on the training set\n",
    "std_on_train = X_train.std(axis=0)\n",
    "\n",
    "# subtract the mean, and scale by inverse standard deviation. afterward, mean=0 and std=1\n",
    "X_train_scaled = (X_train - mean_on_train) / std_on_train\n",
    "# use THE SAME transformation (using training mean and std) on the test set\n",
    "X_test_scaled = (X_test - mean_on_train) / std_on_train\n",
    "\n",
    "mlp = MLPClassifier(random_state=0)\n",
    "mlp.fit(X_train_scaled, y_train)\n",
    "\n",
    "print(\"Accuracy on scaled training set: {:.3f}\".format(mlp.score(X_train_scaled, y_train)))\n",
    "print(\"Accuracy on scaled test set: {:.3f}\".format(mlp.score(X_test_scaled, y_test)))\n",
    "\n",
    "print(\"\\nWe increase the max_iteration so that model is able to merge as given warning in last trained model.\")\n",
    "mlp_iter = MLPClassifier(max_iter=1000, random_state=0)\n",
    "mlp_iter.fit(X_train_scaled, y_train)\n",
    "print(\"Accuracy on training set: {:.3f}\".format(mlp_iter.score(X_train_scaled, y_train)))\n",
    "print(\"Accuracy on test set: {:.3f}\".format(mlp_iter.score(X_test_scaled, y_test)))\n",
    "\n",
    "print(\"\\nHere we choose regularization param alpha quite aggressiely; from 0.0001 to 1 now\")\n",
    "mlp = MLPClassifier(max_iter=1000, alpha=1, random_state=0)\n",
    "mlp.fit(X_train_scaled, y_train)\n",
    "print(\"Accuracy on training set: {:.3f}\".format(mlp.score(X_train_scaled, y_train)))\n",
    "print(\"Accuracy on test set: {:.3f}\".format(mlp.score(X_test_scaled, y_test)))"
   ]
  },
  {
   "cell_type": "code",
   "execution_count": null,
   "metadata": {},
   "outputs": [],
   "source": []
  }
 ],
 "metadata": {
  "kernelspec": {
   "display_name": "Python 3",
   "language": "python",
   "name": "python3"
  },
  "language_info": {
   "codemirror_mode": {
    "name": "ipython",
    "version": 3
   },
   "file_extension": ".py",
   "mimetype": "text/x-python",
   "name": "python",
   "nbconvert_exporter": "python",
   "pygments_lexer": "ipython3",
   "version": "3.6.5"
  }
 },
 "nbformat": 4,
 "nbformat_minor": 2
}
